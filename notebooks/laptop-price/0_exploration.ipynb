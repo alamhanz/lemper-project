{
 "cells": [
  {
   "cell_type": "markdown",
   "id": "d869db38-4017-4718-a003-070a8e848b11",
   "metadata": {},
   "source": [
    "# Exploration Part\n",
    "\n",
    "This is the beginning of Lemper Project. \n",
    "\n",
    "Lemper Project Problem :\n",
    "\n",
    "    How to predict the Laptop Price?\n",
    "\n",
    "This part contains the data exploration before we decide how to solve the problem."
   ]
  },
  {
   "cell_type": "code",
   "execution_count": 5,
   "id": "f98cd8ce-33f6-488e-b24e-98602317a9ea",
   "metadata": {},
   "outputs": [],
   "source": [
    "import pandas as pd\n",
    "import numpy as np\n",
    "import seaborn as sns\n",
    "import matplotlib.pyplot as plt\n",
    "import os"
   ]
  },
  {
   "cell_type": "code",
   "execution_count": 2,
   "id": "345f3da7-e204-4d50-8678-9672977197ad",
   "metadata": {},
   "outputs": [],
   "source": [
    "PATH_DATA = '../../data/laptop_price/'"
   ]
  },
  {
   "cell_type": "code",
   "execution_count": null,
   "id": "a7fcbb20-37f5-458e-a808-2ac775cff988",
   "metadata": {},
   "outputs": [],
   "source": []
  },
  {
   "cell_type": "markdown",
   "id": "1c32bd29-9adf-4a58-a747-da5a05d6007b",
   "metadata": {},
   "source": [
    "## Get The Data"
   ]
  },
  {
   "cell_type": "code",
   "execution_count": 10,
   "id": "e18ecb4b-be51-4122-b507-151740494a81",
   "metadata": {},
   "outputs": [],
   "source": [
    "df_raw = pd.read_csv(PATH_DATA + 'laptop_price.csv')"
   ]
  },
  {
   "cell_type": "code",
   "execution_count": 11,
   "id": "b71e0fc8-66a9-4984-b2e7-212d1d85bfde",
   "metadata": {},
   "outputs": [
    {
     "data": {
      "text/html": [
       "<div>\n",
       "<style scoped>\n",
       "    .dataframe tbody tr th:only-of-type {\n",
       "        vertical-align: middle;\n",
       "    }\n",
       "\n",
       "    .dataframe tbody tr th {\n",
       "        vertical-align: top;\n",
       "    }\n",
       "\n",
       "    .dataframe thead th {\n",
       "        text-align: right;\n",
       "    }\n",
       "</style>\n",
       "<table border=\"1\" class=\"dataframe\">\n",
       "  <thead>\n",
       "    <tr style=\"text-align: right;\">\n",
       "      <th></th>\n",
       "      <th>laptop_ID</th>\n",
       "      <th>Company</th>\n",
       "      <th>Product</th>\n",
       "      <th>TypeName</th>\n",
       "      <th>Inches</th>\n",
       "      <th>ScreenResolution</th>\n",
       "      <th>Cpu</th>\n",
       "      <th>Ram</th>\n",
       "      <th>Memory</th>\n",
       "      <th>Gpu</th>\n",
       "      <th>OpSys</th>\n",
       "      <th>Weight</th>\n",
       "      <th>Price_euros</th>\n",
       "    </tr>\n",
       "  </thead>\n",
       "  <tbody>\n",
       "    <tr>\n",
       "      <th>0</th>\n",
       "      <td>1</td>\n",
       "      <td>Apple</td>\n",
       "      <td>MacBook Pro</td>\n",
       "      <td>Ultrabook</td>\n",
       "      <td>13.3</td>\n",
       "      <td>IPS Panel Retina Display 2560x1600</td>\n",
       "      <td>Intel Core i5 2.3GHz</td>\n",
       "      <td>8GB</td>\n",
       "      <td>128GB SSD</td>\n",
       "      <td>Intel Iris Plus Graphics 640</td>\n",
       "      <td>macOS</td>\n",
       "      <td>1.37kg</td>\n",
       "      <td>1339.69</td>\n",
       "    </tr>\n",
       "    <tr>\n",
       "      <th>1</th>\n",
       "      <td>2</td>\n",
       "      <td>Apple</td>\n",
       "      <td>Macbook Air</td>\n",
       "      <td>Ultrabook</td>\n",
       "      <td>13.3</td>\n",
       "      <td>1440x900</td>\n",
       "      <td>Intel Core i5 1.8GHz</td>\n",
       "      <td>8GB</td>\n",
       "      <td>128GB Flash Storage</td>\n",
       "      <td>Intel HD Graphics 6000</td>\n",
       "      <td>macOS</td>\n",
       "      <td>1.34kg</td>\n",
       "      <td>898.94</td>\n",
       "    </tr>\n",
       "    <tr>\n",
       "      <th>2</th>\n",
       "      <td>3</td>\n",
       "      <td>HP</td>\n",
       "      <td>250 G6</td>\n",
       "      <td>Notebook</td>\n",
       "      <td>15.6</td>\n",
       "      <td>Full HD 1920x1080</td>\n",
       "      <td>Intel Core i5 7200U 2.5GHz</td>\n",
       "      <td>8GB</td>\n",
       "      <td>256GB SSD</td>\n",
       "      <td>Intel HD Graphics 620</td>\n",
       "      <td>No OS</td>\n",
       "      <td>1.86kg</td>\n",
       "      <td>575.00</td>\n",
       "    </tr>\n",
       "    <tr>\n",
       "      <th>3</th>\n",
       "      <td>4</td>\n",
       "      <td>Apple</td>\n",
       "      <td>MacBook Pro</td>\n",
       "      <td>Ultrabook</td>\n",
       "      <td>15.4</td>\n",
       "      <td>IPS Panel Retina Display 2880x1800</td>\n",
       "      <td>Intel Core i7 2.7GHz</td>\n",
       "      <td>16GB</td>\n",
       "      <td>512GB SSD</td>\n",
       "      <td>AMD Radeon Pro 455</td>\n",
       "      <td>macOS</td>\n",
       "      <td>1.83kg</td>\n",
       "      <td>2537.45</td>\n",
       "    </tr>\n",
       "    <tr>\n",
       "      <th>4</th>\n",
       "      <td>5</td>\n",
       "      <td>Apple</td>\n",
       "      <td>MacBook Pro</td>\n",
       "      <td>Ultrabook</td>\n",
       "      <td>13.3</td>\n",
       "      <td>IPS Panel Retina Display 2560x1600</td>\n",
       "      <td>Intel Core i5 3.1GHz</td>\n",
       "      <td>8GB</td>\n",
       "      <td>256GB SSD</td>\n",
       "      <td>Intel Iris Plus Graphics 650</td>\n",
       "      <td>macOS</td>\n",
       "      <td>1.37kg</td>\n",
       "      <td>1803.60</td>\n",
       "    </tr>\n",
       "  </tbody>\n",
       "</table>\n",
       "</div>"
      ],
      "text/plain": [
       "   laptop_ID Company      Product   TypeName  Inches  \\\n",
       "0          1   Apple  MacBook Pro  Ultrabook    13.3   \n",
       "1          2   Apple  Macbook Air  Ultrabook    13.3   \n",
       "2          3      HP       250 G6   Notebook    15.6   \n",
       "3          4   Apple  MacBook Pro  Ultrabook    15.4   \n",
       "4          5   Apple  MacBook Pro  Ultrabook    13.3   \n",
       "\n",
       "                     ScreenResolution                         Cpu   Ram  \\\n",
       "0  IPS Panel Retina Display 2560x1600        Intel Core i5 2.3GHz   8GB   \n",
       "1                            1440x900        Intel Core i5 1.8GHz   8GB   \n",
       "2                   Full HD 1920x1080  Intel Core i5 7200U 2.5GHz   8GB   \n",
       "3  IPS Panel Retina Display 2880x1800        Intel Core i7 2.7GHz  16GB   \n",
       "4  IPS Panel Retina Display 2560x1600        Intel Core i5 3.1GHz   8GB   \n",
       "\n",
       "                Memory                           Gpu  OpSys  Weight  \\\n",
       "0            128GB SSD  Intel Iris Plus Graphics 640  macOS  1.37kg   \n",
       "1  128GB Flash Storage        Intel HD Graphics 6000  macOS  1.34kg   \n",
       "2            256GB SSD         Intel HD Graphics 620  No OS  1.86kg   \n",
       "3            512GB SSD            AMD Radeon Pro 455  macOS  1.83kg   \n",
       "4            256GB SSD  Intel Iris Plus Graphics 650  macOS  1.37kg   \n",
       "\n",
       "   Price_euros  \n",
       "0      1339.69  \n",
       "1       898.94  \n",
       "2       575.00  \n",
       "3      2537.45  \n",
       "4      1803.60  "
      ]
     },
     "execution_count": 11,
     "metadata": {},
     "output_type": "execute_result"
    }
   ],
   "source": [
    "df_raw.head()"
   ]
  },
  {
   "cell_type": "code",
   "execution_count": 12,
   "id": "cdd4e701-09c6-4961-8481-b2a26d5e3b97",
   "metadata": {},
   "outputs": [
    {
     "data": {
      "text/plain": [
       "(1303, 13)"
      ]
     },
     "execution_count": 12,
     "metadata": {},
     "output_type": "execute_result"
    }
   ],
   "source": [
    "df_raw.shape"
   ]
  },
  {
   "cell_type": "code",
   "execution_count": 20,
   "id": "a641639d-f00c-4e79-9789-d1969f6f014b",
   "metadata": {},
   "outputs": [],
   "source": [
    "### predictor\n",
    "col_num = ['Inches','Weight','Ram'] ## -->pure numbers\n",
    "col_cat = ['Company','Product','TypeName','OpSys'] ## --> categorical\n",
    "col_campuran = ['ScreenResolution','Cpu','Memory','Gpu'] ## --> bisa diparsing\n",
    "other_cols = list(set(df_raw.columns)-set(col_num+col_cat+col_campuran)) ## --> others"
   ]
  },
  {
   "cell_type": "code",
   "execution_count": 21,
   "id": "fe7c41cf-a33d-4e48-8b2a-6ecdbcacd21a",
   "metadata": {},
   "outputs": [
    {
     "data": {
      "text/plain": [
       "['Price_euros', 'laptop_ID']"
      ]
     },
     "execution_count": 21,
     "metadata": {},
     "output_type": "execute_result"
    }
   ],
   "source": [
    "other_cols"
   ]
  },
  {
   "cell_type": "code",
   "execution_count": 22,
   "id": "70339206-506f-46d8-b662-631b32a24020",
   "metadata": {},
   "outputs": [],
   "source": [
    "## Predictor --> column2 / feature2 yang digunakan untuk memprediksi"
   ]
  },
  {
   "cell_type": "code",
   "execution_count": 23,
   "id": "5c7db2a5-cc9e-468d-a5eb-8b50f9c8e4fb",
   "metadata": {},
   "outputs": [],
   "source": [
    "col_target = ['Price_euros']"
   ]
  },
  {
   "cell_type": "code",
   "execution_count": null,
   "id": "d1aa8d68-cadb-4ddf-9b43-3469b5a08613",
   "metadata": {},
   "outputs": [],
   "source": []
  },
  {
   "cell_type": "markdown",
   "id": "28afe19b-e08e-4349-82c7-05aaef61daff",
   "metadata": {},
   "source": [
    "## Target Distribution\n",
    "\n",
    "Regresi atau Classification?"
   ]
  },
  {
   "cell_type": "code",
   "execution_count": 27,
   "id": "3bcb8611-def7-498a-9e4b-dd466cd2350c",
   "metadata": {},
   "outputs": [
    {
     "name": "stderr",
     "output_type": "stream",
     "text": [
      "C:\\Users\\amoza\\anaconda3\\envs\\droid1\\lib\\site-packages\\seaborn\\distributions.py:2619: FutureWarning: `distplot` is a deprecated function and will be removed in a future version. Please adapt your code to use either `displot` (a figure-level function with similar flexibility) or `histplot` (an axes-level function for histograms).\n",
      "  warnings.warn(msg, FutureWarning)\n"
     ]
    },
    {
     "data": {
      "image/png": "[encoded data removed]",
      "text/plain": [
       "<Figure size 640x480 with 1 Axes>"
      ]
     },
     "metadata": {},
     "output_type": "display_data"
    }
   ],
   "source": [
    "sns.distplot(df_raw[col_target])\n",
    "plt.show()"
   ]
  },
  {
   "cell_type": "code",
   "execution_count": null,
   "id": "cad5aed3-d315-45cd-ba7e-8b33ebaf6cd3",
   "metadata": {},
   "outputs": [],
   "source": []
  },
  {
   "cell_type": "markdown",
   "id": "c7eea1a7-2ae9-4a03-b373-1548dc173471",
   "metadata": {},
   "source": [
    "## Numerical Columns"
   ]
  },
  {
   "cell_type": "code",
   "execution_count": 37,
   "id": "37a24ffb-ac73-4f06-85ef-9ae8c64b9c44",
   "metadata": {},
   "outputs": [],
   "source": [
    "def clean_measure(x):\n",
    "    try:\n",
    "        x1 = float(x)\n",
    "    except:\n",
    "        x1 = x.replace('kg','')\n",
    "        x1 = x1.replace('GB','')\n",
    "        x1 = float(x1)\n",
    "        \n",
    "    return x1"
   ]
  },
  {
   "cell_type": "code",
   "execution_count": 38,
   "id": "e36b2945-6b03-4d6d-a847-d853f1bb6edf",
   "metadata": {},
   "outputs": [
    {
     "data": {
      "text/plain": [
       "['Inches', 'Weight', 'Ram']"
      ]
     },
     "execution_count": 38,
     "metadata": {},
     "output_type": "execute_result"
    }
   ],
   "source": [
    "col_num"
   ]
  },
  {
   "cell_type": "code",
   "execution_count": 39,
   "id": "9bde32b0-3756-4765-91cc-9b3a11253094",
   "metadata": {},
   "outputs": [
    {
     "data": {
      "text/html": [
       "<div>\n",
       "<style scoped>\n",
       "    .dataframe tbody tr th:only-of-type {\n",
       "        vertical-align: middle;\n",
       "    }\n",
       "\n",
       "    .dataframe tbody tr th {\n",
       "        vertical-align: top;\n",
       "    }\n",
       "\n",
       "    .dataframe thead th {\n",
       "        text-align: right;\n",
       "    }\n",
       "</style>\n",
       "<table border=\"1\" class=\"dataframe\">\n",
       "  <thead>\n",
       "    <tr style=\"text-align: right;\">\n",
       "      <th></th>\n",
       "      <th>Inches</th>\n",
       "      <th>Weight</th>\n",
       "      <th>Ram</th>\n",
       "    </tr>\n",
       "  </thead>\n",
       "  <tbody>\n",
       "    <tr>\n",
       "      <th>0</th>\n",
       "      <td>13.3</td>\n",
       "      <td>1.37kg</td>\n",
       "      <td>8GB</td>\n",
       "    </tr>\n",
       "    <tr>\n",
       "      <th>1</th>\n",
       "      <td>13.3</td>\n",
       "      <td>1.34kg</td>\n",
       "      <td>8GB</td>\n",
       "    </tr>\n",
       "    <tr>\n",
       "      <th>2</th>\n",
       "      <td>15.6</td>\n",
       "      <td>1.86kg</td>\n",
       "      <td>8GB</td>\n",
       "    </tr>\n",
       "    <tr>\n",
       "      <th>3</th>\n",
       "      <td>15.4</td>\n",
       "      <td>1.83kg</td>\n",
       "      <td>16GB</td>\n",
       "    </tr>\n",
       "    <tr>\n",
       "      <th>4</th>\n",
       "      <td>13.3</td>\n",
       "      <td>1.37kg</td>\n",
       "      <td>8GB</td>\n",
       "    </tr>\n",
       "  </tbody>\n",
       "</table>\n",
       "</div>"
      ],
      "text/plain": [
       "   Inches  Weight   Ram\n",
       "0    13.3  1.37kg   8GB\n",
       "1    13.3  1.34kg   8GB\n",
       "2    15.6  1.86kg   8GB\n",
       "3    15.4  1.83kg  16GB\n",
       "4    13.3  1.37kg   8GB"
      ]
     },
     "execution_count": 39,
     "metadata": {},
     "output_type": "execute_result"
    }
   ],
   "source": [
    "df_raw[col_num].head()"
   ]
  },
  {
   "cell_type": "code",
   "execution_count": 43,
   "id": "273f784e-4a4f-463f-bcb2-de5e92e94ab3",
   "metadata": {},
   "outputs": [],
   "source": [
    "col_num2 = []\n",
    "for c in col_num:\n",
    "    df_raw[c+'2'] = df_raw[c].apply(clean_measure)\n",
    "    col_num2.append(c+'2')"
   ]
  },
  {
   "cell_type": "code",
   "execution_count": 45,
   "id": "c8fa8c32-616f-48e0-8887-9ea1d8021611",
   "metadata": {},
   "outputs": [
    {
     "data": {
      "text/html": [
       "<div>\n",
       "<style scoped>\n",
       "    .dataframe tbody tr th:only-of-type {\n",
       "        vertical-align: middle;\n",
       "    }\n",
       "\n",
       "    .dataframe tbody tr th {\n",
       "        vertical-align: top;\n",
       "    }\n",
       "\n",
       "    .dataframe thead th {\n",
       "        text-align: right;\n",
       "    }\n",
       "</style>\n",
       "<table border=\"1\" class=\"dataframe\">\n",
       "  <thead>\n",
       "    <tr style=\"text-align: right;\">\n",
       "      <th></th>\n",
       "      <th>Inches2</th>\n",
       "      <th>Weight2</th>\n",
       "      <th>Ram2</th>\n",
       "    </tr>\n",
       "  </thead>\n",
       "  <tbody>\n",
       "    <tr>\n",
       "      <th>0</th>\n",
       "      <td>13.3</td>\n",
       "      <td>1.37</td>\n",
       "      <td>8.0</td>\n",
       "    </tr>\n",
       "    <tr>\n",
       "      <th>1</th>\n",
       "      <td>13.3</td>\n",
       "      <td>1.34</td>\n",
       "      <td>8.0</td>\n",
       "    </tr>\n",
       "    <tr>\n",
       "      <th>2</th>\n",
       "      <td>15.6</td>\n",
       "      <td>1.86</td>\n",
       "      <td>8.0</td>\n",
       "    </tr>\n",
       "    <tr>\n",
       "      <th>3</th>\n",
       "      <td>15.4</td>\n",
       "      <td>1.83</td>\n",
       "      <td>16.0</td>\n",
       "    </tr>\n",
       "    <tr>\n",
       "      <th>4</th>\n",
       "      <td>13.3</td>\n",
       "      <td>1.37</td>\n",
       "      <td>8.0</td>\n",
       "    </tr>\n",
       "  </tbody>\n",
       "</table>\n",
       "</div>"
      ],
      "text/plain": [
       "   Inches2  Weight2  Ram2\n",
       "0     13.3     1.37   8.0\n",
       "1     13.3     1.34   8.0\n",
       "2     15.6     1.86   8.0\n",
       "3     15.4     1.83  16.0\n",
       "4     13.3     1.37   8.0"
      ]
     },
     "execution_count": 45,
     "metadata": {},
     "output_type": "execute_result"
    }
   ],
   "source": [
    "df_raw[col_num2].head()"
   ]
  },
  {
   "cell_type": "code",
   "execution_count": 49,
   "id": "edbb2d60-977c-4c98-8abe-3e2a04d243ff",
   "metadata": {},
   "outputs": [
    {
     "data": {
      "text/html": [
       "<div>\n",
       "<style scoped>\n",
       "    .dataframe tbody tr th:only-of-type {\n",
       "        vertical-align: middle;\n",
       "    }\n",
       "\n",
       "    .dataframe tbody tr th {\n",
       "        vertical-align: top;\n",
       "    }\n",
       "\n",
       "    .dataframe thead th {\n",
       "        text-align: right;\n",
       "    }\n",
       "</style>\n",
       "<table border=\"1\" class=\"dataframe\">\n",
       "  <thead>\n",
       "    <tr style=\"text-align: right;\">\n",
       "      <th></th>\n",
       "      <th>Price_euros</th>\n",
       "    </tr>\n",
       "  </thead>\n",
       "  <tbody>\n",
       "    <tr>\n",
       "      <th>Inches2</th>\n",
       "      <td>0.068197</td>\n",
       "    </tr>\n",
       "    <tr>\n",
       "      <th>Weight2</th>\n",
       "      <td>0.210370</td>\n",
       "    </tr>\n",
       "    <tr>\n",
       "      <th>Ram2</th>\n",
       "      <td>0.743007</td>\n",
       "    </tr>\n",
       "    <tr>\n",
       "      <th>Price_euros</th>\n",
       "      <td>1.000000</td>\n",
       "    </tr>\n",
       "  </tbody>\n",
       "</table>\n",
       "</div>"
      ],
      "text/plain": [
       "             Price_euros\n",
       "Inches2         0.068197\n",
       "Weight2         0.210370\n",
       "Ram2            0.743007\n",
       "Price_euros     1.000000"
      ]
     },
     "execution_count": 49,
     "metadata": {},
     "output_type": "execute_result"
    }
   ],
   "source": [
    "df_raw[col_num2+col_target].corr()[col_target]"
   ]
  },
  {
   "cell_type": "code",
   "execution_count": 60,
   "id": "c2ca5699-9589-4766-b426-b50984ae5069",
   "metadata": {},
   "outputs": [
    {
     "data": {
      "text/html": [
       "<div>\n",
       "<style scoped>\n",
       "    .dataframe tbody tr th:only-of-type {\n",
       "        vertical-align: middle;\n",
       "    }\n",
       "\n",
       "    .dataframe tbody tr th {\n",
       "        vertical-align: top;\n",
       "    }\n",
       "\n",
       "    .dataframe thead th {\n",
       "        text-align: right;\n",
       "    }\n",
       "</style>\n",
       "<table border=\"1\" class=\"dataframe\">\n",
       "  <thead>\n",
       "    <tr style=\"text-align: right;\">\n",
       "      <th></th>\n",
       "      <th>Inches2</th>\n",
       "      <th>Weight2</th>\n",
       "      <th>Ram2</th>\n",
       "    </tr>\n",
       "  </thead>\n",
       "  <tbody>\n",
       "    <tr>\n",
       "      <th>count</th>\n",
       "      <td>1303.000000</td>\n",
       "      <td>1303.000000</td>\n",
       "      <td>1303.000000</td>\n",
       "    </tr>\n",
       "    <tr>\n",
       "      <th>mean</th>\n",
       "      <td>15.017191</td>\n",
       "      <td>2.038734</td>\n",
       "      <td>8.382195</td>\n",
       "    </tr>\n",
       "    <tr>\n",
       "      <th>std</th>\n",
       "      <td>1.426304</td>\n",
       "      <td>0.665475</td>\n",
       "      <td>5.084665</td>\n",
       "    </tr>\n",
       "    <tr>\n",
       "      <th>min</th>\n",
       "      <td>10.100000</td>\n",
       "      <td>0.690000</td>\n",
       "      <td>2.000000</td>\n",
       "    </tr>\n",
       "    <tr>\n",
       "      <th>25%</th>\n",
       "      <td>14.000000</td>\n",
       "      <td>1.500000</td>\n",
       "      <td>4.000000</td>\n",
       "    </tr>\n",
       "    <tr>\n",
       "      <th>50%</th>\n",
       "      <td>15.600000</td>\n",
       "      <td>2.040000</td>\n",
       "      <td>8.000000</td>\n",
       "    </tr>\n",
       "    <tr>\n",
       "      <th>75%</th>\n",
       "      <td>15.600000</td>\n",
       "      <td>2.300000</td>\n",
       "      <td>8.000000</td>\n",
       "    </tr>\n",
       "    <tr>\n",
       "      <th>max</th>\n",
       "      <td>18.400000</td>\n",
       "      <td>4.700000</td>\n",
       "      <td>64.000000</td>\n",
       "    </tr>\n",
       "  </tbody>\n",
       "</table>\n",
       "</div>"
      ],
      "text/plain": [
       "           Inches2      Weight2         Ram2\n",
       "count  1303.000000  1303.000000  1303.000000\n",
       "mean     15.017191     2.038734     8.382195\n",
       "std       1.426304     0.665475     5.084665\n",
       "min      10.100000     0.690000     2.000000\n",
       "25%      14.000000     1.500000     4.000000\n",
       "50%      15.600000     2.040000     8.000000\n",
       "75%      15.600000     2.300000     8.000000\n",
       "max      18.400000     4.700000    64.000000"
      ]
     },
     "execution_count": 60,
     "metadata": {},
     "output_type": "execute_result"
    }
   ],
   "source": [
    "df_raw[col_num2].describe()"
   ]
  },
  {
   "cell_type": "code",
   "execution_count": 61,
   "id": "147b8f73-d9d3-4348-9f7f-c75910bfc4a8",
   "metadata": {},
   "outputs": [],
   "source": [
    "# x = [1,1,1,1.2,1.2,1.3,1.3]\n",
    "# y = [20,25,28,40,41,58,60]"
   ]
  },
  {
   "cell_type": "code",
   "execution_count": 62,
   "id": "5424d850-bdd7-48fa-ac83-b421799e8c03",
   "metadata": {},
   "outputs": [],
   "source": [
    "# pd.DataFrame({'x':x,'y':y}).corr()"
   ]
  },
  {
   "cell_type": "code",
   "execution_count": null,
   "id": "12f76ce5-5bc3-475d-97ae-064a43ababb3",
   "metadata": {},
   "outputs": [],
   "source": []
  },
  {
   "cell_type": "markdown",
   "id": "1db193aa-a541-41bb-8ce5-8a305b6c3eea",
   "metadata": {},
   "source": [
    "## Categorical Columns\n",
    "\n",
    "biasanya dummy or one hot encoding"
   ]
  },
  {
   "cell_type": "code",
   "execution_count": 63,
   "id": "461023a0-2ee3-470c-bb5f-077c42e74119",
   "metadata": {},
   "outputs": [
    {
     "data": {
      "text/plain": [
       "['Company', 'Product', 'TypeName', 'OpSys']"
      ]
     },
     "execution_count": 63,
     "metadata": {},
     "output_type": "execute_result"
    }
   ],
   "source": [
    "col_cat"
   ]
  },
  {
   "cell_type": "code",
   "execution_count": 64,
   "id": "0d0ae694-53b7-412a-98a2-f98c953a9952",
   "metadata": {},
   "outputs": [
    {
     "data": {
      "text/html": [
       "<div>\n",
       "<style scoped>\n",
       "    .dataframe tbody tr th:only-of-type {\n",
       "        vertical-align: middle;\n",
       "    }\n",
       "\n",
       "    .dataframe tbody tr th {\n",
       "        vertical-align: top;\n",
       "    }\n",
       "\n",
       "    .dataframe thead th {\n",
       "        text-align: right;\n",
       "    }\n",
       "</style>\n",
       "<table border=\"1\" class=\"dataframe\">\n",
       "  <thead>\n",
       "    <tr style=\"text-align: right;\">\n",
       "      <th></th>\n",
       "      <th>Company</th>\n",
       "      <th>Product</th>\n",
       "      <th>TypeName</th>\n",
       "      <th>OpSys</th>\n",
       "    </tr>\n",
       "  </thead>\n",
       "  <tbody>\n",
       "    <tr>\n",
       "      <th>count</th>\n",
       "      <td>1303</td>\n",
       "      <td>1303</td>\n",
       "      <td>1303</td>\n",
       "      <td>1303</td>\n",
       "    </tr>\n",
       "    <tr>\n",
       "      <th>unique</th>\n",
       "      <td>19</td>\n",
       "      <td>618</td>\n",
       "      <td>6</td>\n",
       "      <td>9</td>\n",
       "    </tr>\n",
       "    <tr>\n",
       "      <th>top</th>\n",
       "      <td>Lenovo</td>\n",
       "      <td>XPS 13</td>\n",
       "      <td>Notebook</td>\n",
       "      <td>Windows 10</td>\n",
       "    </tr>\n",
       "    <tr>\n",
       "      <th>freq</th>\n",
       "      <td>297</td>\n",
       "      <td>30</td>\n",
       "      <td>727</td>\n",
       "      <td>1072</td>\n",
       "    </tr>\n",
       "  </tbody>\n",
       "</table>\n",
       "</div>"
      ],
      "text/plain": [
       "       Company Product  TypeName       OpSys\n",
       "count     1303    1303      1303        1303\n",
       "unique      19     618         6           9\n",
       "top     Lenovo  XPS 13  Notebook  Windows 10\n",
       "freq       297      30       727        1072"
      ]
     },
     "execution_count": 64,
     "metadata": {},
     "output_type": "execute_result"
    }
   ],
   "source": [
    "df_raw[col_cat].describe()"
   ]
  },
  {
   "cell_type": "code",
   "execution_count": 74,
   "id": "74f9bd51-f7e0-48a7-91ba-11122dc3aaf3",
   "metadata": {},
   "outputs": [
    {
     "data": {
      "image/png": "[encoded data removed]",
      "text/plain": [
       "<Figure size 640x480 with 1 Axes>"
      ]
     },
     "metadata": {},
     "output_type": "display_data"
    }
   ],
   "source": [
    "## product\n",
    "\n",
    "prod_summary = df_raw.groupby('Product').size().sort_values(ascending = False)\n",
    "prod_summary[:20].plot(kind = 'barh')\n",
    "plt.show()"
   ]
  },
  {
   "cell_type": "code",
   "execution_count": null,
   "id": "d91cd972-1d1d-453f-a473-13e7bced755d",
   "metadata": {},
   "outputs": [],
   "source": []
  },
  {
   "cell_type": "code",
   "execution_count": 82,
   "id": "98f600f4-4cae-46bf-a685-eed4de95774a",
   "metadata": {},
   "outputs": [
    {
     "data": {
      "text/plain": [
       "Company\n",
       "Dell       297\n",
       "Lenovo     297\n",
       "HP         274\n",
       "Asus       158\n",
       "Acer       103\n",
       "MSI         54\n",
       "Toshiba     48\n",
       "Apple       21\n",
       "dtype: int64"
      ]
     },
     "execution_count": 82,
     "metadata": {},
     "output_type": "execute_result"
    }
   ],
   "source": [
    "## Company\n",
    "company_summary = df_raw.groupby('Company').size().sort_values(ascending = False)\n",
    "company_summary[:20].plot(kind = 'barh')\n",
    "# plt.show()\n",
    "company_summary[:8]"
   ]
  },
  {
   "cell_type": "code",
   "execution_count": null,
   "id": "2086a609-a8d0-4726-abeb-3e835e6f95af",
   "metadata": {},
   "outputs": [],
   "source": []
  },
  {
   "cell_type": "code",
   "execution_count": 89,
   "id": "ab7bbec5-5b0a-4e89-b7d3-15b917047849",
   "metadata": {},
   "outputs": [
    {
     "data": {
      "text/plain": [
       "OpSys\n",
       "Windows 10      1072\n",
       "No OS             66\n",
       "Linux             62\n",
       "Windows 7         45\n",
       "Chrome OS         27\n",
       "macOS             13\n",
       "Mac OS X           8\n",
       "Windows 10 S       8\n",
       "Android            2\n",
       "dtype: int64"
      ]
     },
     "execution_count": 89,
     "metadata": {},
     "output_type": "execute_result"
    }
   ],
   "source": [
    "## Opsys\n",
    "opsys_summary = df_raw.groupby('OpSys').size().sort_values(ascending = False)\n",
    "opsys_summary[:20].plot(kind = 'barh')\n",
    "# plt.show()\n",
    "opsys_summary"
   ]
  },
  {
   "cell_type": "code",
   "execution_count": null,
   "id": "b9a03d6b-2a2c-4bd3-a133-f47fd3c2966f",
   "metadata": {},
   "outputs": [],
   "source": []
  },
  {
   "cell_type": "code",
   "execution_count": 90,
   "id": "6c140f27-db31-4cb0-a8f3-5ad3b6864ebf",
   "metadata": {},
   "outputs": [
    {
     "data": {
      "text/plain": [
       "TypeName\n",
       "Notebook              727\n",
       "Gaming                205\n",
       "Ultrabook             196\n",
       "2 in 1 Convertible    121\n",
       "Workstation            29\n",
       "Netbook                25\n",
       "dtype: int64"
      ]
     },
     "execution_count": 90,
     "metadata": {},
     "output_type": "execute_result"
    }
   ],
   "source": [
    "## TypeName\n",
    "type_name_summary = df_raw.groupby('TypeName').size().sort_values(ascending = False)\n",
    "type_name_summary[:20].plot(kind = 'barh')\n",
    "# plt.show()\n",
    "type_name_summary"
   ]
  },
  {
   "cell_type": "code",
   "execution_count": null,
   "id": "8288948b-4887-46f1-89b3-d561f63fde1f",
   "metadata": {},
   "outputs": [],
   "source": []
  },
  {
   "cell_type": "code",
   "execution_count": 85,
   "id": "0efc75e9-9661-44bf-95c0-931639acde30",
   "metadata": {},
   "outputs": [],
   "source": [
    "df_raw['Product2'] = df_raw['Product'].apply(lambda x : x.split(' ')[0])\n",
    "df_raw['Company2'] = np.where(df_raw['Company'].isin(company_summary[:8].index),\n",
    "                              df_raw['Company'], \n",
    "                              'others')"
   ]
  },
  {
   "cell_type": "code",
   "execution_count": 86,
   "id": "349b28f0-bdb2-4a25-ae7b-8293c37ecc69",
   "metadata": {},
   "outputs": [
    {
     "data": {
      "text/html": [
       "<div>\n",
       "<style scoped>\n",
       "    .dataframe tbody tr th:only-of-type {\n",
       "        vertical-align: middle;\n",
       "    }\n",
       "\n",
       "    .dataframe tbody tr th {\n",
       "        vertical-align: top;\n",
       "    }\n",
       "\n",
       "    .dataframe thead th {\n",
       "        text-align: right;\n",
       "    }\n",
       "</style>\n",
       "<table border=\"1\" class=\"dataframe\">\n",
       "  <thead>\n",
       "    <tr style=\"text-align: right;\">\n",
       "      <th></th>\n",
       "      <th>Company</th>\n",
       "      <th>Product</th>\n",
       "      <th>TypeName</th>\n",
       "      <th>OpSys</th>\n",
       "      <th>Product2</th>\n",
       "      <th>Company2</th>\n",
       "    </tr>\n",
       "  </thead>\n",
       "  <tbody>\n",
       "    <tr>\n",
       "      <th>count</th>\n",
       "      <td>1303</td>\n",
       "      <td>1303</td>\n",
       "      <td>1303</td>\n",
       "      <td>1303</td>\n",
       "      <td>1303</td>\n",
       "      <td>1303</td>\n",
       "    </tr>\n",
       "    <tr>\n",
       "      <th>unique</th>\n",
       "      <td>19</td>\n",
       "      <td>618</td>\n",
       "      <td>6</td>\n",
       "      <td>9</td>\n",
       "      <td>226</td>\n",
       "      <td>9</td>\n",
       "    </tr>\n",
       "    <tr>\n",
       "      <th>top</th>\n",
       "      <td>Lenovo</td>\n",
       "      <td>XPS 13</td>\n",
       "      <td>Notebook</td>\n",
       "      <td>Windows 10</td>\n",
       "      <td>Inspiron</td>\n",
       "      <td>Dell</td>\n",
       "    </tr>\n",
       "    <tr>\n",
       "      <th>freq</th>\n",
       "      <td>297</td>\n",
       "      <td>30</td>\n",
       "      <td>727</td>\n",
       "      <td>1072</td>\n",
       "      <td>141</td>\n",
       "      <td>297</td>\n",
       "    </tr>\n",
       "  </tbody>\n",
       "</table>\n",
       "</div>"
      ],
      "text/plain": [
       "       Company Product  TypeName       OpSys  Product2 Company2\n",
       "count     1303    1303      1303        1303      1303     1303\n",
       "unique      19     618         6           9       226        9\n",
       "top     Lenovo  XPS 13  Notebook  Windows 10  Inspiron     Dell\n",
       "freq       297      30       727        1072       141      297"
      ]
     },
     "execution_count": 86,
     "metadata": {},
     "output_type": "execute_result"
    }
   ],
   "source": [
    "df_raw[col_cat+['Product2','Company2']].describe()"
   ]
  },
  {
   "cell_type": "code",
   "execution_count": 108,
   "id": "ca0da019-0bfe-4680-aed2-c61e91a4f910",
   "metadata": {},
   "outputs": [
    {
     "data": {
      "image/png": "[encoded data removed]",
      "text/plain": [
       "<Figure size 1500x500 with 1 Axes>"
      ]
     },
     "metadata": {},
     "output_type": "display_data"
    }
   ],
   "source": [
    "col_cat2=['Product2','Company2','OpSys','TypeName']\n",
    "\n",
    "cat = col_cat2[3]\n",
    "\n",
    "plt.figure(figsize = (15,5))\n",
    "sns.boxplot(data = df_raw, y = col_target[0], x = cat)\n",
    "plt.show()"
   ]
  },
  {
   "cell_type": "code",
   "execution_count": null,
   "id": "57a3e8b2-9e15-4ad4-9291-297693cd1f22",
   "metadata": {},
   "outputs": [],
   "source": []
  },
  {
   "cell_type": "code",
   "execution_count": 111,
   "id": "6d896b3c-3edb-4cb0-b97f-195a354114f9",
   "metadata": {},
   "outputs": [],
   "source": [
    "df_raw.to_csv(PATH_DATA+'laptop_price_interim.csv', index = False)"
   ]
  },
  {
   "cell_type": "code",
   "execution_count": null,
   "id": "6857fb8e-07f0-443b-a3ea-2978fca0fe23",
   "metadata": {},
   "outputs": [],
   "source": []
  }
 ],
 "metadata": {
  "kernelspec": {
   "display_name": "droid1",
   "language": "python",
   "name": "droid1"
  },
  "language_info": {
   "codemirror_mode": {
    "name": "ipython",
    "version": 3
   },
   "file_extension": ".py",
   "mimetype": "text/x-python",
   "name": "python",
   "nbconvert_exporter": "python",
   "pygments_lexer": "ipython3",
   "version": "3.7.10 (default, Feb 26 2021, 13:06:18) [MSC v.1916 64 bit (AMD64)]"
  }
 },
 "nbformat": 4,
 "nbformat_minor": 5
}

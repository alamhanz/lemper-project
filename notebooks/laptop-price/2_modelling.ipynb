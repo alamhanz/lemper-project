{
 "cells": [
  {
   "cell_type": "markdown",
   "id": "9a08ca29-6c1f-4e7a-8c83-08d311f60ea5",
   "metadata": {},
   "source": [
    "## Modelling\n",
    "\n",
    "train the model"
   ]
  },
  {
   "cell_type": "code",
   "execution_count": 69,
   "id": "68b73696-4a80-47c2-b131-0846b318a52f",
   "metadata": {},
   "outputs": [],
   "source": [
    "import pandas as pd\n",
    "import numpy as np\n",
    "import seaborn as sns\n",
    "import matplotlib.pyplot as plt\n",
    "import os\n",
    "import time"
   ]
  },
  {
   "cell_type": "code",
   "execution_count": 66,
   "id": "11ba31e0-648b-4ab2-ba71-de0b0e2f2413",
   "metadata": {},
   "outputs": [],
   "source": [
    "# from sklearn.preprocessing import StandardScaler, OneHotEncoder\n",
    "from sklearn.ensemble import RandomForestRegressor\n",
    "from sklearn.linear_model import LinearRegression\n",
    "from sklearn.metrics import mean_absolute_error, mean_absolute_percentage_error, r2_score, mean_squared_error\n",
    "from sklearn.model_selection import GridSearchCV,RandomizedSearchCV"
   ]
  },
  {
   "cell_type": "code",
   "execution_count": 24,
   "id": "1944cb6d-7e6b-42b0-b449-ab22e6dc15be",
   "metadata": {},
   "outputs": [],
   "source": [
    "PATH_DATA = '../../data/laptop_price/'"
   ]
  },
  {
   "cell_type": "code",
   "execution_count": null,
   "id": "096914a1-70c5-44a3-ba82-c741336057b6",
   "metadata": {},
   "outputs": [],
   "source": []
  },
  {
   "cell_type": "markdown",
   "id": "df101b78-822d-47b6-b470-f8ee37a33d2b",
   "metadata": {},
   "source": [
    "## Get The Data"
   ]
  },
  {
   "cell_type": "code",
   "execution_count": 15,
   "id": "dc305fef-90f8-4426-b72c-d4085ffaa9e2",
   "metadata": {},
   "outputs": [],
   "source": [
    "df_raw = pd.read_csv(PATH_DATA + 'data_interim.csv')"
   ]
  },
  {
   "cell_type": "code",
   "execution_count": 16,
   "id": "7147bfad-937f-45a8-9d25-f27857e058df",
   "metadata": {},
   "outputs": [
    {
     "data": {
      "text/html": [
       "<div>\n",
       "<style scoped>\n",
       "    .dataframe tbody tr th:only-of-type {\n",
       "        vertical-align: middle;\n",
       "    }\n",
       "\n",
       "    .dataframe tbody tr th {\n",
       "        vertical-align: top;\n",
       "    }\n",
       "\n",
       "    .dataframe thead th {\n",
       "        text-align: right;\n",
       "    }\n",
       "</style>\n",
       "<table border=\"1\" class=\"dataframe\">\n",
       "  <thead>\n",
       "    <tr style=\"text-align: right;\">\n",
       "      <th></th>\n",
       "      <th>Inches2_ss</th>\n",
       "      <th>Weight2_ss</th>\n",
       "      <th>Ram2_ss</th>\n",
       "      <th>cpu_size_ss</th>\n",
       "      <th>is_ssd_ss</th>\n",
       "      <th>screen_type_ss</th>\n",
       "      <th>laptop_ID</th>\n",
       "      <th>is_train</th>\n",
       "      <th>Company2_Acer</th>\n",
       "      <th>Company2_Apple</th>\n",
       "      <th>...</th>\n",
       "      <th>OpSys_Android</th>\n",
       "      <th>OpSys_Chrome OS</th>\n",
       "      <th>OpSys_Linux</th>\n",
       "      <th>OpSys_Mac OS X</th>\n",
       "      <th>OpSys_No OS</th>\n",
       "      <th>OpSys_Windows 10</th>\n",
       "      <th>OpSys_Windows 10 S</th>\n",
       "      <th>OpSys_Windows 7</th>\n",
       "      <th>OpSys_macOS</th>\n",
       "      <th>Price_euros</th>\n",
       "    </tr>\n",
       "  </thead>\n",
       "  <tbody>\n",
       "    <tr>\n",
       "      <th>0</th>\n",
       "      <td>-1.231169</td>\n",
       "      <td>-1.014448</td>\n",
       "      <td>-0.087182</td>\n",
       "      <td>0.042451</td>\n",
       "      <td>0.745133</td>\n",
       "      <td>2.287662</td>\n",
       "      <td>1</td>\n",
       "      <td>1</td>\n",
       "      <td>0.0</td>\n",
       "      <td>1.0</td>\n",
       "      <td>...</td>\n",
       "      <td>0.0</td>\n",
       "      <td>0.0</td>\n",
       "      <td>0.0</td>\n",
       "      <td>0.0</td>\n",
       "      <td>0.0</td>\n",
       "      <td>0.0</td>\n",
       "      <td>0.0</td>\n",
       "      <td>0.0</td>\n",
       "      <td>1.0</td>\n",
       "      <td>1339.69</td>\n",
       "    </tr>\n",
       "    <tr>\n",
       "      <th>1</th>\n",
       "      <td>-1.231169</td>\n",
       "      <td>-1.059224</td>\n",
       "      <td>-0.087182</td>\n",
       "      <td>-0.881391</td>\n",
       "      <td>-1.342041</td>\n",
       "      <td>-1.396641</td>\n",
       "      <td>2</td>\n",
       "      <td>1</td>\n",
       "      <td>0.0</td>\n",
       "      <td>1.0</td>\n",
       "      <td>...</td>\n",
       "      <td>0.0</td>\n",
       "      <td>0.0</td>\n",
       "      <td>0.0</td>\n",
       "      <td>0.0</td>\n",
       "      <td>0.0</td>\n",
       "      <td>0.0</td>\n",
       "      <td>0.0</td>\n",
       "      <td>0.0</td>\n",
       "      <td>1.0</td>\n",
       "      <td>898.94</td>\n",
       "    </tr>\n",
       "    <tr>\n",
       "      <th>2</th>\n",
       "      <td>0.398827</td>\n",
       "      <td>-0.283106</td>\n",
       "      <td>-0.087182</td>\n",
       "      <td>0.411987</td>\n",
       "      <td>0.745133</td>\n",
       "      <td>0.445511</td>\n",
       "      <td>3</td>\n",
       "      <td>1</td>\n",
       "      <td>0.0</td>\n",
       "      <td>0.0</td>\n",
       "      <td>...</td>\n",
       "      <td>0.0</td>\n",
       "      <td>0.0</td>\n",
       "      <td>0.0</td>\n",
       "      <td>0.0</td>\n",
       "      <td>1.0</td>\n",
       "      <td>0.0</td>\n",
       "      <td>0.0</td>\n",
       "      <td>0.0</td>\n",
       "      <td>0.0</td>\n",
       "      <td>575.00</td>\n",
       "    </tr>\n",
       "    <tr>\n",
       "      <th>3</th>\n",
       "      <td>0.257089</td>\n",
       "      <td>-0.327882</td>\n",
       "      <td>1.520678</td>\n",
       "      <td>0.781524</td>\n",
       "      <td>0.745133</td>\n",
       "      <td>2.287662</td>\n",
       "      <td>4</td>\n",
       "      <td>1</td>\n",
       "      <td>0.0</td>\n",
       "      <td>1.0</td>\n",
       "      <td>...</td>\n",
       "      <td>0.0</td>\n",
       "      <td>0.0</td>\n",
       "      <td>0.0</td>\n",
       "      <td>0.0</td>\n",
       "      <td>0.0</td>\n",
       "      <td>0.0</td>\n",
       "      <td>0.0</td>\n",
       "      <td>0.0</td>\n",
       "      <td>1.0</td>\n",
       "      <td>2537.45</td>\n",
       "    </tr>\n",
       "    <tr>\n",
       "      <th>4</th>\n",
       "      <td>-1.231169</td>\n",
       "      <td>-1.014448</td>\n",
       "      <td>-0.087182</td>\n",
       "      <td>1.520597</td>\n",
       "      <td>0.745133</td>\n",
       "      <td>2.287662</td>\n",
       "      <td>5</td>\n",
       "      <td>1</td>\n",
       "      <td>0.0</td>\n",
       "      <td>1.0</td>\n",
       "      <td>...</td>\n",
       "      <td>0.0</td>\n",
       "      <td>0.0</td>\n",
       "      <td>0.0</td>\n",
       "      <td>0.0</td>\n",
       "      <td>0.0</td>\n",
       "      <td>0.0</td>\n",
       "      <td>0.0</td>\n",
       "      <td>0.0</td>\n",
       "      <td>1.0</td>\n",
       "      <td>1803.60</td>\n",
       "    </tr>\n",
       "  </tbody>\n",
       "</table>\n",
       "<p>5 rows × 33 columns</p>\n",
       "</div>"
      ],
      "text/plain": [
       "   Inches2_ss  Weight2_ss   Ram2_ss  cpu_size_ss  is_ssd_ss  screen_type_ss  \\\n",
       "0   -1.231169   -1.014448 -0.087182     0.042451   0.745133        2.287662   \n",
       "1   -1.231169   -1.059224 -0.087182    -0.881391  -1.342041       -1.396641   \n",
       "2    0.398827   -0.283106 -0.087182     0.411987   0.745133        0.445511   \n",
       "3    0.257089   -0.327882  1.520678     0.781524   0.745133        2.287662   \n",
       "4   -1.231169   -1.014448 -0.087182     1.520597   0.745133        2.287662   \n",
       "\n",
       "   laptop_ID  is_train  Company2_Acer  Company2_Apple  ...  OpSys_Android  \\\n",
       "0          1         1            0.0             1.0  ...            0.0   \n",
       "1          2         1            0.0             1.0  ...            0.0   \n",
       "2          3         1            0.0             0.0  ...            0.0   \n",
       "3          4         1            0.0             1.0  ...            0.0   \n",
       "4          5         1            0.0             1.0  ...            0.0   \n",
       "\n",
       "   OpSys_Chrome OS  OpSys_Linux  OpSys_Mac OS X  OpSys_No OS  \\\n",
       "0              0.0          0.0             0.0          0.0   \n",
       "1              0.0          0.0             0.0          0.0   \n",
       "2              0.0          0.0             0.0          1.0   \n",
       "3              0.0          0.0             0.0          0.0   \n",
       "4              0.0          0.0             0.0          0.0   \n",
       "\n",
       "   OpSys_Windows 10  OpSys_Windows 10 S  OpSys_Windows 7  OpSys_macOS  \\\n",
       "0               0.0                 0.0              0.0          1.0   \n",
       "1               0.0                 0.0              0.0          1.0   \n",
       "2               0.0                 0.0              0.0          0.0   \n",
       "3               0.0                 0.0              0.0          1.0   \n",
       "4               0.0                 0.0              0.0          1.0   \n",
       "\n",
       "   Price_euros  \n",
       "0      1339.69  \n",
       "1       898.94  \n",
       "2       575.00  \n",
       "3      2537.45  \n",
       "4      1803.60  \n",
       "\n",
       "[5 rows x 33 columns]"
      ]
     },
     "execution_count": 16,
     "metadata": {},
     "output_type": "execute_result"
    }
   ],
   "source": [
    "df_raw.head()"
   ]
  },
  {
   "cell_type": "code",
   "execution_count": 17,
   "id": "1d9b477b-5e5c-4665-a46a-a714760eace1",
   "metadata": {},
   "outputs": [
    {
     "data": {
      "text/plain": [
       "(1303, 33)"
      ]
     },
     "execution_count": 17,
     "metadata": {},
     "output_type": "execute_result"
    }
   ],
   "source": [
    "df_raw.shape"
   ]
  },
  {
   "cell_type": "code",
   "execution_count": 19,
   "id": "b62aa5d0-84fe-43e5-96be-eb9c2dffeb7f",
   "metadata": {},
   "outputs": [],
   "source": [
    "col_num = ['Inches2_ss',\n",
    " 'Weight2_ss',\n",
    " 'Ram2_ss',\n",
    " 'cpu_size_ss',\n",
    " 'is_ssd_ss',\n",
    " 'screen_type_ss']\n",
    "\n",
    "col_cat = ['Company2_Acer',\n",
    " 'Company2_Apple',\n",
    " 'Company2_Asus',\n",
    " 'Company2_Dell',\n",
    " 'Company2_HP',\n",
    " 'Company2_Lenovo',\n",
    " 'Company2_MSI',\n",
    " 'Company2_Toshiba',\n",
    " 'Company2_others',\n",
    " 'TypeName_2 in 1 Convertible',\n",
    " 'TypeName_Gaming',\n",
    " 'TypeName_Netbook',\n",
    " 'TypeName_Notebook',\n",
    " 'TypeName_Ultrabook',\n",
    " 'TypeName_Workstation',\n",
    " 'OpSys_Android',\n",
    " 'OpSys_Chrome OS',\n",
    " 'OpSys_Linux',\n",
    " 'OpSys_Mac OS X',\n",
    " 'OpSys_No OS',\n",
    " 'OpSys_Windows 10',\n",
    " 'OpSys_Windows 10 S',\n",
    " 'OpSys_Windows 7',\n",
    " 'OpSys_macOS']"
   ]
  },
  {
   "cell_type": "code",
   "execution_count": 20,
   "id": "a4044e77-3b64-477a-8cc7-18ee50f7b527",
   "metadata": {},
   "outputs": [],
   "source": [
    "col_all = col_num+col_cat\n",
    "col_all.sort()\n",
    "\n",
    "col_target = ['Price_euros']"
   ]
  },
  {
   "cell_type": "code",
   "execution_count": 21,
   "id": "04921d0b-65bf-414b-a487-c5a76a9835b4",
   "metadata": {},
   "outputs": [],
   "source": [
    "X_train = df_raw[df_raw.is_train == 1][col_all]\n",
    "X_val = df_raw[df_raw.is_train == 0][col_all]\n",
    "\n",
    "Y_train = df_raw[df_raw.is_train == 1][col_target]\n",
    "Y_val = df_raw[df_raw.is_train == 0][col_target]"
   ]
  },
  {
   "cell_type": "code",
   "execution_count": null,
   "id": "e0418b8c-3595-48b5-94b6-9ec6e4f59a49",
   "metadata": {},
   "outputs": [],
   "source": []
  },
  {
   "cell_type": "code",
   "execution_count": 31,
   "id": "1a0f0477-05e4-412d-a7ce-4e3fa99ea788",
   "metadata": {},
   "outputs": [],
   "source": [
    "def all_metrics(y_true, y_pred, name):\n",
    "    mae = mean_absolute_error(y_true, y_pred)\n",
    "    mape = mean_absolute_percentage_error(y_true, y_pred)\n",
    "    r_sq = r2_score(y_true, y_pred)\n",
    "\n",
    "    return {'model_name': name,'mape' : mape, 'mae' : mae, 'r_square': r_sq}"
   ]
  },
  {
   "cell_type": "code",
   "execution_count": null,
   "id": "5ad87363-77ce-4ac5-a2bd-db40d4d4b9ca",
   "metadata": {},
   "outputs": [],
   "source": []
  },
  {
   "cell_type": "markdown",
   "id": "732cff03-4426-4271-a6de-4fc6408c560d",
   "metadata": {},
   "source": [
    "## Base Model"
   ]
  },
  {
   "cell_type": "code",
   "execution_count": 32,
   "id": "e5c91b45-06fa-40dd-bf5a-db1223d016d0",
   "metadata": {},
   "outputs": [],
   "source": [
    "base_model = LinearRegression()"
   ]
  },
  {
   "cell_type": "code",
   "execution_count": 33,
   "id": "cdb4e76c-b8cb-4195-aa56-222a3c5afa1f",
   "metadata": {},
   "outputs": [
    {
     "data": {
      "text/plain": [
       "LinearRegression()"
      ]
     },
     "execution_count": 33,
     "metadata": {},
     "output_type": "execute_result"
    }
   ],
   "source": [
    "base_model.fit(X_train,Y_train)"
   ]
  },
  {
   "cell_type": "code",
   "execution_count": 34,
   "id": "2a0949f4-c9ba-4d0c-a6dc-896522b86389",
   "metadata": {},
   "outputs": [],
   "source": [
    "Y_train_pred = base_model.predict(X_train)\n",
    "Y_val_pred = base_model.predict(X_val)"
   ]
  },
  {
   "cell_type": "code",
   "execution_count": 39,
   "id": "ed567dbd-1a88-4469-b57d-e1bdf27d5f5c",
   "metadata": {},
   "outputs": [],
   "source": [
    "m1 = all_metrics(Y_train,Y_train_pred,'Linear_Regression_Data_Train')\n",
    "m2 = all_metrics(Y_val,Y_val_pred,'Linear_Regression_Data_Test')"
   ]
  },
  {
   "cell_type": "code",
   "execution_count": 41,
   "id": "d08eb3b0-c265-4daf-be9e-fb20456d81c1",
   "metadata": {},
   "outputs": [
    {
     "data": {
      "text/plain": [
       "{'model_name': 'Linear_Regression_Data_Train',\n",
       " 'mape': 0.26817981409010544,\n",
       " 'mae': 255.19674664107487,\n",
       " 'r_square': 0.7390815483912228}"
      ]
     },
     "execution_count": 41,
     "metadata": {},
     "output_type": "execute_result"
    }
   ],
   "source": [
    "m1"
   ]
  },
  {
   "cell_type": "code",
   "execution_count": 42,
   "id": "8adc2a57-4f0d-43a0-8d9c-39d2d339c4d7",
   "metadata": {},
   "outputs": [
    {
     "data": {
      "text/plain": [
       "{'model_name': 'Linear_Regression_Data_Test',\n",
       " 'mape': 0.3027653568227598,\n",
       " 'mae': 340.0851340996169,\n",
       " 'r_square': -0.534954531707639}"
      ]
     },
     "execution_count": 42,
     "metadata": {},
     "output_type": "execute_result"
    }
   ],
   "source": [
    "m2"
   ]
  },
  {
   "cell_type": "code",
   "execution_count": null,
   "id": "b2d8f584-48f5-4f79-86db-669ce35bc518",
   "metadata": {},
   "outputs": [],
   "source": []
  },
  {
   "cell_type": "markdown",
   "id": "b23fffe2-f605-4c90-9578-7d0663155a93",
   "metadata": {
    "tags": []
   },
   "source": [
    "## Model tandingan"
   ]
  },
  {
   "cell_type": "code",
   "execution_count": 51,
   "id": "638ba828-bd20-4133-9b85-2634d96c61a9",
   "metadata": {},
   "outputs": [],
   "source": [
    "tandingan_model = RandomForestRegressor()"
   ]
  },
  {
   "cell_type": "code",
   "execution_count": 52,
   "id": "419a53ae-91f4-49d0-ae52-f515d9c66998",
   "metadata": {},
   "outputs": [
    {
     "name": "stderr",
     "output_type": "stream",
     "text": [
      "C:\\Users\\amoza\\anaconda3\\envs\\droid1\\lib\\site-packages\\ipykernel_launcher.py:1: DataConversionWarning: A column-vector y was passed when a 1d array was expected. Please change the shape of y to (n_samples,), for example using ravel().\n",
      "  \"\"\"Entry point for launching an IPython kernel.\n"
     ]
    },
    {
     "data": {
      "text/plain": [
       "RandomForestRegressor()"
      ]
     },
     "execution_count": 52,
     "metadata": {},
     "output_type": "execute_result"
    }
   ],
   "source": [
    "tandingan_model.fit(X_train,Y_train)"
   ]
  },
  {
   "cell_type": "code",
   "execution_count": 53,
   "id": "ba8ceeb6-2305-4e64-88de-f953fd514a28",
   "metadata": {},
   "outputs": [],
   "source": [
    "Y_train_pred = tandingan_model.predict(X_train)\n",
    "Y_val_pred = tandingan_model.predict(X_val)"
   ]
  },
  {
   "cell_type": "code",
   "execution_count": 54,
   "id": "ab627176-64f8-4b1e-9da3-fe3bd1b87408",
   "metadata": {},
   "outputs": [],
   "source": [
    "t1_1 = all_metrics(Y_train,Y_train_pred,'RF1_Data_Train')\n",
    "t1_2 = all_metrics(Y_val,Y_val_pred,'RF1_Data_Test')"
   ]
  },
  {
   "cell_type": "code",
   "execution_count": 55,
   "id": "66a6241b-8c3a-47c9-b296-ff79ef4b2ba0",
   "metadata": {},
   "outputs": [
    {
     "data": {
      "text/plain": [
       "{'model_name': 'RF1_Data_Train',\n",
       " 'mape': 0.0723467922228842,\n",
       " 'mae': 78.3328858910326,\n",
       " 'r_square': 0.9696982245162012}"
      ]
     },
     "execution_count": 55,
     "metadata": {},
     "output_type": "execute_result"
    }
   ],
   "source": [
    "t1_1"
   ]
  },
  {
   "cell_type": "code",
   "execution_count": 56,
   "id": "80405ef5-1d3f-4d05-9cd3-1262a1dce7ca",
   "metadata": {},
   "outputs": [
    {
     "data": {
      "text/plain": [
       "{'model_name': 'RF1_Data_Test',\n",
       " 'mape': 0.1684684190300779,\n",
       " 'mae': 197.04018296043355,\n",
       " 'r_square': 0.7804839556557686}"
      ]
     },
     "execution_count": 56,
     "metadata": {},
     "output_type": "execute_result"
    }
   ],
   "source": [
    "t1_2"
   ]
  },
  {
   "cell_type": "code",
   "execution_count": null,
   "id": "62537e5e-b82d-44c4-8072-cb9c6b850836",
   "metadata": {},
   "outputs": [],
   "source": []
  },
  {
   "cell_type": "markdown",
   "id": "46b8c866-4f05-4f5d-bd77-b7481ab70862",
   "metadata": {
    "tags": []
   },
   "source": [
    "## Model tandingan2"
   ]
  },
  {
   "cell_type": "code",
   "execution_count": 57,
   "id": "2755cd7b-7aa7-4bf8-ad4c-9298adae559b",
   "metadata": {},
   "outputs": [],
   "source": [
    "tandingan_model2 = RandomForestRegressor(max_depth = 5)"
   ]
  },
  {
   "cell_type": "code",
   "execution_count": 58,
   "id": "041d3510-adbf-4d3b-9c09-738cb0b127a3",
   "metadata": {},
   "outputs": [
    {
     "name": "stderr",
     "output_type": "stream",
     "text": [
      "C:\\Users\\amoza\\anaconda3\\envs\\droid1\\lib\\site-packages\\ipykernel_launcher.py:1: DataConversionWarning: A column-vector y was passed when a 1d array was expected. Please change the shape of y to (n_samples,), for example using ravel().\n",
      "  \"\"\"Entry point for launching an IPython kernel.\n"
     ]
    },
    {
     "data": {
      "text/plain": [
       "RandomForestRegressor(max_depth=5)"
      ]
     },
     "execution_count": 58,
     "metadata": {},
     "output_type": "execute_result"
    }
   ],
   "source": [
    "tandingan_model2.fit(X_train,Y_train)"
   ]
  },
  {
   "cell_type": "code",
   "execution_count": 59,
   "id": "14caeff5-2f2c-4544-8fe1-9c9807a57e6a",
   "metadata": {},
   "outputs": [],
   "source": [
    "Y_train_pred = tandingan_model2.predict(X_train)\n",
    "Y_val_pred = tandingan_model2.predict(X_val)"
   ]
  },
  {
   "cell_type": "code",
   "execution_count": 60,
   "id": "fb853a1f-159a-41d1-8c44-b7a04a4375d3",
   "metadata": {},
   "outputs": [],
   "source": [
    "t2_1 = all_metrics(Y_train,Y_train_pred,'RF2_Data_Train')\n",
    "t2_2 = all_metrics(Y_val,Y_val_pred,'RF2_Data_Test')"
   ]
  },
  {
   "cell_type": "code",
   "execution_count": 62,
   "id": "3d3942a5-7515-4923-9155-7420b43d048d",
   "metadata": {},
   "outputs": [
    {
     "data": {
      "text/plain": [
       "{'model_name': 'RF2_Data_Train',\n",
       " 'mape': 0.21620495201192658,\n",
       " 'mae': 208.88291195574172,\n",
       " 'r_square': 0.8326147981676467}"
      ]
     },
     "execution_count": 62,
     "metadata": {},
     "output_type": "execute_result"
    }
   ],
   "source": [
    "t2_1"
   ]
  },
  {
   "cell_type": "code",
   "execution_count": 63,
   "id": "eee84bb3-f611-4296-a2fe-eadd4de3c3af",
   "metadata": {},
   "outputs": [
    {
     "data": {
      "text/plain": [
       "{'model_name': 'RF2_Data_Test',\n",
       " 'mape': 0.22935023602724647,\n",
       " 'mae': 255.16662526856567,\n",
       " 'r_square': 0.6991826856540759}"
      ]
     },
     "execution_count": 63,
     "metadata": {},
     "output_type": "execute_result"
    }
   ],
   "source": [
    "t2_2"
   ]
  },
  {
   "cell_type": "code",
   "execution_count": null,
   "id": "b0396dad-e08b-4119-859c-88fbca7e5fb9",
   "metadata": {},
   "outputs": [],
   "source": []
  },
  {
   "cell_type": "markdown",
   "id": "29225db7-5426-4a9b-aa77-8111ae406fe2",
   "metadata": {},
   "source": [
    "## Hyper Parameter tuning"
   ]
  },
  {
   "cell_type": "code",
   "execution_count": 65,
   "id": "59582d68-161e-49d0-bcac-3b3ce0177686",
   "metadata": {},
   "outputs": [],
   "source": [
    "## Manual\n",
    "## Grid Search\n",
    "## Random Search"
   ]
  },
  {
   "cell_type": "code",
   "execution_count": 67,
   "id": "1a4f06a4-f425-44a8-ae7d-926bb3f697f1",
   "metadata": {},
   "outputs": [],
   "source": [
    "parameters = {'n_estimators':[10,20,30,40],'max_depth':[3,5,7,9], 'min_samples_split':[3,5,7,9,11],'max_leaf_nodes':[8,12,16,20]}\n",
    "model_base=RandomForestRegressor()\n",
    "clf_search2 = RandomizedSearchCV(model_base, param_distributions=parameters, n_iter=30, cv=3,verbose=1)"
   ]
  },
  {
   "cell_type": "code",
   "execution_count": 72,
   "id": "88ac57f1-c681-4dea-ba6e-423250675aef",
   "metadata": {},
   "outputs": [],
   "source": [
    "# L0=time.time()\n",
    "# clf_search2.fit(X_train,Y_train)\n",
    "# print(time.time()-L0)"
   ]
  },
  {
   "cell_type": "code",
   "execution_count": 71,
   "id": "e2466305-79ca-425d-9d04-9346ea2a08e5",
   "metadata": {},
   "outputs": [
    {
     "data": {
      "text/plain": [
       "RandomForestRegressor(max_depth=7, max_leaf_nodes=20, min_samples_split=5,\n",
       "                      n_estimators=10)"
      ]
     },
     "execution_count": 71,
     "metadata": {},
     "output_type": "execute_result"
    }
   ],
   "source": [
    "clf_search2.best_estimator_"
   ]
  },
  {
   "cell_type": "code",
   "execution_count": null,
   "id": "6bdf43e3-845e-47a2-a87b-c040c6d96e79",
   "metadata": {},
   "outputs": [],
   "source": []
  },
  {
   "cell_type": "code",
   "execution_count": null,
   "id": "08bcd394-b7b6-43d6-8820-ac02429d4637",
   "metadata": {},
   "outputs": [],
   "source": []
  },
  {
   "cell_type": "code",
   "execution_count": 74,
   "id": "88a295f9-cac4-46ed-9746-1eedd7245a34",
   "metadata": {},
   "outputs": [],
   "source": [
    "tandingan_model3 = RandomForestRegressor(max_depth=7, max_leaf_nodes=20, min_samples_split=5,\n",
    "                      n_estimators=10)"
   ]
  },
  {
   "cell_type": "code",
   "execution_count": 75,
   "id": "0f51cb88-c4c2-4885-bb50-5c33836008c1",
   "metadata": {},
   "outputs": [
    {
     "name": "stderr",
     "output_type": "stream",
     "text": [
      "C:\\Users\\amoza\\anaconda3\\envs\\droid1\\lib\\site-packages\\ipykernel_launcher.py:1: DataConversionWarning: A column-vector y was passed when a 1d array was expected. Please change the shape of y to (n_samples,), for example using ravel().\n",
      "  \"\"\"Entry point for launching an IPython kernel.\n"
     ]
    },
    {
     "data": {
      "text/plain": [
       "RandomForestRegressor(max_depth=7, max_leaf_nodes=20, min_samples_split=5,\n",
       "                      n_estimators=10)"
      ]
     },
     "execution_count": 75,
     "metadata": {},
     "output_type": "execute_result"
    }
   ],
   "source": [
    "tandingan_model3.fit(X_train,Y_train)"
   ]
  },
  {
   "cell_type": "code",
   "execution_count": 76,
   "id": "008a20c0-d741-4f2e-a7a2-c6b7324b7f42",
   "metadata": {},
   "outputs": [],
   "source": [
    "Y_train_pred = tandingan_model3.predict(X_train)\n",
    "Y_val_pred = tandingan_model3.predict(X_val)"
   ]
  },
  {
   "cell_type": "code",
   "execution_count": 77,
   "id": "8f802c8d-0c00-4b01-88b1-c766d23bd45e",
   "metadata": {},
   "outputs": [],
   "source": [
    "t3_1 = all_metrics(Y_train,Y_train_pred,'RF3_Data_Train')\n",
    "t3_2 = all_metrics(Y_val,Y_val_pred,'RF3_Data_Test')"
   ]
  },
  {
   "cell_type": "code",
   "execution_count": 78,
   "id": "f2960267-5dbe-4212-8c54-d4d917cb8dda",
   "metadata": {},
   "outputs": [
    {
     "data": {
      "text/plain": [
       "{'model_name': 'RF3_Data_Train',\n",
       " 'mape': 0.22612883511677692,\n",
       " 'mae': 210.95588430353965,\n",
       " 'r_square': 0.8287152142596768}"
      ]
     },
     "execution_count": 78,
     "metadata": {},
     "output_type": "execute_result"
    }
   ],
   "source": [
    "t3_1"
   ]
  },
  {
   "cell_type": "code",
   "execution_count": 79,
   "id": "23460d38-0e69-46ad-a5cf-0a9ce51f94eb",
   "metadata": {},
   "outputs": [
    {
     "data": {
      "text/plain": [
       "{'model_name': 'RF3_Data_Test',\n",
       " 'mape': 0.23806299476537876,\n",
       " 'mae': 252.3450374078311,\n",
       " 'r_square': 0.719097357480485}"
      ]
     },
     "execution_count": 79,
     "metadata": {},
     "output_type": "execute_result"
    }
   ],
   "source": [
    "t3_2"
   ]
  },
  {
   "cell_type": "code",
   "execution_count": null,
   "id": "fabdf14a-40d7-46ee-a681-dd0dbd69b44a",
   "metadata": {},
   "outputs": [],
   "source": []
  },
  {
   "cell_type": "code",
   "execution_count": null,
   "id": "729e3c93-a4f4-4a53-90c6-d8fc3ff9af82",
   "metadata": {},
   "outputs": [],
   "source": []
  }
 ],
 "metadata": {
  "kernelspec": {
   "display_name": "droid1",
   "language": "python",
   "name": "droid1"
  },
  "language_info": {
   "codemirror_mode": {
    "name": "ipython",
    "version": 3
   },
   "file_extension": ".py",
   "mimetype": "text/x-python",
   "name": "python",
   "nbconvert_exporter": "python",
   "pygments_lexer": "ipython3",
   "version": "3.7.10"
  }
 },
 "nbformat": 4,
 "nbformat_minor": 5
}

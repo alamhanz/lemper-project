{
 "cells": [
  {
   "cell_type": "markdown",
   "id": "1ecd2389-8109-4938-80d0-ad55c0f94ad2",
   "metadata": {
    "tags": []
   },
   "source": [
    "# Feature  Engineering\n",
    "\n",
    "This is the Feature Engineering"
   ]
  },
  {
   "cell_type": "code",
   "execution_count": 1,
   "id": "32dacb0c-b02d-4b38-ae4f-bf3b66a40b08",
   "metadata": {},
   "outputs": [],
   "source": [
    "import pandas as pd\n",
    "import numpy as np\n",
    "import seaborn as sns\n",
    "import matplotlib.pyplot as plt\n",
    "import os"
   ]
  },
  {
   "cell_type": "code",
   "execution_count": 87,
   "id": "33489e8c-be18-4ba8-94c1-557d59a45fc2",
   "metadata": {},
   "outputs": [],
   "source": [
    "from sklearn.preprocessing import StandardScaler, OneHotEncoder"
   ]
  },
  {
   "cell_type": "code",
   "execution_count": 2,
   "id": "d64dd94d-cc5e-493a-96e1-14e1106a5845",
   "metadata": {},
   "outputs": [],
   "source": [
    "PATH_DATA = '../../data/laptop_price/'"
   ]
  },
  {
   "cell_type": "code",
   "execution_count": null,
   "id": "2fbcb65e-cd11-48ce-8118-5f54208431a1",
   "metadata": {},
   "outputs": [],
   "source": []
  },
  {
   "cell_type": "markdown",
   "id": "c1983687-a7ce-44f5-a9b8-22a06055c6e9",
   "metadata": {},
   "source": [
    "## Get The Data"
   ]
  },
  {
   "cell_type": "code",
   "execution_count": 3,
   "id": "1d66d387-30e4-4cd9-a8dd-7d3ad813756f",
   "metadata": {},
   "outputs": [],
   "source": [
    "df_raw = pd.read_csv(PATH_DATA + 'laptop_price_interim.csv')"
   ]
  },
  {
   "cell_type": "code",
   "execution_count": 4,
   "id": "f83b9310-9ead-45c0-b799-e574a616e05a",
   "metadata": {},
   "outputs": [
    {
     "data": {
      "text/html": [
       "<div>\n",
       "<style scoped>\n",
       "    .dataframe tbody tr th:only-of-type {\n",
       "        vertical-align: middle;\n",
       "    }\n",
       "\n",
       "    .dataframe tbody tr th {\n",
       "        vertical-align: top;\n",
       "    }\n",
       "\n",
       "    .dataframe thead th {\n",
       "        text-align: right;\n",
       "    }\n",
       "</style>\n",
       "<table border=\"1\" class=\"dataframe\">\n",
       "  <thead>\n",
       "    <tr style=\"text-align: right;\">\n",
       "      <th></th>\n",
       "      <th>laptop_ID</th>\n",
       "      <th>Company</th>\n",
       "      <th>Product</th>\n",
       "      <th>TypeName</th>\n",
       "      <th>Inches</th>\n",
       "      <th>ScreenResolution</th>\n",
       "      <th>Cpu</th>\n",
       "      <th>Ram</th>\n",
       "      <th>Memory</th>\n",
       "      <th>Gpu</th>\n",
       "      <th>OpSys</th>\n",
       "      <th>Weight</th>\n",
       "      <th>Price_euros</th>\n",
       "      <th>Inches2</th>\n",
       "      <th>Weight2</th>\n",
       "      <th>Ram2</th>\n",
       "      <th>Product2</th>\n",
       "      <th>Company2</th>\n",
       "    </tr>\n",
       "  </thead>\n",
       "  <tbody>\n",
       "    <tr>\n",
       "      <th>0</th>\n",
       "      <td>1</td>\n",
       "      <td>Apple</td>\n",
       "      <td>MacBook Pro</td>\n",
       "      <td>Ultrabook</td>\n",
       "      <td>13.3</td>\n",
       "      <td>IPS Panel Retina Display 2560x1600</td>\n",
       "      <td>Intel Core i5 2.3GHz</td>\n",
       "      <td>8GB</td>\n",
       "      <td>128GB SSD</td>\n",
       "      <td>Intel Iris Plus Graphics 640</td>\n",
       "      <td>macOS</td>\n",
       "      <td>1.37kg</td>\n",
       "      <td>1339.69</td>\n",
       "      <td>13.3</td>\n",
       "      <td>1.37</td>\n",
       "      <td>8.0</td>\n",
       "      <td>MacBook</td>\n",
       "      <td>Apple</td>\n",
       "    </tr>\n",
       "    <tr>\n",
       "      <th>1</th>\n",
       "      <td>2</td>\n",
       "      <td>Apple</td>\n",
       "      <td>Macbook Air</td>\n",
       "      <td>Ultrabook</td>\n",
       "      <td>13.3</td>\n",
       "      <td>1440x900</td>\n",
       "      <td>Intel Core i5 1.8GHz</td>\n",
       "      <td>8GB</td>\n",
       "      <td>128GB Flash Storage</td>\n",
       "      <td>Intel HD Graphics 6000</td>\n",
       "      <td>macOS</td>\n",
       "      <td>1.34kg</td>\n",
       "      <td>898.94</td>\n",
       "      <td>13.3</td>\n",
       "      <td>1.34</td>\n",
       "      <td>8.0</td>\n",
       "      <td>Macbook</td>\n",
       "      <td>Apple</td>\n",
       "    </tr>\n",
       "    <tr>\n",
       "      <th>2</th>\n",
       "      <td>3</td>\n",
       "      <td>HP</td>\n",
       "      <td>250 G6</td>\n",
       "      <td>Notebook</td>\n",
       "      <td>15.6</td>\n",
       "      <td>Full HD 1920x1080</td>\n",
       "      <td>Intel Core i5 7200U 2.5GHz</td>\n",
       "      <td>8GB</td>\n",
       "      <td>256GB SSD</td>\n",
       "      <td>Intel HD Graphics 620</td>\n",
       "      <td>No OS</td>\n",
       "      <td>1.86kg</td>\n",
       "      <td>575.00</td>\n",
       "      <td>15.6</td>\n",
       "      <td>1.86</td>\n",
       "      <td>8.0</td>\n",
       "      <td>250</td>\n",
       "      <td>HP</td>\n",
       "    </tr>\n",
       "    <tr>\n",
       "      <th>3</th>\n",
       "      <td>4</td>\n",
       "      <td>Apple</td>\n",
       "      <td>MacBook Pro</td>\n",
       "      <td>Ultrabook</td>\n",
       "      <td>15.4</td>\n",
       "      <td>IPS Panel Retina Display 2880x1800</td>\n",
       "      <td>Intel Core i7 2.7GHz</td>\n",
       "      <td>16GB</td>\n",
       "      <td>512GB SSD</td>\n",
       "      <td>AMD Radeon Pro 455</td>\n",
       "      <td>macOS</td>\n",
       "      <td>1.83kg</td>\n",
       "      <td>2537.45</td>\n",
       "      <td>15.4</td>\n",
       "      <td>1.83</td>\n",
       "      <td>16.0</td>\n",
       "      <td>MacBook</td>\n",
       "      <td>Apple</td>\n",
       "    </tr>\n",
       "    <tr>\n",
       "      <th>4</th>\n",
       "      <td>5</td>\n",
       "      <td>Apple</td>\n",
       "      <td>MacBook Pro</td>\n",
       "      <td>Ultrabook</td>\n",
       "      <td>13.3</td>\n",
       "      <td>IPS Panel Retina Display 2560x1600</td>\n",
       "      <td>Intel Core i5 3.1GHz</td>\n",
       "      <td>8GB</td>\n",
       "      <td>256GB SSD</td>\n",
       "      <td>Intel Iris Plus Graphics 650</td>\n",
       "      <td>macOS</td>\n",
       "      <td>1.37kg</td>\n",
       "      <td>1803.60</td>\n",
       "      <td>13.3</td>\n",
       "      <td>1.37</td>\n",
       "      <td>8.0</td>\n",
       "      <td>MacBook</td>\n",
       "      <td>Apple</td>\n",
       "    </tr>\n",
       "  </tbody>\n",
       "</table>\n",
       "</div>"
      ],
      "text/plain": [
       "   laptop_ID Company      Product   TypeName  Inches  \\\n",
       "0          1   Apple  MacBook Pro  Ultrabook    13.3   \n",
       "1          2   Apple  Macbook Air  Ultrabook    13.3   \n",
       "2          3      HP       250 G6   Notebook    15.6   \n",
       "3          4   Apple  MacBook Pro  Ultrabook    15.4   \n",
       "4          5   Apple  MacBook Pro  Ultrabook    13.3   \n",
       "\n",
       "                     ScreenResolution                         Cpu   Ram  \\\n",
       "0  IPS Panel Retina Display 2560x1600        Intel Core i5 2.3GHz   8GB   \n",
       "1                            1440x900        Intel Core i5 1.8GHz   8GB   \n",
       "2                   Full HD 1920x1080  Intel Core i5 7200U 2.5GHz   8GB   \n",
       "3  IPS Panel Retina Display 2880x1800        Intel Core i7 2.7GHz  16GB   \n",
       "4  IPS Panel Retina Display 2560x1600        Intel Core i5 3.1GHz   8GB   \n",
       "\n",
       "                Memory                           Gpu  OpSys  Weight  \\\n",
       "0            128GB SSD  Intel Iris Plus Graphics 640  macOS  1.37kg   \n",
       "1  128GB Flash Storage        Intel HD Graphics 6000  macOS  1.34kg   \n",
       "2            256GB SSD         Intel HD Graphics 620  No OS  1.86kg   \n",
       "3            512GB SSD            AMD Radeon Pro 455  macOS  1.83kg   \n",
       "4            256GB SSD  Intel Iris Plus Graphics 650  macOS  1.37kg   \n",
       "\n",
       "   Price_euros  Inches2  Weight2  Ram2 Product2 Company2  \n",
       "0      1339.69     13.3     1.37   8.0  MacBook    Apple  \n",
       "1       898.94     13.3     1.34   8.0  Macbook    Apple  \n",
       "2       575.00     15.6     1.86   8.0      250       HP  \n",
       "3      2537.45     15.4     1.83  16.0  MacBook    Apple  \n",
       "4      1803.60     13.3     1.37   8.0  MacBook    Apple  "
      ]
     },
     "execution_count": 4,
     "metadata": {},
     "output_type": "execute_result"
    }
   ],
   "source": [
    "df_raw.head()"
   ]
  },
  {
   "cell_type": "code",
   "execution_count": 5,
   "id": "5edd38fc-6f12-4fe6-ad38-d773c3f77409",
   "metadata": {},
   "outputs": [
    {
     "data": {
      "text/plain": [
       "(1303, 18)"
      ]
     },
     "execution_count": 5,
     "metadata": {},
     "output_type": "execute_result"
    }
   ],
   "source": [
    "df_raw.shape"
   ]
  },
  {
   "cell_type": "code",
   "execution_count": 6,
   "id": "4d62095f-096c-4f7e-ba85-cf25ac322fe9",
   "metadata": {},
   "outputs": [],
   "source": [
    "### predictor\n",
    "col_num = ['Inches2','Weight2','Ram2'] ## -->pure numbers\n",
    "col_cat = ['Company2','Product2','TypeName','OpSys'] ## --> categorical\n",
    "col_campuran = ['ScreenResolution','Cpu','Memory','Gpu'] ## --> bisa diparsing\n",
    "other_cols = list(set(df_raw.columns)-set(col_num+col_cat+col_campuran)) ## --> others"
   ]
  },
  {
   "cell_type": "code",
   "execution_count": 7,
   "id": "1001f0d8-a99d-42e7-8026-2770d993aafb",
   "metadata": {},
   "outputs": [
    {
     "data": {
      "text/plain": [
       "['Product', 'Ram', 'Weight', 'laptop_ID', 'Inches', 'Price_euros', 'Company']"
      ]
     },
     "execution_count": 7,
     "metadata": {},
     "output_type": "execute_result"
    }
   ],
   "source": [
    "other_cols"
   ]
  },
  {
   "cell_type": "code",
   "execution_count": 8,
   "id": "bc24b76e-0b52-401a-899c-e02b57b35467",
   "metadata": {},
   "outputs": [],
   "source": [
    "## Predictor --> column2 / feature2 yang digunakan untuk memprediksi"
   ]
  },
  {
   "cell_type": "code",
   "execution_count": 9,
   "id": "17daf5f7-0a31-4ddc-83d2-0fbe3fd49c88",
   "metadata": {},
   "outputs": [],
   "source": [
    "col_target = ['Price_euros']"
   ]
  },
  {
   "cell_type": "code",
   "execution_count": null,
   "id": "f0dbf6b7-f06e-4cd6-bd7a-a1e7bd350425",
   "metadata": {},
   "outputs": [],
   "source": []
  },
  {
   "cell_type": "markdown",
   "id": "0f8aeed4-b3e3-41a8-b653-6821a3a0ac8e",
   "metadata": {},
   "source": [
    "## Train Test"
   ]
  },
  {
   "cell_type": "code",
   "execution_count": 14,
   "id": "fcc78cd6-7509-4817-9310-ea06d3a8a8bd",
   "metadata": {},
   "outputs": [
    {
     "data": {
      "text/plain": [
       "1042.4"
      ]
     },
     "execution_count": 14,
     "metadata": {},
     "output_type": "execute_result"
    }
   ],
   "source": [
    "df_raw.shape[0]*0.8"
   ]
  },
  {
   "cell_type": "code",
   "execution_count": 25,
   "id": "19adbd15-fe29-4059-9425-ac2214c388c0",
   "metadata": {},
   "outputs": [],
   "source": [
    "id_train = df_raw.sample(1042, random_state=145)['laptop_ID'].values"
   ]
  },
  {
   "cell_type": "code",
   "execution_count": 27,
   "id": "faf1c663-3a3b-4efc-ad30-47c78a476cdc",
   "metadata": {},
   "outputs": [],
   "source": [
    "df_raw['is_train']=df_raw.laptop_ID.isin(id_train).astype(int)"
   ]
  },
  {
   "cell_type": "code",
   "execution_count": null,
   "id": "87901356-e5de-4c9f-b8cd-8135e3e6f858",
   "metadata": {},
   "outputs": [],
   "source": []
  },
  {
   "cell_type": "markdown",
   "id": "25574c22-13ec-4022-bdf4-ce32a19dc061",
   "metadata": {},
   "source": [
    "## Feature Campuran\n"
   ]
  },
  {
   "cell_type": "code",
   "execution_count": 40,
   "id": "54ccb0a9-c041-4f75-8904-2ae43fae319e",
   "metadata": {},
   "outputs": [
    {
     "data": {
      "text/html": [
       "<div>\n",
       "<style scoped>\n",
       "    .dataframe tbody tr th:only-of-type {\n",
       "        vertical-align: middle;\n",
       "    }\n",
       "\n",
       "    .dataframe tbody tr th {\n",
       "        vertical-align: top;\n",
       "    }\n",
       "\n",
       "    .dataframe thead th {\n",
       "        text-align: right;\n",
       "    }\n",
       "</style>\n",
       "<table border=\"1\" class=\"dataframe\">\n",
       "  <thead>\n",
       "    <tr style=\"text-align: right;\">\n",
       "      <th></th>\n",
       "      <th>ScreenResolution</th>\n",
       "      <th>Cpu</th>\n",
       "      <th>Memory</th>\n",
       "      <th>Gpu</th>\n",
       "    </tr>\n",
       "  </thead>\n",
       "  <tbody>\n",
       "    <tr>\n",
       "      <th>1249</th>\n",
       "      <td>Quad HD+ / Touchscreen 3200x1800</td>\n",
       "      <td>Intel Core i5 7Y54 1.2GHz</td>\n",
       "      <td>256GB SSD</td>\n",
       "      <td>Intel HD Graphics 615</td>\n",
       "    </tr>\n",
       "    <tr>\n",
       "      <th>795</th>\n",
       "      <td>IPS Panel Touchscreen 2560x1440</td>\n",
       "      <td>Intel Core i5 7200U 2.5GHz</td>\n",
       "      <td>256GB SSD</td>\n",
       "      <td>Intel HD Graphics 620</td>\n",
       "    </tr>\n",
       "    <tr>\n",
       "      <th>446</th>\n",
       "      <td>1366x768</td>\n",
       "      <td>Intel Core i5 7200U 2.5GHz</td>\n",
       "      <td>500GB HDD</td>\n",
       "      <td>Intel HD Graphics 620</td>\n",
       "    </tr>\n",
       "    <tr>\n",
       "      <th>623</th>\n",
       "      <td>1366x768</td>\n",
       "      <td>Intel Core i5 7200U 2.5GHz</td>\n",
       "      <td>256GB SSD</td>\n",
       "      <td>Intel HD Graphics 620</td>\n",
       "    </tr>\n",
       "    <tr>\n",
       "      <th>1283</th>\n",
       "      <td>1366x768</td>\n",
       "      <td>Intel Core i7 6500U 2.5GHz</td>\n",
       "      <td>500GB HDD</td>\n",
       "      <td>Nvidia GeForce 920M</td>\n",
       "    </tr>\n",
       "    <tr>\n",
       "      <th>386</th>\n",
       "      <td>IPS Panel Full HD 1920x1080</td>\n",
       "      <td>Intel Core i3 7100U 2.4GHz</td>\n",
       "      <td>128GB SSD</td>\n",
       "      <td>Intel HD Graphics 620</td>\n",
       "    </tr>\n",
       "    <tr>\n",
       "      <th>1274</th>\n",
       "      <td>1366x768</td>\n",
       "      <td>Intel Celeron Dual Core N3050 1.6GHz</td>\n",
       "      <td>500GB HDD</td>\n",
       "      <td>Intel HD Graphics</td>\n",
       "    </tr>\n",
       "    <tr>\n",
       "      <th>667</th>\n",
       "      <td>Full HD 1920x1080</td>\n",
       "      <td>Intel Core i7 7500U 2.7GHz</td>\n",
       "      <td>1TB HDD</td>\n",
       "      <td>AMD Radeon 530</td>\n",
       "    </tr>\n",
       "  </tbody>\n",
       "</table>\n",
       "</div>"
      ],
      "text/plain": [
       "                      ScreenResolution                                   Cpu  \\\n",
       "1249  Quad HD+ / Touchscreen 3200x1800             Intel Core i5 7Y54 1.2GHz   \n",
       "795    IPS Panel Touchscreen 2560x1440            Intel Core i5 7200U 2.5GHz   \n",
       "446                           1366x768            Intel Core i5 7200U 2.5GHz   \n",
       "623                           1366x768            Intel Core i5 7200U 2.5GHz   \n",
       "1283                          1366x768            Intel Core i7 6500U 2.5GHz   \n",
       "386        IPS Panel Full HD 1920x1080            Intel Core i3 7100U 2.4GHz   \n",
       "1274                          1366x768  Intel Celeron Dual Core N3050 1.6GHz   \n",
       "667                  Full HD 1920x1080            Intel Core i7 7500U 2.7GHz   \n",
       "\n",
       "         Memory                    Gpu  \n",
       "1249  256GB SSD  Intel HD Graphics 615  \n",
       "795   256GB SSD  Intel HD Graphics 620  \n",
       "446   500GB HDD  Intel HD Graphics 620  \n",
       "623   256GB SSD  Intel HD Graphics 620  \n",
       "1283  500GB HDD    Nvidia GeForce 920M  \n",
       "386   128GB SSD  Intel HD Graphics 620  \n",
       "1274  500GB HDD      Intel HD Graphics  \n",
       "667     1TB HDD         AMD Radeon 530  "
      ]
     },
     "execution_count": 40,
     "metadata": {},
     "output_type": "execute_result"
    }
   ],
   "source": [
    "df_raw[col_campuran].sample(8)"
   ]
  },
  {
   "cell_type": "code",
   "execution_count": 41,
   "id": "8b27ba3c-e7a0-41b2-b566-a32c4b133666",
   "metadata": {},
   "outputs": [],
   "source": [
    "## Memory --> SSD or Not \n",
    "## ScreenResolution --> Full HD, IPS Panel, Common\n",
    "## cpu --> berapa GHZ"
   ]
  },
  {
   "cell_type": "code",
   "execution_count": 52,
   "id": "48946b80-3d51-4bfa-ba1f-af164a9e45e7",
   "metadata": {},
   "outputs": [],
   "source": [
    "def screen_func(x):\n",
    "    x1 = x.lower()\n",
    "    if 'full hd' in x1:\n",
    "        return 1\n",
    "    elif 'ips panel' in x1:\n",
    "        return 2\n",
    "    else:\n",
    "        return 0"
   ]
  },
  {
   "cell_type": "code",
   "execution_count": 68,
   "id": "2c16a3d7-b476-4f17-8f14-e4e3d327192f",
   "metadata": {},
   "outputs": [],
   "source": [
    "df_raw['is_ssd'] = df_raw.Memory.apply(lambda x : 1 if 'SSD' in x else 0).astype(int)\n",
    "df_raw['screen_type'] = df_raw.ScreenResolution.apply(screen_func).astype(float)\n",
    "df_raw['cpu_size'] = df_raw.Cpu.apply(lambda x: x[-6:-3].replace(' ','').replace('U2','2').replace('P3','3')).astype(float)"
   ]
  },
  {
   "cell_type": "code",
   "execution_count": null,
   "id": "cc721cdd-a0db-4356-896f-28438c9c80c8",
   "metadata": {},
   "outputs": [],
   "source": []
  },
  {
   "cell_type": "code",
   "execution_count": 69,
   "id": "b2a12163-4bc6-42bc-bb22-e4fae57cb20e",
   "metadata": {},
   "outputs": [],
   "source": [
    "col_num = ['Inches2','Weight2','Ram2','cpu_size','is_ssd','screen_type'] ## -->pure numbers\n",
    "col_cat = ['Company2','Product2','TypeName','OpSys'] ## --> categorical"
   ]
  },
  {
   "cell_type": "code",
   "execution_count": 71,
   "id": "88880025-a215-4a0b-aa62-a22ff9a59fc2",
   "metadata": {},
   "outputs": [],
   "source": [
    "# cat = 'is_ssd'\n",
    "\n",
    "# plt.figure(figsize = (15,5))\n",
    "# sns.boxplot(data = df_raw, y = col_target[0], x = cat)\n",
    "# plt.show()"
   ]
  },
  {
   "cell_type": "code",
   "execution_count": null,
   "id": "8a109181-be1a-41ec-9e4b-53366be3908d",
   "metadata": {},
   "outputs": [],
   "source": []
  },
  {
   "cell_type": "markdown",
   "id": "829e3e0f-eaa9-4ffc-98c3-ad8043c01af9",
   "metadata": {},
   "source": [
    "## Col Numeric Transformation"
   ]
  },
  {
   "cell_type": "code",
   "execution_count": 171,
   "id": "715d6668-b080-4fe2-b43f-d861cae2a42c",
   "metadata": {},
   "outputs": [
    {
     "data": {
      "text/plain": [
       "StandardScaler()"
      ]
     },
     "execution_count": 171,
     "metadata": {},
     "output_type": "execute_result"
    }
   ],
   "source": [
    "XX = df_raw[df_raw.is_train == 1][col_num]\n",
    "\n",
    "SS_scaler = StandardScaler()\n",
    "SS_scaler.fit(XX)"
   ]
  },
  {
   "cell_type": "code",
   "execution_count": 172,
   "id": "3bc8b08d-bfd7-42ad-a0b4-29b21b38156e",
   "metadata": {},
   "outputs": [],
   "source": [
    "col_num2 = [c+'_ss' for c in col_num]\n",
    "df_raw2_num = pd.DataFrame(SS_scaler.transform(df_raw[col_num]), columns = col_num2)\n",
    "df_raw2_num['laptop_ID'] = df_raw['laptop_ID']\n",
    "df_raw2_num['is_train'] = df_raw['is_train']"
   ]
  },
  {
   "cell_type": "code",
   "execution_count": 173,
   "id": "fc3a3083-cc4c-4025-a4bf-09bab24b76a1",
   "metadata": {},
   "outputs": [
    {
     "data": {
      "text/plain": [
       "['Inches2_ss',\n",
       " 'Weight2_ss',\n",
       " 'Ram2_ss',\n",
       " 'cpu_size_ss',\n",
       " 'is_ssd_ss',\n",
       " 'screen_type_ss']"
      ]
     },
     "execution_count": 173,
     "metadata": {},
     "output_type": "execute_result"
    }
   ],
   "source": [
    "col_num2"
   ]
  },
  {
   "cell_type": "code",
   "execution_count": null,
   "id": "be5b48c1-5558-4ec1-ba14-4c0bf3c1850f",
   "metadata": {},
   "outputs": [],
   "source": []
  },
  {
   "cell_type": "markdown",
   "id": "9330828b-5e12-4543-9224-0079c75ac8e9",
   "metadata": {},
   "source": [
    "## Col Categoric"
   ]
  },
  {
   "cell_type": "code",
   "execution_count": 184,
   "id": "40bd66d6-feaa-4413-8224-c97f69c63d9b",
   "metadata": {},
   "outputs": [
    {
     "data": {
      "text/plain": [
       "['Company2', 'Product2', 'TypeName', 'OpSys']"
      ]
     },
     "execution_count": 184,
     "metadata": {},
     "output_type": "execute_result"
    }
   ],
   "source": [
    "col_cat"
   ]
  },
  {
   "cell_type": "code",
   "execution_count": 185,
   "id": "71685704-274d-486c-875f-e020151ab155",
   "metadata": {},
   "outputs": [
    {
     "data": {
      "text/html": [
       "<div>\n",
       "<style scoped>\n",
       "    .dataframe tbody tr th:only-of-type {\n",
       "        vertical-align: middle;\n",
       "    }\n",
       "\n",
       "    .dataframe tbody tr th {\n",
       "        vertical-align: top;\n",
       "    }\n",
       "\n",
       "    .dataframe thead th {\n",
       "        text-align: right;\n",
       "    }\n",
       "</style>\n",
       "<table border=\"1\" class=\"dataframe\">\n",
       "  <thead>\n",
       "    <tr style=\"text-align: right;\">\n",
       "      <th></th>\n",
       "      <th>Company2</th>\n",
       "      <th>Product2</th>\n",
       "      <th>TypeName</th>\n",
       "      <th>OpSys</th>\n",
       "    </tr>\n",
       "  </thead>\n",
       "  <tbody>\n",
       "    <tr>\n",
       "      <th>count</th>\n",
       "      <td>1303</td>\n",
       "      <td>1303</td>\n",
       "      <td>1303</td>\n",
       "      <td>1303</td>\n",
       "    </tr>\n",
       "    <tr>\n",
       "      <th>unique</th>\n",
       "      <td>9</td>\n",
       "      <td>226</td>\n",
       "      <td>6</td>\n",
       "      <td>9</td>\n",
       "    </tr>\n",
       "    <tr>\n",
       "      <th>top</th>\n",
       "      <td>Dell</td>\n",
       "      <td>Inspiron</td>\n",
       "      <td>Notebook</td>\n",
       "      <td>Windows 10</td>\n",
       "    </tr>\n",
       "    <tr>\n",
       "      <th>freq</th>\n",
       "      <td>297</td>\n",
       "      <td>141</td>\n",
       "      <td>727</td>\n",
       "      <td>1072</td>\n",
       "    </tr>\n",
       "  </tbody>\n",
       "</table>\n",
       "</div>"
      ],
      "text/plain": [
       "       Company2  Product2  TypeName       OpSys\n",
       "count      1303      1303      1303        1303\n",
       "unique        9       226         6           9\n",
       "top        Dell  Inspiron  Notebook  Windows 10\n",
       "freq        297       141       727        1072"
      ]
     },
     "execution_count": 185,
     "metadata": {},
     "output_type": "execute_result"
    }
   ],
   "source": [
    "df_raw[col_cat].describe()"
   ]
  },
  {
   "cell_type": "code",
   "execution_count": 186,
   "id": "30f40e9d-fe20-4a47-a4f4-0951cb0cd9be",
   "metadata": {},
   "outputs": [],
   "source": [
    "col_cat_temp = ['Company2','TypeName','OpSys']\n",
    "cat = col_cat_temp[1]"
   ]
  },
  {
   "cell_type": "code",
   "execution_count": 187,
   "id": "79d83a3d-ddba-4bcb-8390-f19497509664",
   "metadata": {},
   "outputs": [],
   "source": [
    "col_cat2 = []\n",
    "df_raw2_cat = []\n",
    "for cat in col_cat_temp:\n",
    "    OH = OneHotEncoder()\n",
    "    XX = df_raw[cat].values.reshape(-1,1)\n",
    "    OH.fit(XX)\n",
    "\n",
    "    col_temp = [cat+'_'+c for c in OH.categories_]\n",
    "    df_temp = pd.DataFrame(OH.transform(XX).toarray(), columns = list(col_temp[0]))\n",
    "    col_cat2 += list(col_temp[0])\n",
    "    df_raw2_cat.append(df_temp)"
   ]
  },
  {
   "cell_type": "code",
   "execution_count": 188,
   "id": "717c273b-d661-47c2-a624-0301bd2a84f1",
   "metadata": {},
   "outputs": [],
   "source": [
    "df_raw2_cat = pd.concat(df_raw2_cat,axis = 1)\n",
    "df_raw2_cat['laptop_ID'] = df_raw['laptop_ID']\n",
    "# df_raw2_cat['is_train'] = df_raw['is_train']"
   ]
  },
  {
   "cell_type": "code",
   "execution_count": null,
   "id": "42d172ca-30ab-4cbc-b565-58d59fc49ac9",
   "metadata": {},
   "outputs": [],
   "source": []
  },
  {
   "cell_type": "markdown",
   "id": "97175211-f52f-417d-b729-5c322351c0ca",
   "metadata": {},
   "source": [
    "## Summary Feat Eng"
   ]
  },
  {
   "cell_type": "code",
   "execution_count": 189,
   "id": "bcba61c1-526e-4fdc-b89f-699945135387",
   "metadata": {},
   "outputs": [
    {
     "data": {
      "text/plain": [
       "['Inches2_ss',\n",
       " 'Weight2_ss',\n",
       " 'Ram2_ss',\n",
       " 'cpu_size_ss',\n",
       " 'is_ssd_ss',\n",
       " 'screen_type_ss']"
      ]
     },
     "execution_count": 189,
     "metadata": {},
     "output_type": "execute_result"
    }
   ],
   "source": [
    "col_num2"
   ]
  },
  {
   "cell_type": "code",
   "execution_count": 190,
   "id": "7735fa60-1f16-45c4-9085-7620976c10bc",
   "metadata": {},
   "outputs": [
    {
     "data": {
      "text/plain": [
       "['Company2_Acer',\n",
       " 'Company2_Apple',\n",
       " 'Company2_Asus',\n",
       " 'Company2_Dell',\n",
       " 'Company2_HP',\n",
       " 'Company2_Lenovo',\n",
       " 'Company2_MSI',\n",
       " 'Company2_Toshiba',\n",
       " 'Company2_others',\n",
       " 'TypeName_2 in 1 Convertible',\n",
       " 'TypeName_Gaming',\n",
       " 'TypeName_Netbook',\n",
       " 'TypeName_Notebook',\n",
       " 'TypeName_Ultrabook',\n",
       " 'TypeName_Workstation',\n",
       " 'OpSys_Android',\n",
       " 'OpSys_Chrome OS',\n",
       " 'OpSys_Linux',\n",
       " 'OpSys_Mac OS X',\n",
       " 'OpSys_No OS',\n",
       " 'OpSys_Windows 10',\n",
       " 'OpSys_Windows 10 S',\n",
       " 'OpSys_Windows 7',\n",
       " 'OpSys_macOS']"
      ]
     },
     "execution_count": 190,
     "metadata": {},
     "output_type": "execute_result"
    }
   ],
   "source": [
    "col_cat2"
   ]
  },
  {
   "cell_type": "code",
   "execution_count": 191,
   "id": "a83cf945-aa51-46ab-84d0-92dae9564db8",
   "metadata": {},
   "outputs": [
    {
     "data": {
      "text/plain": [
       "['Price_euros']"
      ]
     },
     "execution_count": 191,
     "metadata": {},
     "output_type": "execute_result"
    }
   ],
   "source": [
    "col_target"
   ]
  },
  {
   "cell_type": "code",
   "execution_count": 192,
   "id": "3aa7ebea-b869-46f5-b153-fc37b2e81e7b",
   "metadata": {},
   "outputs": [
    {
     "data": {
      "text/html": [
       "<div>\n",
       "<style scoped>\n",
       "    .dataframe tbody tr th:only-of-type {\n",
       "        vertical-align: middle;\n",
       "    }\n",
       "\n",
       "    .dataframe tbody tr th {\n",
       "        vertical-align: top;\n",
       "    }\n",
       "\n",
       "    .dataframe thead th {\n",
       "        text-align: right;\n",
       "    }\n",
       "</style>\n",
       "<table border=\"1\" class=\"dataframe\">\n",
       "  <thead>\n",
       "    <tr style=\"text-align: right;\">\n",
       "      <th></th>\n",
       "      <th>Company2_Acer</th>\n",
       "      <th>Company2_Apple</th>\n",
       "      <th>Company2_Asus</th>\n",
       "      <th>Company2_Dell</th>\n",
       "      <th>Company2_HP</th>\n",
       "      <th>Company2_Lenovo</th>\n",
       "      <th>Company2_MSI</th>\n",
       "      <th>Company2_Toshiba</th>\n",
       "      <th>Company2_others</th>\n",
       "      <th>TypeName_2 in 1 Convertible</th>\n",
       "      <th>...</th>\n",
       "      <th>OpSys_Android</th>\n",
       "      <th>OpSys_Chrome OS</th>\n",
       "      <th>OpSys_Linux</th>\n",
       "      <th>OpSys_Mac OS X</th>\n",
       "      <th>OpSys_No OS</th>\n",
       "      <th>OpSys_Windows 10</th>\n",
       "      <th>OpSys_Windows 10 S</th>\n",
       "      <th>OpSys_Windows 7</th>\n",
       "      <th>OpSys_macOS</th>\n",
       "      <th>laptop_ID</th>\n",
       "    </tr>\n",
       "  </thead>\n",
       "  <tbody>\n",
       "    <tr>\n",
       "      <th>0</th>\n",
       "      <td>0.0</td>\n",
       "      <td>1.0</td>\n",
       "      <td>0.0</td>\n",
       "      <td>0.0</td>\n",
       "      <td>0.0</td>\n",
       "      <td>0.0</td>\n",
       "      <td>0.0</td>\n",
       "      <td>0.0</td>\n",
       "      <td>0.0</td>\n",
       "      <td>0.0</td>\n",
       "      <td>...</td>\n",
       "      <td>0.0</td>\n",
       "      <td>0.0</td>\n",
       "      <td>0.0</td>\n",
       "      <td>0.0</td>\n",
       "      <td>0.0</td>\n",
       "      <td>0.0</td>\n",
       "      <td>0.0</td>\n",
       "      <td>0.0</td>\n",
       "      <td>1.0</td>\n",
       "      <td>1</td>\n",
       "    </tr>\n",
       "    <tr>\n",
       "      <th>1</th>\n",
       "      <td>0.0</td>\n",
       "      <td>1.0</td>\n",
       "      <td>0.0</td>\n",
       "      <td>0.0</td>\n",
       "      <td>0.0</td>\n",
       "      <td>0.0</td>\n",
       "      <td>0.0</td>\n",
       "      <td>0.0</td>\n",
       "      <td>0.0</td>\n",
       "      <td>0.0</td>\n",
       "      <td>...</td>\n",
       "      <td>0.0</td>\n",
       "      <td>0.0</td>\n",
       "      <td>0.0</td>\n",
       "      <td>0.0</td>\n",
       "      <td>0.0</td>\n",
       "      <td>0.0</td>\n",
       "      <td>0.0</td>\n",
       "      <td>0.0</td>\n",
       "      <td>1.0</td>\n",
       "      <td>2</td>\n",
       "    </tr>\n",
       "    <tr>\n",
       "      <th>2</th>\n",
       "      <td>0.0</td>\n",
       "      <td>0.0</td>\n",
       "      <td>0.0</td>\n",
       "      <td>0.0</td>\n",
       "      <td>1.0</td>\n",
       "      <td>0.0</td>\n",
       "      <td>0.0</td>\n",
       "      <td>0.0</td>\n",
       "      <td>0.0</td>\n",
       "      <td>0.0</td>\n",
       "      <td>...</td>\n",
       "      <td>0.0</td>\n",
       "      <td>0.0</td>\n",
       "      <td>0.0</td>\n",
       "      <td>0.0</td>\n",
       "      <td>1.0</td>\n",
       "      <td>0.0</td>\n",
       "      <td>0.0</td>\n",
       "      <td>0.0</td>\n",
       "      <td>0.0</td>\n",
       "      <td>3</td>\n",
       "    </tr>\n",
       "    <tr>\n",
       "      <th>3</th>\n",
       "      <td>0.0</td>\n",
       "      <td>1.0</td>\n",
       "      <td>0.0</td>\n",
       "      <td>0.0</td>\n",
       "      <td>0.0</td>\n",
       "      <td>0.0</td>\n",
       "      <td>0.0</td>\n",
       "      <td>0.0</td>\n",
       "      <td>0.0</td>\n",
       "      <td>0.0</td>\n",
       "      <td>...</td>\n",
       "      <td>0.0</td>\n",
       "      <td>0.0</td>\n",
       "      <td>0.0</td>\n",
       "      <td>0.0</td>\n",
       "      <td>0.0</td>\n",
       "      <td>0.0</td>\n",
       "      <td>0.0</td>\n",
       "      <td>0.0</td>\n",
       "      <td>1.0</td>\n",
       "      <td>4</td>\n",
       "    </tr>\n",
       "    <tr>\n",
       "      <th>4</th>\n",
       "      <td>0.0</td>\n",
       "      <td>1.0</td>\n",
       "      <td>0.0</td>\n",
       "      <td>0.0</td>\n",
       "      <td>0.0</td>\n",
       "      <td>0.0</td>\n",
       "      <td>0.0</td>\n",
       "      <td>0.0</td>\n",
       "      <td>0.0</td>\n",
       "      <td>0.0</td>\n",
       "      <td>...</td>\n",
       "      <td>0.0</td>\n",
       "      <td>0.0</td>\n",
       "      <td>0.0</td>\n",
       "      <td>0.0</td>\n",
       "      <td>0.0</td>\n",
       "      <td>0.0</td>\n",
       "      <td>0.0</td>\n",
       "      <td>0.0</td>\n",
       "      <td>1.0</td>\n",
       "      <td>5</td>\n",
       "    </tr>\n",
       "  </tbody>\n",
       "</table>\n",
       "<p>5 rows × 25 columns</p>\n",
       "</div>"
      ],
      "text/plain": [
       "   Company2_Acer  Company2_Apple  Company2_Asus  Company2_Dell  Company2_HP  \\\n",
       "0            0.0             1.0            0.0            0.0          0.0   \n",
       "1            0.0             1.0            0.0            0.0          0.0   \n",
       "2            0.0             0.0            0.0            0.0          1.0   \n",
       "3            0.0             1.0            0.0            0.0          0.0   \n",
       "4            0.0             1.0            0.0            0.0          0.0   \n",
       "\n",
       "   Company2_Lenovo  Company2_MSI  Company2_Toshiba  Company2_others  \\\n",
       "0              0.0           0.0               0.0              0.0   \n",
       "1              0.0           0.0               0.0              0.0   \n",
       "2              0.0           0.0               0.0              0.0   \n",
       "3              0.0           0.0               0.0              0.0   \n",
       "4              0.0           0.0               0.0              0.0   \n",
       "\n",
       "   TypeName_2 in 1 Convertible  ...  OpSys_Android  OpSys_Chrome OS  \\\n",
       "0                          0.0  ...            0.0              0.0   \n",
       "1                          0.0  ...            0.0              0.0   \n",
       "2                          0.0  ...            0.0              0.0   \n",
       "3                          0.0  ...            0.0              0.0   \n",
       "4                          0.0  ...            0.0              0.0   \n",
       "\n",
       "   OpSys_Linux  OpSys_Mac OS X  OpSys_No OS  OpSys_Windows 10  \\\n",
       "0          0.0             0.0          0.0               0.0   \n",
       "1          0.0             0.0          0.0               0.0   \n",
       "2          0.0             0.0          1.0               0.0   \n",
       "3          0.0             0.0          0.0               0.0   \n",
       "4          0.0             0.0          0.0               0.0   \n",
       "\n",
       "   OpSys_Windows 10 S  OpSys_Windows 7  OpSys_macOS  laptop_ID  \n",
       "0                 0.0              0.0          1.0          1  \n",
       "1                 0.0              0.0          1.0          2  \n",
       "2                 0.0              0.0          0.0          3  \n",
       "3                 0.0              0.0          1.0          4  \n",
       "4                 0.0              0.0          1.0          5  \n",
       "\n",
       "[5 rows x 25 columns]"
      ]
     },
     "execution_count": 192,
     "metadata": {},
     "output_type": "execute_result"
    }
   ],
   "source": [
    "df_raw2_cat.head()"
   ]
  },
  {
   "cell_type": "code",
   "execution_count": 193,
   "id": "cd225079-f504-4c80-b408-454129ebec65",
   "metadata": {},
   "outputs": [
    {
     "data": {
      "text/html": [
       "<div>\n",
       "<style scoped>\n",
       "    .dataframe tbody tr th:only-of-type {\n",
       "        vertical-align: middle;\n",
       "    }\n",
       "\n",
       "    .dataframe tbody tr th {\n",
       "        vertical-align: top;\n",
       "    }\n",
       "\n",
       "    .dataframe thead th {\n",
       "        text-align: right;\n",
       "    }\n",
       "</style>\n",
       "<table border=\"1\" class=\"dataframe\">\n",
       "  <thead>\n",
       "    <tr style=\"text-align: right;\">\n",
       "      <th></th>\n",
       "      <th>Inches2_ss</th>\n",
       "      <th>Weight2_ss</th>\n",
       "      <th>Ram2_ss</th>\n",
       "      <th>cpu_size_ss</th>\n",
       "      <th>is_ssd_ss</th>\n",
       "      <th>screen_type_ss</th>\n",
       "      <th>laptop_ID</th>\n",
       "      <th>is_train</th>\n",
       "    </tr>\n",
       "  </thead>\n",
       "  <tbody>\n",
       "    <tr>\n",
       "      <th>0</th>\n",
       "      <td>-1.231169</td>\n",
       "      <td>-1.014448</td>\n",
       "      <td>-0.087182</td>\n",
       "      <td>0.042451</td>\n",
       "      <td>0.745133</td>\n",
       "      <td>2.287662</td>\n",
       "      <td>1</td>\n",
       "      <td>1</td>\n",
       "    </tr>\n",
       "    <tr>\n",
       "      <th>1</th>\n",
       "      <td>-1.231169</td>\n",
       "      <td>-1.059224</td>\n",
       "      <td>-0.087182</td>\n",
       "      <td>-0.881391</td>\n",
       "      <td>-1.342041</td>\n",
       "      <td>-1.396641</td>\n",
       "      <td>2</td>\n",
       "      <td>1</td>\n",
       "    </tr>\n",
       "    <tr>\n",
       "      <th>2</th>\n",
       "      <td>0.398827</td>\n",
       "      <td>-0.283106</td>\n",
       "      <td>-0.087182</td>\n",
       "      <td>0.411987</td>\n",
       "      <td>0.745133</td>\n",
       "      <td>0.445511</td>\n",
       "      <td>3</td>\n",
       "      <td>1</td>\n",
       "    </tr>\n",
       "    <tr>\n",
       "      <th>3</th>\n",
       "      <td>0.257089</td>\n",
       "      <td>-0.327882</td>\n",
       "      <td>1.520678</td>\n",
       "      <td>0.781524</td>\n",
       "      <td>0.745133</td>\n",
       "      <td>2.287662</td>\n",
       "      <td>4</td>\n",
       "      <td>1</td>\n",
       "    </tr>\n",
       "    <tr>\n",
       "      <th>4</th>\n",
       "      <td>-1.231169</td>\n",
       "      <td>-1.014448</td>\n",
       "      <td>-0.087182</td>\n",
       "      <td>1.520597</td>\n",
       "      <td>0.745133</td>\n",
       "      <td>2.287662</td>\n",
       "      <td>5</td>\n",
       "      <td>1</td>\n",
       "    </tr>\n",
       "  </tbody>\n",
       "</table>\n",
       "</div>"
      ],
      "text/plain": [
       "   Inches2_ss  Weight2_ss   Ram2_ss  cpu_size_ss  is_ssd_ss  screen_type_ss  \\\n",
       "0   -1.231169   -1.014448 -0.087182     0.042451   0.745133        2.287662   \n",
       "1   -1.231169   -1.059224 -0.087182    -0.881391  -1.342041       -1.396641   \n",
       "2    0.398827   -0.283106 -0.087182     0.411987   0.745133        0.445511   \n",
       "3    0.257089   -0.327882  1.520678     0.781524   0.745133        2.287662   \n",
       "4   -1.231169   -1.014448 -0.087182     1.520597   0.745133        2.287662   \n",
       "\n",
       "   laptop_ID  is_train  \n",
       "0          1         1  \n",
       "1          2         1  \n",
       "2          3         1  \n",
       "3          4         1  \n",
       "4          5         1  "
      ]
     },
     "execution_count": 193,
     "metadata": {},
     "output_type": "execute_result"
    }
   ],
   "source": [
    "df_raw2_num.head()"
   ]
  },
  {
   "cell_type": "code",
   "execution_count": 199,
   "id": "8f07241d-937a-4c10-b586-2c35cb314f1d",
   "metadata": {},
   "outputs": [],
   "source": [
    "df_interim = pd.merge(df_raw2_num, df_raw2_cat, on = 'laptop_ID', how = 'left')\n",
    "df_interim = pd.merge(df_interim, df_raw[['laptop_ID']+col_target], on = 'laptop_ID', how = 'left')"
   ]
  },
  {
   "cell_type": "code",
   "execution_count": 200,
   "id": "678a018a-1eb3-45b2-89a7-9320201eef4c",
   "metadata": {},
   "outputs": [
    {
     "data": {
      "text/plain": [
       "Index(['Inches2_ss', 'Weight2_ss', 'Ram2_ss', 'cpu_size_ss', 'is_ssd_ss',\n",
       "       'screen_type_ss', 'laptop_ID', 'is_train', 'Company2_Acer',\n",
       "       'Company2_Apple', 'Company2_Asus', 'Company2_Dell', 'Company2_HP',\n",
       "       'Company2_Lenovo', 'Company2_MSI', 'Company2_Toshiba',\n",
       "       'Company2_others', 'TypeName_2 in 1 Convertible', 'TypeName_Gaming',\n",
       "       'TypeName_Netbook', 'TypeName_Notebook', 'TypeName_Ultrabook',\n",
       "       'TypeName_Workstation', 'OpSys_Android', 'OpSys_Chrome OS',\n",
       "       'OpSys_Linux', 'OpSys_Mac OS X', 'OpSys_No OS', 'OpSys_Windows 10',\n",
       "       'OpSys_Windows 10 S', 'OpSys_Windows 7', 'OpSys_macOS', 'Price_euros'],\n",
       "      dtype='object')"
      ]
     },
     "execution_count": 200,
     "metadata": {},
     "output_type": "execute_result"
    }
   ],
   "source": [
    "df_interim.columns"
   ]
  },
  {
   "cell_type": "code",
   "execution_count": 202,
   "id": "668642d1-ccc1-4e7d-9d40-7e1bed3dc88c",
   "metadata": {},
   "outputs": [],
   "source": [
    "df_interim.to_csv(PATH_DATA+'data_interim.csv',index = False)"
   ]
  },
  {
   "cell_type": "code",
   "execution_count": null,
   "id": "7cd6271c-b7f6-4f4f-93b7-3dc0e9bcd2d6",
   "metadata": {},
   "outputs": [],
   "source": []
  }
 ],
 "metadata": {
  "kernelspec": {
   "display_name": "droid1",
   "language": "python",
   "name": "droid1"
  },
  "language_info": {
   "codemirror_mode": {
    "name": "ipython",
    "version": 3
   },
   "file_extension": ".py",
   "mimetype": "text/x-python",
   "name": "python",
   "nbconvert_exporter": "python",
   "pygments_lexer": "ipython3",
   "version": "3.7.10 (default, Feb 26 2021, 13:06:18) [MSC v.1916 64 bit (AMD64)]"
  }
 },
 "nbformat": 4,
 "nbformat_minor": 5
}

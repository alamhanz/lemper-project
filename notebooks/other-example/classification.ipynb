{
 "cells": [
  {
   "cell_type": "code",
   "execution_count": 14,
   "id": "869cd3ac-edbe-454a-b69a-a70bd3e6fc15",
   "metadata": {},
   "outputs": [],
   "source": [
    "import numpy as np"
   ]
  },
  {
   "cell_type": "code",
   "execution_count": 4,
   "id": "0ac101cc-9d99-434b-a53d-87ba13faed38",
   "metadata": {},
   "outputs": [],
   "source": [
    "y = [0,1,0,1,0,1,1,1,0,1,1,1,0,0,0,1,1,1,0,0,0,0]"
   ]
  },
  {
   "cell_type": "code",
   "execution_count": 5,
   "id": "1ea37c8f-3b84-4bb0-bf6c-fe268a1cee34",
   "metadata": {},
   "outputs": [
    {
     "data": {
      "text/plain": [
       "0.5"
      ]
     },
     "execution_count": 5,
     "metadata": {},
     "output_type": "execute_result"
    }
   ],
   "source": [
    "sum(y)/len(y) ##--> 58.82% positivity rate"
   ]
  },
  {
   "cell_type": "code",
   "execution_count": 15,
   "id": "d3f8ef86-7edb-466f-8f6b-be4d9a39b6a7",
   "metadata": {},
   "outputs": [],
   "source": [
    "y = np.array([0,0,0,0,0,0,0,0,0,0,1,0,0,0,1,0,0,0,0,0,0,0,0])"
   ]
  },
  {
   "cell_type": "code",
   "execution_count": 16,
   "id": "8f2e99f9-6838-4d50-b587-e96bf105e1ff",
   "metadata": {},
   "outputs": [
    {
     "data": {
      "text/plain": [
       "0.08695652173913043"
      ]
     },
     "execution_count": 16,
     "metadata": {},
     "output_type": "execute_result"
    }
   ],
   "source": [
    "sum(y)/len(y) ##--> 8.6% positivity rate"
   ]
  },
  {
   "cell_type": "code",
   "execution_count": 17,
   "id": "f7c14702-238f-444f-894c-ccd48eed7147",
   "metadata": {},
   "outputs": [],
   "source": [
    "yp = np.array([0,0,0,0,0,0,0,0,0,0,0,0,0,0,0,0,0,0,0,0,0,0,0])"
   ]
  },
  {
   "cell_type": "code",
   "execution_count": 20,
   "id": "c8b3ec01-928e-4fc2-94e8-bb77f2806168",
   "metadata": {},
   "outputs": [
    {
     "data": {
      "text/plain": [
       "0.9130434782608695"
      ]
     },
     "execution_count": 20,
     "metadata": {},
     "output_type": "execute_result"
    }
   ],
   "source": [
    "(y == yp).mean() ## --> accuracy 91.3%"
   ]
  },
  {
   "cell_type": "code",
   "execution_count": null,
   "id": "3019f9f4-111b-4232-bbe9-ba90afa0f9ab",
   "metadata": {},
   "outputs": [],
   "source": []
  },
  {
   "cell_type": "code",
   "execution_count": null,
   "id": "20b911b8-2f31-47bc-9e40-df7899926305",
   "metadata": {},
   "outputs": [],
   "source": []
  },
  {
   "cell_type": "code",
   "execution_count": null,
   "id": "19629e41-e696-4dd9-ab1b-b09aa7cc3d0e",
   "metadata": {},
   "outputs": [],
   "source": []
  }
 ],
 "metadata": {
  "kernelspec": {
   "display_name": "droid1",
   "language": "python",
   "name": "droid1"
  },
  "language_info": {
   "codemirror_mode": {
    "name": "ipython",
    "version": 3
   },
   "file_extension": ".py",
   "mimetype": "text/x-python",
   "name": "python",
   "nbconvert_exporter": "python",
   "pygments_lexer": "ipython3",
   "version": "3.7.10"
  }
 },
 "nbformat": 4,
 "nbformat_minor": 5
}

{
 "cells": [
  {
   "cell_type": "code",
   "execution_count": 1,
   "id": "a802322d-3259-47c4-b22c-a548bd3e03fa",
   "metadata": {},
   "outputs": [],
   "source": [
    "import numpy as np"
   ]
  },
  {
   "cell_type": "code",
   "execution_count": 18,
   "id": "5808efd7-f608-4024-a0ad-d2038faf2fab",
   "metadata": {},
   "outputs": [],
   "source": [
    "y_true0 = np.array([1,2,3,4,1,2,3,4,1,2,3,4])\n",
    "y_pred0 = np.array([1,2,3,5,0,1,2,4,1,2,2,4]) ## --> tergantung dengan parameter / theta"
   ]
  },
  {
   "cell_type": "code",
   "execution_count": 19,
   "id": "e0b33e22-7aaa-4172-8517-c220b9b7cb80",
   "metadata": {},
   "outputs": [],
   "source": [
    "def cost_func(y_true,y_pred):\n",
    "    err_kuadrat = ((y_true-y_pred)**2)\n",
    "    return err_kuadrat.sum()/len(err_kuadrat)"
   ]
  },
  {
   "cell_type": "code",
   "execution_count": 20,
   "id": "263f3857-0047-4d6e-91c8-84dbcac23211",
   "metadata": {},
   "outputs": [
    {
     "data": {
      "text/plain": [
       "0.4166666666666667"
      ]
     },
     "execution_count": 20,
     "metadata": {},
     "output_type": "execute_result"
    }
   ],
   "source": [
    "cost_func(y_true0,y_pred0)"
   ]
  },
  {
   "cell_type": "code",
   "execution_count": null,
   "id": "4920498c-4ea1-4d5e-8064-40f7a457e0cc",
   "metadata": {},
   "outputs": [],
   "source": []
  }
 ],
 "metadata": {
  "kernelspec": {
   "display_name": "droid1",
   "language": "python",
   "name": "droid1"
  },
  "language_info": {
   "codemirror_mode": {
    "name": "ipython",
    "version": 3
   },
   "file_extension": ".py",
   "mimetype": "text/x-python",
   "name": "python",
   "nbconvert_exporter": "python",
   "pygments_lexer": "ipython3",
   "version": "3.7.10"
  }
 },
 "nbformat": 4,
 "nbformat_minor": 5
}

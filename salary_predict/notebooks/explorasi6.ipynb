{
 "cells": [
  {
   "cell_type": "code",
   "execution_count": 66,
   "metadata": {},
   "outputs": [],
   "source": [
    "import numpy as np\n",
    "import pandas as pd\n",
    "import seaborn as sns\n",
    "import matplotlib.pyplot as plt\n",
    "import warnings\n",
    "warnings.filterwarnings(\"ignore\")\n",
    "\n",
    "from sklearn.model_selection import train_test_split, cross_val_score\n",
    "from sklearn.preprocessing import StandardScaler\n",
    "from sklearn.preprocessing import LabelEncoder, OneHotEncoder\n",
    "from sklearn import metrics\n",
    "from sklearn.metrics import  mean_squared_error, r2_score\n",
    "\n",
    "from sklearn.linear_model import LinearRegression\n",
    "from sklearn.linear_model import Ridge\n",
    "from sklearn.linear_model import Lasso\n",
    "from sklearn.linear_model import ElasticNet\n",
    "from sklearn.ensemble import RandomForestRegressor\n",
    "from sklearn.svm import SVR\n",
    "from xgboost import XGBRegressor\n",
    "from sklearn.preprocessing import PolynomialFeatures"
   ]
  },
  {
   "cell_type": "code",
   "execution_count": 3,
   "metadata": {},
   "outputs": [],
   "source": [
    "%matplotlib inline"
   ]
  },
  {
   "cell_type": "code",
   "execution_count": 4,
   "metadata": {},
   "outputs": [],
   "source": [
    "dft= pd.read_csv ('train.csv', delimiter='|')\n",
    "dfp= pd.read_csv('predict-case.csv', delimiter='|')"
   ]
  },
  {
   "cell_type": "code",
   "execution_count": 5,
   "metadata": {},
   "outputs": [
    {
     "name": "stdout",
     "output_type": "stream",
     "text": [
      "Train set shape:\n",
      "(31746, 15)\n",
      "\n",
      "Predict set shape :\n",
      "(3000, 14)\n",
      "\n"
     ]
    }
   ],
   "source": [
    "# Load Train Set\n",
    "print(f\"Train set shape:\\n{dft.shape}\\n\")\n",
    "\n",
    "#Load Predict Set\n",
    "print(f\"Predict set shape :\\n{dfp.shape}\\n\")"
   ]
  },
  {
   "cell_type": "code",
   "execution_count": 6,
   "metadata": {},
   "outputs": [
    {
     "data": {
      "text/plain": [
       "id                          0\n",
       "job_title                   0\n",
       "location                    0\n",
       "salary_currency             4\n",
       "career_level                0\n",
       "experience_level         4292\n",
       "education_level             0\n",
       "employment_type          1344\n",
       "job_function                0\n",
       "job_benefits             6667\n",
       "company_process_time     9144\n",
       "company_size             5163\n",
       "company_industry         1514\n",
       "job_description             1\n",
       "salary                  25394\n",
       "dtype: int64"
      ]
     },
     "execution_count": 6,
     "metadata": {},
     "output_type": "execute_result"
    }
   ],
   "source": [
    "dft.isnull().sum()"
   ]
  },
  {
   "cell_type": "code",
   "execution_count": 7,
   "metadata": {},
   "outputs": [],
   "source": [
    "dfp['salary']= \"\"\n"
   ]
  },
  {
   "cell_type": "code",
   "execution_count": 8,
   "metadata": {},
   "outputs": [
    {
     "data": {
      "text/plain": [
       "(6352, 14)"
      ]
     },
     "execution_count": 8,
     "metadata": {},
     "output_type": "execute_result"
    }
   ],
   "source": [
    "dft1 = dft[~(dft.salary.isnull())].reset_index(drop = True)\n",
    "del dft1['id']\n",
    "\n",
    "dft1.shape"
   ]
  },
  {
   "cell_type": "code",
   "execution_count": 9,
   "metadata": {},
   "outputs": [
    {
     "data": {
      "text/html": [
       "<div>\n",
       "<style scoped>\n",
       "    .dataframe tbody tr th:only-of-type {\n",
       "        vertical-align: middle;\n",
       "    }\n",
       "\n",
       "    .dataframe tbody tr th {\n",
       "        vertical-align: top;\n",
       "    }\n",
       "\n",
       "    .dataframe thead th {\n",
       "        text-align: right;\n",
       "    }\n",
       "</style>\n",
       "<table border=\"1\" class=\"dataframe\">\n",
       "  <thead>\n",
       "    <tr style=\"text-align: right;\">\n",
       "      <th></th>\n",
       "      <th>job_title</th>\n",
       "      <th>location</th>\n",
       "      <th>salary_currency</th>\n",
       "      <th>career_level</th>\n",
       "      <th>experience_level</th>\n",
       "      <th>education_level</th>\n",
       "      <th>employment_type</th>\n",
       "      <th>job_function</th>\n",
       "      <th>job_benefits</th>\n",
       "      <th>company_process_time</th>\n",
       "      <th>company_size</th>\n",
       "      <th>company_industry</th>\n",
       "      <th>job_description</th>\n",
       "      <th>salary</th>\n",
       "    </tr>\n",
       "  </thead>\n",
       "  <tbody>\n",
       "    <tr>\n",
       "      <th>31</th>\n",
       "      <td>Digital and Social Media Executive (Travel &amp; L...</td>\n",
       "      <td>Jakarta Pusat</td>\n",
       "      <td>USD</td>\n",
       "      <td>Pegawai (non-manajemen &amp; non-supervisor)</td>\n",
       "      <td>2 tahun</td>\n",
       "      <td>Sarjana (S1)</td>\n",
       "      <td>Penuh Waktu</td>\n",
       "      <td>Penjualan / Pemasaran,Digital Marketing</td>\n",
       "      <td>Waktu regular, Senin - Jumat</td>\n",
       "      <td>29 days</td>\n",
       "      <td>1- 50 pekerja</td>\n",
       "      <td>Periklanan/Marketing/Promosi/Hubungan Masyarakat</td>\n",
       "      <td>DIGITAL / SOCIAL MEDIA EXECUTIVEWe are recruit...</td>\n",
       "      <td>665.0</td>\n",
       "    </tr>\n",
       "    <tr>\n",
       "      <th>6174</th>\n",
       "      <td>Registered Nurse Aesthetic and Wellness</td>\n",
       "      <td>Bali</td>\n",
       "      <td>USD</td>\n",
       "      <td>Pegawai (non-manajemen &amp; non-supervisor)</td>\n",
       "      <td>2 tahun</td>\n",
       "      <td>Sarjana (S1)</td>\n",
       "      <td>Penuh Waktu</td>\n",
       "      <td>Layanan Kesehatan,Praktisi/Asisten Medis</td>\n",
       "      <td>Tip;Bisnis (contoh: Kemeja);Mon - Sat</td>\n",
       "      <td>NaN</td>\n",
       "      <td>1- 50 pekerja</td>\n",
       "      <td>Perawatan/Kecantikan/Fitnes</td>\n",
       "      <td>Registered Nurse Aesthetic and WellnessMaldive...</td>\n",
       "      <td>1005.0</td>\n",
       "    </tr>\n",
       "  </tbody>\n",
       "</table>\n",
       "</div>"
      ],
      "text/plain": [
       "                                              job_title       location  \\\n",
       "31    Digital and Social Media Executive (Travel & L...  Jakarta Pusat   \n",
       "6174            Registered Nurse Aesthetic and Wellness           Bali   \n",
       "\n",
       "     salary_currency                              career_level  \\\n",
       "31               USD  Pegawai (non-manajemen & non-supervisor)   \n",
       "6174             USD  Pegawai (non-manajemen & non-supervisor)   \n",
       "\n",
       "     experience_level education_level employment_type  \\\n",
       "31            2 tahun    Sarjana (S1)     Penuh Waktu   \n",
       "6174          2 tahun    Sarjana (S1)     Penuh Waktu   \n",
       "\n",
       "                                  job_function  \\\n",
       "31     Penjualan / Pemasaran,Digital Marketing   \n",
       "6174  Layanan Kesehatan,Praktisi/Asisten Medis   \n",
       "\n",
       "                               job_benefits company_process_time  \\\n",
       "31             Waktu regular, Senin - Jumat              29 days   \n",
       "6174  Tip;Bisnis (contoh: Kemeja);Mon - Sat                  NaN   \n",
       "\n",
       "       company_size                                  company_industry  \\\n",
       "31    1- 50 pekerja  Periklanan/Marketing/Promosi/Hubungan Masyarakat   \n",
       "6174  1- 50 pekerja                       Perawatan/Kecantikan/Fitnes   \n",
       "\n",
       "                                        job_description  salary  \n",
       "31    DIGITAL / SOCIAL MEDIA EXECUTIVEWe are recruit...   665.0  \n",
       "6174  Registered Nurse Aesthetic and WellnessMaldive...  1005.0  "
      ]
     },
     "execution_count": 9,
     "metadata": {},
     "output_type": "execute_result"
    }
   ],
   "source": [
    "dft1[dft1.salary_currency!='IDR']"
   ]
  },
  {
   "cell_type": "code",
   "execution_count": 10,
   "metadata": {},
   "outputs": [
    {
     "data": {
      "text/html": [
       "<div>\n",
       "<style scoped>\n",
       "    .dataframe tbody tr th:only-of-type {\n",
       "        vertical-align: middle;\n",
       "    }\n",
       "\n",
       "    .dataframe tbody tr th {\n",
       "        vertical-align: top;\n",
       "    }\n",
       "\n",
       "    .dataframe thead th {\n",
       "        text-align: right;\n",
       "    }\n",
       "</style>\n",
       "<table border=\"1\" class=\"dataframe\">\n",
       "  <thead>\n",
       "    <tr style=\"text-align: right;\">\n",
       "      <th></th>\n",
       "      <th>job_title</th>\n",
       "      <th>location</th>\n",
       "      <th>salary_currency</th>\n",
       "      <th>career_level</th>\n",
       "      <th>experience_level</th>\n",
       "      <th>education_level</th>\n",
       "      <th>employment_type</th>\n",
       "      <th>job_function</th>\n",
       "      <th>job_benefits</th>\n",
       "      <th>company_process_time</th>\n",
       "      <th>company_size</th>\n",
       "      <th>company_industry</th>\n",
       "      <th>job_description</th>\n",
       "      <th>salary</th>\n",
       "    </tr>\n",
       "  </thead>\n",
       "  <tbody>\n",
       "    <tr>\n",
       "      <th>1126</th>\n",
       "      <td>Network &amp; System Supervisor - IT Consulting (A...</td>\n",
       "      <td>Jakarta Selatan</td>\n",
       "      <td>IDR</td>\n",
       "      <td>Supervisor/Koordinator</td>\n",
       "      <td>3 tahun</td>\n",
       "      <td>Sertifikat Professional, D3 (Diploma), D4 (Dip...</td>\n",
       "      <td>Penuh Waktu</td>\n",
       "      <td>Komputer/Teknologi Informasi,IT-Admin Jaringan...</td>\n",
       "      <td>NaN</td>\n",
       "      <td>19 days</td>\n",
       "      <td>1- 50 pekerja</td>\n",
       "      <td>Manajemen/Konsulting HR</td>\n",
       "      <td>About The Company:The working venue is in Jaka...</td>\n",
       "      <td>10000000.0</td>\n",
       "    </tr>\n",
       "  </tbody>\n",
       "</table>\n",
       "</div>"
      ],
      "text/plain": [
       "                                              job_title         location  \\\n",
       "1126  Network & System Supervisor - IT Consulting (A...  Jakarta Selatan   \n",
       "\n",
       "     salary_currency            career_level experience_level  \\\n",
       "1126             IDR  Supervisor/Koordinator          3 tahun   \n",
       "\n",
       "                                        education_level employment_type  \\\n",
       "1126  Sertifikat Professional, D3 (Diploma), D4 (Dip...     Penuh Waktu   \n",
       "\n",
       "                                           job_function job_benefits  \\\n",
       "1126  Komputer/Teknologi Informasi,IT-Admin Jaringan...          NaN   \n",
       "\n",
       "     company_process_time   company_size         company_industry  \\\n",
       "1126              19 days  1- 50 pekerja  Manajemen/Konsulting HR   \n",
       "\n",
       "                                        job_description      salary  \n",
       "1126  About The Company:The working venue is in Jaka...  10000000.0  "
      ]
     },
     "execution_count": 10,
     "metadata": {},
     "output_type": "execute_result"
    }
   ],
   "source": [
    "dft1.salary = np.where(dft1.salary_currency!='IDR', dft1.salary*15000, dft1.salary)\n",
    "dft2 = dft1[(dft1.salary>=200000)].reset_index(drop=True)\n",
    "dft2.sample(1)\n"
   ]
  },
  {
   "cell_type": "code",
   "execution_count": 11,
   "metadata": {},
   "outputs": [
    {
     "data": {
      "text/plain": [
       "(6348, 14)"
      ]
     },
     "execution_count": 11,
     "metadata": {},
     "output_type": "execute_result"
    }
   ],
   "source": [
    "dft2.shape"
   ]
  },
  {
   "cell_type": "markdown",
   "metadata": {},
   "source": [
    "## Feature Engineering\n",
    "* career_level\n",
    "* experience_level\n",
    "* education_level\n",
    "* employment_type\n",
    "* job_function\n",
    "* job_benefits\n",
    "* company_size\n",
    "* company_industry\n",
    "* job_description"
   ]
  },
  {
   "cell_type": "code",
   "execution_count": 12,
   "metadata": {},
   "outputs": [],
   "source": [
    "dfp['employment_type'].replace('Penuh Waktu, Kontrak', 'Penuh Waktu',inplace=True)\n",
    "dfp['employment_type'].replace('Penuh Waktu, Paruh Waktu', 'Penuh Waktu',inplace=True)\n",
    "dfp['employment_type'].replace('Kontrak, Temporer', 'Kontrak',inplace=True)"
   ]
  },
  {
   "cell_type": "code",
   "execution_count": 13,
   "metadata": {},
   "outputs": [
    {
     "data": {
      "text/plain": [
       "employment_type\n",
       "Kontrak         398\n",
       "Magang            9\n",
       "Paruh Waktu      26\n",
       "Penuh Waktu    2555\n",
       "Temporer         12\n",
       "dtype: int64"
      ]
     },
     "execution_count": 13,
     "metadata": {},
     "output_type": "execute_result"
    }
   ],
   "source": [
    "dfp.groupby(['employment_type']).size()"
   ]
  },
  {
   "cell_type": "code",
   "execution_count": 14,
   "metadata": {},
   "outputs": [],
   "source": [
    "dft2['employment_type'].replace('Penuh Waktu, Kontrak', 'Penuh Waktu',inplace=True)\n",
    "dft2['employment_type'].replace('Penuh Waktu, Magang', 'Penuh Waktu',inplace=True)\n",
    "dft2['employment_type'].replace('Penuh Waktu, Paruh Waktu', 'Penuh Waktu',inplace=True)"
   ]
  },
  {
   "cell_type": "code",
   "execution_count": 15,
   "metadata": {},
   "outputs": [
    {
     "data": {
      "text/plain": [
       "employment_type\n",
       "Kontrak         817\n",
       "Magang           26\n",
       "Paruh Waktu      56\n",
       "Penuh Waktu    5431\n",
       "Temporer         18\n",
       "dtype: int64"
      ]
     },
     "execution_count": 15,
     "metadata": {},
     "output_type": "execute_result"
    }
   ],
   "source": [
    "dft2.groupby(['employment_type']).size()"
   ]
  },
  {
   "cell_type": "code",
   "execution_count": 16,
   "metadata": {},
   "outputs": [
    {
     "data": {
      "text/plain": [
       "experience_level\n",
       "1 tahun     2093\n",
       "10 tahun      62\n",
       "11 tahun       1\n",
       "12 tahun       7\n",
       "15 tahun       8\n",
       "17 tahun       1\n",
       "2 tahun     1741\n",
       "20 tahun       3\n",
       "3 tahun     1098\n",
       "4 tahun      123\n",
       "5 tahun      599\n",
       "6 tahun       15\n",
       "7 tahun       35\n",
       "8 tahun       29\n",
       "dtype: int64"
      ]
     },
     "execution_count": 16,
     "metadata": {},
     "output_type": "execute_result"
    }
   ],
   "source": [
    "dft2.groupby(['experience_level']).size()"
   ]
  },
  {
   "cell_type": "code",
   "execution_count": 17,
   "metadata": {},
   "outputs": [],
   "source": [
    "dfp['experience_level'].replace('Lebih dari 20 Tahun', '21 tahun',inplace=True)\n",
    "dfp['company_size'].replace('Lebihdari5000', '5000',inplace=True)\n",
    "dft2['company_size'].replace('Lebihdari5000', '5000', inplace=True)"
   ]
  },
  {
   "cell_type": "code",
   "execution_count": 18,
   "metadata": {},
   "outputs": [
    {
     "data": {
      "text/plain": [
       "experience_level\n",
       "1 tahun     988\n",
       "10 tahun     28\n",
       "12 tahun      1\n",
       "15 tahun      3\n",
       "2 tahun     796\n",
       "20 tahun      2\n",
       "21 tahun      1\n",
       "3 tahun     540\n",
       "4 tahun      55\n",
       "5 tahun     299\n",
       "6 tahun       9\n",
       "7 tahun      17\n",
       "8 tahun      12\n",
       "dtype: int64"
      ]
     },
     "execution_count": 18,
     "metadata": {},
     "output_type": "execute_result"
    }
   ],
   "source": [
    "dfp.groupby(['experience_level']).size()"
   ]
  },
  {
   "cell_type": "code",
   "execution_count": 19,
   "metadata": {},
   "outputs": [
    {
     "data": {
      "text/plain": [
       "company_size\n",
       "1- 50 pekerja              925\n",
       "1001 - 2000 pekerja        172\n",
       "2001 - 5000 pekerja        101\n",
       "201 - 500 pekerja          304\n",
       "501 - 1000 pekerja         201\n",
       "51 - 200 pekerja           720\n",
       "Lebih dari 5000 pekerja     97\n",
       "dtype: int64"
      ]
     },
     "execution_count": 19,
     "metadata": {},
     "output_type": "execute_result"
    }
   ],
   "source": [
    "dfp.groupby(['company_size']).size()"
   ]
  },
  {
   "cell_type": "code",
   "execution_count": 20,
   "metadata": {},
   "outputs": [
    {
     "data": {
      "text/plain": [
       "company_size\n",
       "1- 50 pekerja              1889\n",
       "1001 - 2000 pekerja         337\n",
       "2001 - 5000 pekerja         198\n",
       "201 - 500 pekerja           706\n",
       "501 - 1000 pekerja          430\n",
       "51 - 200 pekerja           1607\n",
       "Lebih dari 5000 pekerja     237\n",
       "dtype: int64"
      ]
     },
     "execution_count": 20,
     "metadata": {},
     "output_type": "execute_result"
    }
   ],
   "source": [
    "dft2.groupby(['company_size']).size()"
   ]
  },
  {
   "cell_type": "code",
   "execution_count": 21,
   "metadata": {},
   "outputs": [
    {
     "data": {
      "text/plain": [
       "experience_level\n",
       "1 tahun     2093\n",
       "10 tahun      62\n",
       "11 tahun       1\n",
       "12 tahun       7\n",
       "15 tahun       8\n",
       "17 tahun       1\n",
       "2 tahun     1741\n",
       "20 tahun       3\n",
       "3 tahun     1098\n",
       "4 tahun      123\n",
       "5 tahun      599\n",
       "6 tahun       15\n",
       "7 tahun       35\n",
       "8 tahun       29\n",
       "dtype: int64"
      ]
     },
     "execution_count": 21,
     "metadata": {},
     "output_type": "execute_result"
    }
   ],
   "source": [
    "dft2.groupby(['experience_level']).size()"
   ]
  },
  {
   "cell_type": "code",
   "execution_count": 22,
   "metadata": {},
   "outputs": [],
   "source": [
    "#train\n",
    "dft2['experience_level2'] = dft2['experience_level'].fillna('1 tahun')\n",
    "dft2['f1'] = dft2['experience_level2'].apply(lambda x : x.split(' ')[0]).astype(int)\n",
    "\n",
    "# Prediction Case\n",
    "dfp['experience_level2'] = dfp['experience_level'].fillna('1 tahun')\n",
    "dfp['f1'] = dfp['experience_level2'].apply(lambda x : x.split(' ')[0])"
   ]
  },
  {
   "cell_type": "code",
   "execution_count": 23,
   "metadata": {},
   "outputs": [
    {
     "data": {
      "text/plain": [
       "LabelEncoder()"
      ]
     },
     "execution_count": 23,
     "metadata": {},
     "output_type": "execute_result"
    }
   ],
   "source": [
    "le = LabelEncoder()\n",
    "le.fit(dft2.career_level)\n",
    "\n",
    "# Prediction Case\n",
    "le = LabelEncoder()\n",
    "le.fit(dfp.career_level)"
   ]
  },
  {
   "cell_type": "code",
   "execution_count": 24,
   "metadata": {},
   "outputs": [],
   "source": [
    "dft2['f2'] = le.transform(dft2.career_level)\n",
    "# Prediction Case\n",
    "dfp['f2'] = le.transform(dfp.career_level)"
   ]
  },
  {
   "cell_type": "code",
   "execution_count": 25,
   "metadata": {},
   "outputs": [
    {
     "data": {
      "text/html": [
       "<div>\n",
       "<style scoped>\n",
       "    .dataframe tbody tr th:only-of-type {\n",
       "        vertical-align: middle;\n",
       "    }\n",
       "\n",
       "    .dataframe tbody tr th {\n",
       "        vertical-align: top;\n",
       "    }\n",
       "\n",
       "    .dataframe thead th {\n",
       "        text-align: right;\n",
       "    }\n",
       "</style>\n",
       "<table border=\"1\" class=\"dataframe\">\n",
       "  <thead>\n",
       "    <tr style=\"text-align: right;\">\n",
       "      <th></th>\n",
       "      <th>f1</th>\n",
       "      <th>f2</th>\n",
       "      <th>salary</th>\n",
       "    </tr>\n",
       "  </thead>\n",
       "  <tbody>\n",
       "    <tr>\n",
       "      <th>0</th>\n",
       "      <td>1</td>\n",
       "      <td>4</td>\n",
       "      <td>10500000.0</td>\n",
       "    </tr>\n",
       "    <tr>\n",
       "      <th>1</th>\n",
       "      <td>3</td>\n",
       "      <td>4</td>\n",
       "      <td>8000000.0</td>\n",
       "    </tr>\n",
       "    <tr>\n",
       "      <th>2</th>\n",
       "      <td>1</td>\n",
       "      <td>3</td>\n",
       "      <td>4750000.0</td>\n",
       "    </tr>\n",
       "    <tr>\n",
       "      <th>3</th>\n",
       "      <td>2</td>\n",
       "      <td>3</td>\n",
       "      <td>5250000.0</td>\n",
       "    </tr>\n",
       "    <tr>\n",
       "      <th>4</th>\n",
       "      <td>2</td>\n",
       "      <td>2</td>\n",
       "      <td>15000000.0</td>\n",
       "    </tr>\n",
       "    <tr>\n",
       "      <th>...</th>\n",
       "      <td>...</td>\n",
       "      <td>...</td>\n",
       "      <td>...</td>\n",
       "    </tr>\n",
       "    <tr>\n",
       "      <th>6343</th>\n",
       "      <td>1</td>\n",
       "      <td>3</td>\n",
       "      <td>5100000.0</td>\n",
       "    </tr>\n",
       "    <tr>\n",
       "      <th>6344</th>\n",
       "      <td>1</td>\n",
       "      <td>3</td>\n",
       "      <td>2400000.0</td>\n",
       "    </tr>\n",
       "    <tr>\n",
       "      <th>6345</th>\n",
       "      <td>5</td>\n",
       "      <td>3</td>\n",
       "      <td>7700000.0</td>\n",
       "    </tr>\n",
       "    <tr>\n",
       "      <th>6346</th>\n",
       "      <td>1</td>\n",
       "      <td>4</td>\n",
       "      <td>8000000.0</td>\n",
       "    </tr>\n",
       "    <tr>\n",
       "      <th>6347</th>\n",
       "      <td>2</td>\n",
       "      <td>3</td>\n",
       "      <td>7500000.0</td>\n",
       "    </tr>\n",
       "  </tbody>\n",
       "</table>\n",
       "<p>6348 rows × 3 columns</p>\n",
       "</div>"
      ],
      "text/plain": [
       "      f1  f2      salary\n",
       "0      1   4  10500000.0\n",
       "1      3   4   8000000.0\n",
       "2      1   3   4750000.0\n",
       "3      2   3   5250000.0\n",
       "4      2   2  15000000.0\n",
       "...   ..  ..         ...\n",
       "6343   1   3   5100000.0\n",
       "6344   1   3   2400000.0\n",
       "6345   5   3   7700000.0\n",
       "6346   1   4   8000000.0\n",
       "6347   2   3   7500000.0\n",
       "\n",
       "[6348 rows x 3 columns]"
      ]
     },
     "execution_count": 25,
     "metadata": {},
     "output_type": "execute_result"
    }
   ],
   "source": [
    "dft2[['f1','f2','salary']]"
   ]
  },
  {
   "cell_type": "code",
   "execution_count": 26,
   "metadata": {},
   "outputs": [
    {
     "data": {
      "text/plain": [
       "OneHotEncoder()"
      ]
     },
     "execution_count": 26,
     "metadata": {},
     "output_type": "execute_result"
    }
   ],
   "source": [
    "enc = OneHotEncoder()\n",
    "enc.fit(dft2[['f2']])\n",
    "\n",
    "# Prediction Case\n",
    "enc = OneHotEncoder()\n",
    "enc.fit(dfp[['f2']])"
   ]
  },
  {
   "cell_type": "code",
   "execution_count": 27,
   "metadata": {},
   "outputs": [],
   "source": [
    "#predict\n",
    "new_cols = ['f2'+ str(i) for i in range(5)]\n",
    "df_onehot = pd.DataFrame(enc.transform(dft2[['f2']]).toarray(), columns=new_cols)\n",
    "df1 = pd.concat([dft2[['f1','salary']], df_onehot], axis = 1)\n",
    "\n",
    "# Prediction Case\n",
    "new_cols_pred = ['f2'+ str(i) for i in range(5)]\n",
    "df_onehot_pred = pd.DataFrame(enc.transform(dfp[['f2']]).toarray(), columns=new_cols_pred)\n",
    "dfp1 = pd.concat([dfp[['f1','salary']], df_onehot_pred], axis = 1)"
   ]
  },
  {
   "cell_type": "code",
   "execution_count": 28,
   "metadata": {},
   "outputs": [
    {
     "data": {
      "text/html": [
       "<div>\n",
       "<style scoped>\n",
       "    .dataframe tbody tr th:only-of-type {\n",
       "        vertical-align: middle;\n",
       "    }\n",
       "\n",
       "    .dataframe tbody tr th {\n",
       "        vertical-align: top;\n",
       "    }\n",
       "\n",
       "    .dataframe thead th {\n",
       "        text-align: right;\n",
       "    }\n",
       "</style>\n",
       "<table border=\"1\" class=\"dataframe\">\n",
       "  <thead>\n",
       "    <tr style=\"text-align: right;\">\n",
       "      <th></th>\n",
       "      <th>f1</th>\n",
       "      <th>salary</th>\n",
       "      <th>f20</th>\n",
       "      <th>f21</th>\n",
       "      <th>f22</th>\n",
       "      <th>f23</th>\n",
       "      <th>f24</th>\n",
       "    </tr>\n",
       "  </thead>\n",
       "  <tbody>\n",
       "    <tr>\n",
       "      <th>2680</th>\n",
       "      <td>3</td>\n",
       "      <td>6000000.0</td>\n",
       "      <td>0.0</td>\n",
       "      <td>0.0</td>\n",
       "      <td>0.0</td>\n",
       "      <td>0.0</td>\n",
       "      <td>1.0</td>\n",
       "    </tr>\n",
       "  </tbody>\n",
       "</table>\n",
       "</div>"
      ],
      "text/plain": [
       "      f1     salary  f20  f21  f22  f23  f24\n",
       "2680   3  6000000.0  0.0  0.0  0.0  0.0  1.0"
      ]
     },
     "execution_count": 28,
     "metadata": {},
     "output_type": "execute_result"
    }
   ],
   "source": [
    "df1.sample(1)"
   ]
  },
  {
   "cell_type": "code",
   "execution_count": 29,
   "metadata": {},
   "outputs": [],
   "source": [
    "dft2['company_size2'] = dft2['company_size'].fillna('1-50')\n",
    "\n",
    "# Prediction Case\n",
    "dfp['company_size2'] = dfp['company_size'].fillna('1-50')"
   ]
  },
  {
   "cell_type": "code",
   "execution_count": 30,
   "metadata": {},
   "outputs": [],
   "source": [
    "dft2['company_size2'].replace(' pekerja','', regex=True, inplace=True)\n",
    "dft2['company_size2'].replace(' ','', regex=True, inplace=True)"
   ]
  },
  {
   "cell_type": "code",
   "execution_count": 31,
   "metadata": {},
   "outputs": [],
   "source": [
    "dfp['company_size2'].replace(' pekerja','', regex=True, inplace=True)\n",
    "dfp['company_size2'].replace(' ','', regex=True, inplace=True)"
   ]
  },
  {
   "cell_type": "code",
   "execution_count": 32,
   "metadata": {},
   "outputs": [],
   "source": [
    "le = LabelEncoder()\n",
    "le.fit(dft2.company_size2)\n",
    "dft2['cs'] = le.transform(dft2.company_size2)\n",
    "\n",
    "le = LabelEncoder()\n",
    "le.fit(dfp.company_size2)\n",
    "dfp['cs'] = le.transform(dfp.company_size2)"
   ]
  },
  {
   "cell_type": "code",
   "execution_count": 33,
   "metadata": {},
   "outputs": [
    {
     "data": {
      "text/plain": [
       "OneHotEncoder()"
      ]
     },
     "execution_count": 33,
     "metadata": {},
     "output_type": "execute_result"
    }
   ],
   "source": [
    "enc = OneHotEncoder()\n",
    "enc.fit(dft2[['cs']])\n",
    "\n",
    "# Prediction Case\n",
    "enc = OneHotEncoder()\n",
    "enc.fit(dfp[['cs']])"
   ]
  },
  {
   "cell_type": "code",
   "execution_count": 34,
   "metadata": {},
   "outputs": [
    {
     "data": {
      "text/html": [
       "<div>\n",
       "<style scoped>\n",
       "    .dataframe tbody tr th:only-of-type {\n",
       "        vertical-align: middle;\n",
       "    }\n",
       "\n",
       "    .dataframe tbody tr th {\n",
       "        vertical-align: top;\n",
       "    }\n",
       "\n",
       "    .dataframe thead th {\n",
       "        text-align: right;\n",
       "    }\n",
       "</style>\n",
       "<table border=\"1\" class=\"dataframe\">\n",
       "  <thead>\n",
       "    <tr style=\"text-align: right;\">\n",
       "      <th></th>\n",
       "      <th>f1</th>\n",
       "      <th>f20</th>\n",
       "      <th>f21</th>\n",
       "      <th>f22</th>\n",
       "      <th>f23</th>\n",
       "      <th>f24</th>\n",
       "      <th>salary</th>\n",
       "      <th>cs0</th>\n",
       "      <th>cs1</th>\n",
       "      <th>cs2</th>\n",
       "      <th>cs3</th>\n",
       "      <th>cs4</th>\n",
       "      <th>cs5</th>\n",
       "      <th>cs6</th>\n",
       "    </tr>\n",
       "  </thead>\n",
       "  <tbody>\n",
       "    <tr>\n",
       "      <th>0</th>\n",
       "      <td>1</td>\n",
       "      <td>0.0</td>\n",
       "      <td>0.0</td>\n",
       "      <td>0.0</td>\n",
       "      <td>0.0</td>\n",
       "      <td>1.0</td>\n",
       "      <td>10500000.0</td>\n",
       "      <td>0.0</td>\n",
       "      <td>0.0</td>\n",
       "      <td>0.0</td>\n",
       "      <td>0.0</td>\n",
       "      <td>0.0</td>\n",
       "      <td>1.0</td>\n",
       "      <td>0.0</td>\n",
       "    </tr>\n",
       "    <tr>\n",
       "      <th>1</th>\n",
       "      <td>3</td>\n",
       "      <td>0.0</td>\n",
       "      <td>0.0</td>\n",
       "      <td>0.0</td>\n",
       "      <td>0.0</td>\n",
       "      <td>1.0</td>\n",
       "      <td>8000000.0</td>\n",
       "      <td>0.0</td>\n",
       "      <td>0.0</td>\n",
       "      <td>0.0</td>\n",
       "      <td>0.0</td>\n",
       "      <td>0.0</td>\n",
       "      <td>1.0</td>\n",
       "      <td>0.0</td>\n",
       "    </tr>\n",
       "    <tr>\n",
       "      <th>2</th>\n",
       "      <td>1</td>\n",
       "      <td>0.0</td>\n",
       "      <td>0.0</td>\n",
       "      <td>0.0</td>\n",
       "      <td>1.0</td>\n",
       "      <td>0.0</td>\n",
       "      <td>4750000.0</td>\n",
       "      <td>1.0</td>\n",
       "      <td>0.0</td>\n",
       "      <td>0.0</td>\n",
       "      <td>0.0</td>\n",
       "      <td>0.0</td>\n",
       "      <td>0.0</td>\n",
       "      <td>0.0</td>\n",
       "    </tr>\n",
       "    <tr>\n",
       "      <th>3</th>\n",
       "      <td>2</td>\n",
       "      <td>0.0</td>\n",
       "      <td>0.0</td>\n",
       "      <td>0.0</td>\n",
       "      <td>1.0</td>\n",
       "      <td>0.0</td>\n",
       "      <td>5250000.0</td>\n",
       "      <td>1.0</td>\n",
       "      <td>0.0</td>\n",
       "      <td>0.0</td>\n",
       "      <td>0.0</td>\n",
       "      <td>0.0</td>\n",
       "      <td>0.0</td>\n",
       "      <td>0.0</td>\n",
       "    </tr>\n",
       "    <tr>\n",
       "      <th>4</th>\n",
       "      <td>2</td>\n",
       "      <td>0.0</td>\n",
       "      <td>0.0</td>\n",
       "      <td>1.0</td>\n",
       "      <td>0.0</td>\n",
       "      <td>0.0</td>\n",
       "      <td>15000000.0</td>\n",
       "      <td>0.0</td>\n",
       "      <td>0.0</td>\n",
       "      <td>0.0</td>\n",
       "      <td>0.0</td>\n",
       "      <td>0.0</td>\n",
       "      <td>1.0</td>\n",
       "      <td>0.0</td>\n",
       "    </tr>\n",
       "    <tr>\n",
       "      <th>...</th>\n",
       "      <td>...</td>\n",
       "      <td>...</td>\n",
       "      <td>...</td>\n",
       "      <td>...</td>\n",
       "      <td>...</td>\n",
       "      <td>...</td>\n",
       "      <td>...</td>\n",
       "      <td>...</td>\n",
       "      <td>...</td>\n",
       "      <td>...</td>\n",
       "      <td>...</td>\n",
       "      <td>...</td>\n",
       "      <td>...</td>\n",
       "      <td>...</td>\n",
       "    </tr>\n",
       "    <tr>\n",
       "      <th>6343</th>\n",
       "      <td>1</td>\n",
       "      <td>0.0</td>\n",
       "      <td>0.0</td>\n",
       "      <td>0.0</td>\n",
       "      <td>1.0</td>\n",
       "      <td>0.0</td>\n",
       "      <td>5100000.0</td>\n",
       "      <td>1.0</td>\n",
       "      <td>0.0</td>\n",
       "      <td>0.0</td>\n",
       "      <td>0.0</td>\n",
       "      <td>0.0</td>\n",
       "      <td>0.0</td>\n",
       "      <td>0.0</td>\n",
       "    </tr>\n",
       "    <tr>\n",
       "      <th>6344</th>\n",
       "      <td>1</td>\n",
       "      <td>0.0</td>\n",
       "      <td>0.0</td>\n",
       "      <td>0.0</td>\n",
       "      <td>1.0</td>\n",
       "      <td>0.0</td>\n",
       "      <td>2400000.0</td>\n",
       "      <td>1.0</td>\n",
       "      <td>0.0</td>\n",
       "      <td>0.0</td>\n",
       "      <td>0.0</td>\n",
       "      <td>0.0</td>\n",
       "      <td>0.0</td>\n",
       "      <td>0.0</td>\n",
       "    </tr>\n",
       "    <tr>\n",
       "      <th>6345</th>\n",
       "      <td>5</td>\n",
       "      <td>0.0</td>\n",
       "      <td>0.0</td>\n",
       "      <td>0.0</td>\n",
       "      <td>1.0</td>\n",
       "      <td>0.0</td>\n",
       "      <td>7700000.0</td>\n",
       "      <td>1.0</td>\n",
       "      <td>0.0</td>\n",
       "      <td>0.0</td>\n",
       "      <td>0.0</td>\n",
       "      <td>0.0</td>\n",
       "      <td>0.0</td>\n",
       "      <td>0.0</td>\n",
       "    </tr>\n",
       "    <tr>\n",
       "      <th>6346</th>\n",
       "      <td>1</td>\n",
       "      <td>0.0</td>\n",
       "      <td>0.0</td>\n",
       "      <td>0.0</td>\n",
       "      <td>0.0</td>\n",
       "      <td>1.0</td>\n",
       "      <td>8000000.0</td>\n",
       "      <td>0.0</td>\n",
       "      <td>0.0</td>\n",
       "      <td>0.0</td>\n",
       "      <td>0.0</td>\n",
       "      <td>0.0</td>\n",
       "      <td>1.0</td>\n",
       "      <td>0.0</td>\n",
       "    </tr>\n",
       "    <tr>\n",
       "      <th>6347</th>\n",
       "      <td>2</td>\n",
       "      <td>0.0</td>\n",
       "      <td>0.0</td>\n",
       "      <td>0.0</td>\n",
       "      <td>1.0</td>\n",
       "      <td>0.0</td>\n",
       "      <td>7500000.0</td>\n",
       "      <td>0.0</td>\n",
       "      <td>0.0</td>\n",
       "      <td>0.0</td>\n",
       "      <td>1.0</td>\n",
       "      <td>0.0</td>\n",
       "      <td>0.0</td>\n",
       "      <td>0.0</td>\n",
       "    </tr>\n",
       "  </tbody>\n",
       "</table>\n",
       "<p>6348 rows × 14 columns</p>\n",
       "</div>"
      ],
      "text/plain": [
       "      f1  f20  f21  f22  f23  f24      salary  cs0  cs1  cs2  cs3  cs4  cs5  \\\n",
       "0      1  0.0  0.0  0.0  0.0  1.0  10500000.0  0.0  0.0  0.0  0.0  0.0  1.0   \n",
       "1      3  0.0  0.0  0.0  0.0  1.0   8000000.0  0.0  0.0  0.0  0.0  0.0  1.0   \n",
       "2      1  0.0  0.0  0.0  1.0  0.0   4750000.0  1.0  0.0  0.0  0.0  0.0  0.0   \n",
       "3      2  0.0  0.0  0.0  1.0  0.0   5250000.0  1.0  0.0  0.0  0.0  0.0  0.0   \n",
       "4      2  0.0  0.0  1.0  0.0  0.0  15000000.0  0.0  0.0  0.0  0.0  0.0  1.0   \n",
       "...   ..  ...  ...  ...  ...  ...         ...  ...  ...  ...  ...  ...  ...   \n",
       "6343   1  0.0  0.0  0.0  1.0  0.0   5100000.0  1.0  0.0  0.0  0.0  0.0  0.0   \n",
       "6344   1  0.0  0.0  0.0  1.0  0.0   2400000.0  1.0  0.0  0.0  0.0  0.0  0.0   \n",
       "6345   5  0.0  0.0  0.0  1.0  0.0   7700000.0  1.0  0.0  0.0  0.0  0.0  0.0   \n",
       "6346   1  0.0  0.0  0.0  0.0  1.0   8000000.0  0.0  0.0  0.0  0.0  0.0  1.0   \n",
       "6347   2  0.0  0.0  0.0  1.0  0.0   7500000.0  0.0  0.0  0.0  1.0  0.0  0.0   \n",
       "\n",
       "      cs6  \n",
       "0     0.0  \n",
       "1     0.0  \n",
       "2     0.0  \n",
       "3     0.0  \n",
       "4     0.0  \n",
       "...   ...  \n",
       "6343  0.0  \n",
       "6344  0.0  \n",
       "6345  0.0  \n",
       "6346  0.0  \n",
       "6347  0.0  \n",
       "\n",
       "[6348 rows x 14 columns]"
      ]
     },
     "execution_count": 34,
     "metadata": {},
     "output_type": "execute_result"
    }
   ],
   "source": [
    "new_cols1 = ['cs'+ str(i) for i in range(7)]\n",
    "df_onehot1 = pd.DataFrame(enc.transform(dft2[['cs']]).toarray(), columns=new_cols1)\n",
    "df2 = pd.concat([df1[['f1','f20', 'f21', 'f22', 'f23', 'f24','salary']], df_onehot1], axis = 1)\n",
    "df2"
   ]
  },
  {
   "cell_type": "code",
   "execution_count": 35,
   "metadata": {},
   "outputs": [
    {
     "data": {
      "text/plain": [
       "Index(['f1', 'f20', 'f21', 'f22', 'f23', 'f24', 'salary', 'cs0', 'cs1', 'cs2',\n",
       "       'cs3', 'cs4', 'cs5', 'cs6'],\n",
       "      dtype='object')"
      ]
     },
     "execution_count": 35,
     "metadata": {},
     "output_type": "execute_result"
    }
   ],
   "source": [
    "new_cols1_p = ['cs'+ str(i) for i in range(7)]\n",
    "df_onehot1_p = pd.DataFrame(enc.transform(dfp[['cs']]).toarray(), columns=new_cols1_p)\n",
    "dfp2 = pd.concat([dfp1[['f1','f20', 'f21', 'f22', 'f23', 'f24','salary']], df_onehot1_p], axis = 1)\n",
    "dfp2.columns"
   ]
  },
  {
   "cell_type": "code",
   "execution_count": 40,
   "metadata": {},
   "outputs": [
    {
     "data": {
      "text/html": [
       "<div>\n",
       "<style scoped>\n",
       "    .dataframe tbody tr th:only-of-type {\n",
       "        vertical-align: middle;\n",
       "    }\n",
       "\n",
       "    .dataframe tbody tr th {\n",
       "        vertical-align: top;\n",
       "    }\n",
       "\n",
       "    .dataframe thead th {\n",
       "        text-align: right;\n",
       "    }\n",
       "</style>\n",
       "<table border=\"1\" class=\"dataframe\">\n",
       "  <thead>\n",
       "    <tr style=\"text-align: right;\">\n",
       "      <th></th>\n",
       "      <th>job_title</th>\n",
       "      <th>location</th>\n",
       "      <th>salary_currency</th>\n",
       "      <th>career_level</th>\n",
       "      <th>experience_level</th>\n",
       "      <th>education_level</th>\n",
       "      <th>employment_type</th>\n",
       "      <th>job_function</th>\n",
       "      <th>job_benefits</th>\n",
       "      <th>company_process_time</th>\n",
       "      <th>company_size</th>\n",
       "      <th>company_industry</th>\n",
       "      <th>job_description</th>\n",
       "      <th>salary</th>\n",
       "      <th>experience_level2</th>\n",
       "      <th>f1</th>\n",
       "      <th>f2</th>\n",
       "      <th>company_size2</th>\n",
       "      <th>cs</th>\n",
       "    </tr>\n",
       "  </thead>\n",
       "  <tbody>\n",
       "    <tr>\n",
       "      <th>0</th>\n",
       "      <td>KEPALA PABRIK</td>\n",
       "      <td>Balikpapan</td>\n",
       "      <td>IDR</td>\n",
       "      <td>Supervisor/Koordinator</td>\n",
       "      <td>NaN</td>\n",
       "      <td>Sertifikat Professional, D3 (Diploma), D4 (Dip...</td>\n",
       "      <td>Penuh Waktu</td>\n",
       "      <td>Manufaktur,Manufaktur</td>\n",
       "      <td>Asuransi kesehatan;Bisnis (contoh: Kemeja);Pro...</td>\n",
       "      <td>18 days</td>\n",
       "      <td>51 - 200 pekerja</td>\n",
       "      <td>Manufaktur/Produksi</td>\n",
       "      <td>Tedmond Groups membuka Lowongan Kepala Pabrik,...</td>\n",
       "      <td>10500000.0</td>\n",
       "      <td>1 tahun</td>\n",
       "      <td>1</td>\n",
       "      <td>4</td>\n",
       "      <td>51-200</td>\n",
       "      <td>5</td>\n",
       "    </tr>\n",
       "    <tr>\n",
       "      <th>1</th>\n",
       "      <td>Tax Supervisor</td>\n",
       "      <td>Banten</td>\n",
       "      <td>IDR</td>\n",
       "      <td>Supervisor/Koordinator</td>\n",
       "      <td>3 tahun</td>\n",
       "      <td>Sertifikat Professional, D3 (Diploma), D4 (Dip...</td>\n",
       "      <td>Penuh Waktu</td>\n",
       "      <td>Akuntansi / Keuangan,Audit &amp; Pajak</td>\n",
       "      <td>Tip;Asuransi kesehatan;Waktu regular, Senin - ...</td>\n",
       "      <td>22 days</td>\n",
       "      <td>51 - 200 pekerja</td>\n",
       "      <td>Konstruksi/Bangunan/Teknik</td>\n",
       "      <td>ResponsibilitiesPrepare corporate income tax (...</td>\n",
       "      <td>8000000.0</td>\n",
       "      <td>3 tahun</td>\n",
       "      <td>3</td>\n",
       "      <td>4</td>\n",
       "      <td>51-200</td>\n",
       "      <td>5</td>\n",
       "    </tr>\n",
       "    <tr>\n",
       "      <th>2</th>\n",
       "      <td>Accounting Staff</td>\n",
       "      <td>Jakarta Pusat</td>\n",
       "      <td>IDR</td>\n",
       "      <td>Pegawai (non-manajemen &amp; non-supervisor)</td>\n",
       "      <td>1 tahun</td>\n",
       "      <td>SMA, SMU/SMK/STM, Sertifikat Professional, D3 ...</td>\n",
       "      <td>Penuh Waktu</td>\n",
       "      <td>Akuntansi / Keuangan,Akuntansi Umum / Pembiayaan</td>\n",
       "      <td>Tip;Asuransi kesehatan;Bisnis (contoh: Kemeja)...</td>\n",
       "      <td>NaN</td>\n",
       "      <td>1- 50 pekerja</td>\n",
       "      <td>Manufaktur/Produksi</td>\n",
       "      <td>DESKRIPSI PEKERJAAN:Memeriksa dan/atau membuat...</td>\n",
       "      <td>4750000.0</td>\n",
       "      <td>1 tahun</td>\n",
       "      <td>1</td>\n",
       "      <td>3</td>\n",
       "      <td>1-50</td>\n",
       "      <td>0</td>\n",
       "    </tr>\n",
       "    <tr>\n",
       "      <th>3</th>\n",
       "      <td>Senior Staff Purchasing</td>\n",
       "      <td>Surabaya</td>\n",
       "      <td>IDR</td>\n",
       "      <td>Pegawai (non-manajemen &amp; non-supervisor)</td>\n",
       "      <td>2 tahun</td>\n",
       "      <td>Sertifikat Professional, D3 (Diploma), D4 (Dip...</td>\n",
       "      <td>Penuh Waktu</td>\n",
       "      <td>Manufaktur,Pembelian/Manajemen Material</td>\n",
       "      <td>Asuransi kesehatan;Jam Bekerja yang Panjang;Bi...</td>\n",
       "      <td>29 days</td>\n",
       "      <td>1- 50 pekerja</td>\n",
       "      <td>Elektrikal &amp; Elektronik</td>\n",
       "      <td>Deskripsi Pekerjaan:Mampu melakukan rencana pe...</td>\n",
       "      <td>5250000.0</td>\n",
       "      <td>2 tahun</td>\n",
       "      <td>2</td>\n",
       "      <td>3</td>\n",
       "      <td>1-50</td>\n",
       "      <td>0</td>\n",
       "    </tr>\n",
       "    <tr>\n",
       "      <th>4</th>\n",
       "      <td>MARKETING COMMUNICATION &amp; CHANNEL MANAGER</td>\n",
       "      <td>Jakarta Pusat</td>\n",
       "      <td>IDR</td>\n",
       "      <td>Manajer/Asisten Manajer</td>\n",
       "      <td>2 tahun</td>\n",
       "      <td>Tidak terspesifikasi</td>\n",
       "      <td>Penuh Waktu</td>\n",
       "      <td>Penjualan / Pemasaran,Pemasaran/Pengembangan B...</td>\n",
       "      <td>Asuransi Gigi;Asuransi kesehatan;Parkir;Waktu ...</td>\n",
       "      <td>29 days</td>\n",
       "      <td>51 - 200 pekerja</td>\n",
       "      <td>Konsultasi (IT, Ilmu Pengetahuan, Teknis &amp; Tek...</td>\n",
       "      <td>SCOPE OF ROLE :To plan, develop, implement and...</td>\n",
       "      <td>15000000.0</td>\n",
       "      <td>2 tahun</td>\n",
       "      <td>2</td>\n",
       "      <td>2</td>\n",
       "      <td>51-200</td>\n",
       "      <td>5</td>\n",
       "    </tr>\n",
       "  </tbody>\n",
       "</table>\n",
       "</div>"
      ],
      "text/plain": [
       "                                   job_title       location salary_currency  \\\n",
       "0                              KEPALA PABRIK     Balikpapan             IDR   \n",
       "1                             Tax Supervisor         Banten             IDR   \n",
       "2                           Accounting Staff  Jakarta Pusat             IDR   \n",
       "3                    Senior Staff Purchasing       Surabaya             IDR   \n",
       "4  MARKETING COMMUNICATION & CHANNEL MANAGER  Jakarta Pusat             IDR   \n",
       "\n",
       "                               career_level experience_level  \\\n",
       "0                    Supervisor/Koordinator              NaN   \n",
       "1                    Supervisor/Koordinator          3 tahun   \n",
       "2  Pegawai (non-manajemen & non-supervisor)          1 tahun   \n",
       "3  Pegawai (non-manajemen & non-supervisor)          2 tahun   \n",
       "4                   Manajer/Asisten Manajer          2 tahun   \n",
       "\n",
       "                                     education_level employment_type  \\\n",
       "0  Sertifikat Professional, D3 (Diploma), D4 (Dip...     Penuh Waktu   \n",
       "1  Sertifikat Professional, D3 (Diploma), D4 (Dip...     Penuh Waktu   \n",
       "2  SMA, SMU/SMK/STM, Sertifikat Professional, D3 ...     Penuh Waktu   \n",
       "3  Sertifikat Professional, D3 (Diploma), D4 (Dip...     Penuh Waktu   \n",
       "4                               Tidak terspesifikasi     Penuh Waktu   \n",
       "\n",
       "                                        job_function  \\\n",
       "0                              Manufaktur,Manufaktur   \n",
       "1                 Akuntansi / Keuangan,Audit & Pajak   \n",
       "2   Akuntansi / Keuangan,Akuntansi Umum / Pembiayaan   \n",
       "3            Manufaktur,Pembelian/Manajemen Material   \n",
       "4  Penjualan / Pemasaran,Pemasaran/Pengembangan B...   \n",
       "\n",
       "                                        job_benefits company_process_time  \\\n",
       "0  Asuransi kesehatan;Bisnis (contoh: Kemeja);Pro...              18 days   \n",
       "1  Tip;Asuransi kesehatan;Waktu regular, Senin - ...              22 days   \n",
       "2  Tip;Asuransi kesehatan;Bisnis (contoh: Kemeja)...                  NaN   \n",
       "3  Asuransi kesehatan;Jam Bekerja yang Panjang;Bi...              29 days   \n",
       "4  Asuransi Gigi;Asuransi kesehatan;Parkir;Waktu ...              29 days   \n",
       "\n",
       "       company_size                                   company_industry  \\\n",
       "0  51 - 200 pekerja                                Manufaktur/Produksi   \n",
       "1  51 - 200 pekerja                         Konstruksi/Bangunan/Teknik   \n",
       "2     1- 50 pekerja                                Manufaktur/Produksi   \n",
       "3     1- 50 pekerja                            Elektrikal & Elektronik   \n",
       "4  51 - 200 pekerja  Konsultasi (IT, Ilmu Pengetahuan, Teknis & Tek...   \n",
       "\n",
       "                                     job_description      salary  \\\n",
       "0  Tedmond Groups membuka Lowongan Kepala Pabrik,...  10500000.0   \n",
       "1  ResponsibilitiesPrepare corporate income tax (...   8000000.0   \n",
       "2  DESKRIPSI PEKERJAAN:Memeriksa dan/atau membuat...   4750000.0   \n",
       "3  Deskripsi Pekerjaan:Mampu melakukan rencana pe...   5250000.0   \n",
       "4  SCOPE OF ROLE :To plan, develop, implement and...  15000000.0   \n",
       "\n",
       "  experience_level2  f1  f2 company_size2  cs  \n",
       "0           1 tahun   1   4        51-200   5  \n",
       "1           3 tahun   3   4        51-200   5  \n",
       "2           1 tahun   1   3          1-50   0  \n",
       "3           2 tahun   2   3          1-50   0  \n",
       "4           2 tahun   2   2        51-200   5  "
      ]
     },
     "execution_count": 40,
     "metadata": {},
     "output_type": "execute_result"
    }
   ],
   "source": [
    "dft2.head()"
   ]
  },
  {
   "cell_type": "markdown",
   "metadata": {},
   "source": [
    "### Encode Employment Type"
   ]
  },
  {
   "cell_type": "code",
   "execution_count": 42,
   "metadata": {},
   "outputs": [],
   "source": [
    "le = LabelEncoder()\n",
    "le.fit(dft2.employment_type)\n",
    "dft2['et'] = le.transform(dft2.employment_type)\n",
    "\n",
    "le = LabelEncoder()\n",
    "le.fit(dfp.employment_type)\n",
    "dfp['et'] = le.transform(dfp.employment_type)"
   ]
  },
  {
   "cell_type": "code",
   "execution_count": 43,
   "metadata": {},
   "outputs": [
    {
     "data": {
      "text/plain": [
       "OneHotEncoder()"
      ]
     },
     "execution_count": 43,
     "metadata": {},
     "output_type": "execute_result"
    }
   ],
   "source": [
    "enc = OneHotEncoder()\n",
    "enc.fit(dft2[['et']])\n",
    "\n",
    "# Prediction Case\n",
    "enc = OneHotEncoder()\n",
    "enc.fit(dfp[['et']])"
   ]
  },
  {
   "cell_type": "code",
   "execution_count": 44,
   "metadata": {},
   "outputs": [
    {
     "data": {
      "text/plain": [
       "Index(['f1', 'f20', 'f21', 'f22', 'f23', 'f24', 'salary', 'cs0', 'cs1', 'cs2',\n",
       "       'cs3', 'cs4', 'cs5', 'cs6', 'et0', 'et1', 'et2', 'et3', 'et4'],\n",
       "      dtype='object')"
      ]
     },
     "execution_count": 44,
     "metadata": {},
     "output_type": "execute_result"
    }
   ],
   "source": [
    "new_cols2 = ['et'+ str(i) for i in range(5)]\n",
    "df_onehot2 = pd.DataFrame(enc.transform(dft2[['et']]).toarray(), columns=new_cols2)\n",
    "df3 = pd.concat([df2[['f1','f20', 'f21', 'f22', 'f23', 'f24','salary','cs0', 'cs1', 'cs2',\n",
    "       'cs3', 'cs4', 'cs5', 'cs6']], df_onehot2], axis = 1)\n",
    "df3.columns"
   ]
  },
  {
   "cell_type": "code",
   "execution_count": 45,
   "metadata": {},
   "outputs": [
    {
     "data": {
      "text/plain": [
       "Index(['f1', 'f20', 'f21', 'f22', 'f23', 'f24', 'cs0', 'cs1', 'cs2', 'cs3',\n",
       "       'cs4', 'cs5', 'cs6', 'salary', 'et0', 'et1', 'et2', 'et3', 'et4'],\n",
       "      dtype='object')"
      ]
     },
     "execution_count": 45,
     "metadata": {},
     "output_type": "execute_result"
    }
   ],
   "source": [
    "new_cols2_p = ['et'+ str(i) for i in range(5)]\n",
    "df_onehot2_p = pd.DataFrame(enc.transform(dfp[['et']]).toarray(), columns=new_cols2_p)\n",
    "dfp3 = pd.concat([dfp2[['f1','f20', 'f21', 'f22', 'f23', 'f24','cs0', 'cs1', 'cs2', 'cs3',\n",
    "       'cs4', 'cs5', 'cs6','salary']], df_onehot2_p], axis = 1)\n",
    "dfp3.columns"
   ]
  },
  {
   "cell_type": "code",
   "execution_count": 46,
   "metadata": {},
   "outputs": [],
   "source": [
    "X = df3[['f1']+new_cols+new_cols1+new_cols2]\n",
    "y = df3['salary']\n",
    "\n",
    "px = dfp3[['f1']+new_cols_pred+new_cols1_p+new_cols2_p]\n",
    "py = dfp3['salary']"
   ]
  },
  {
   "cell_type": "code",
   "execution_count": 47,
   "metadata": {},
   "outputs": [],
   "source": [
    "X_train, X_test, y_train, y_test = train_test_split(X, y, test_size=0.25, random_state=42)\n",
    "\n",
    "# Predict Case\n",
    "px_train, px_pred, py_train, py_pred = train_test_split(px, py, test_size=0.25, random_state=42)"
   ]
  },
  {
   "cell_type": "code",
   "execution_count": 48,
   "metadata": {},
   "outputs": [],
   "source": [
    "model1 = LinearRegression()\n",
    "model2 = PolynomialFeatures(degree=1)\n",
    "model3 = PolynomialFeatures(degree=2)\n",
    "model4 = PolynomialFeatures(degree=3)\n",
    "model5 = PolynomialFeatures(degree=4)\n"
   ]
  },
  {
   "cell_type": "code",
   "execution_count": 49,
   "metadata": {},
   "outputs": [
    {
     "data": {
      "text/html": [
       "<div>\n",
       "<style scoped>\n",
       "    .dataframe tbody tr th:only-of-type {\n",
       "        vertical-align: middle;\n",
       "    }\n",
       "\n",
       "    .dataframe tbody tr th {\n",
       "        vertical-align: top;\n",
       "    }\n",
       "\n",
       "    .dataframe thead th {\n",
       "        text-align: right;\n",
       "    }\n",
       "</style>\n",
       "<table border=\"1\" class=\"dataframe\">\n",
       "  <thead>\n",
       "    <tr style=\"text-align: right;\">\n",
       "      <th></th>\n",
       "      <th>f1</th>\n",
       "      <th>f20</th>\n",
       "      <th>f21</th>\n",
       "      <th>f22</th>\n",
       "      <th>f23</th>\n",
       "      <th>f24</th>\n",
       "      <th>cs0</th>\n",
       "      <th>cs1</th>\n",
       "      <th>cs2</th>\n",
       "      <th>cs3</th>\n",
       "      <th>cs4</th>\n",
       "      <th>cs5</th>\n",
       "      <th>cs6</th>\n",
       "      <th>et0</th>\n",
       "      <th>et1</th>\n",
       "      <th>et2</th>\n",
       "      <th>et3</th>\n",
       "      <th>et4</th>\n",
       "    </tr>\n",
       "  </thead>\n",
       "  <tbody>\n",
       "    <tr>\n",
       "      <th>4072</th>\n",
       "      <td>2</td>\n",
       "      <td>0.0</td>\n",
       "      <td>0.0</td>\n",
       "      <td>0.0</td>\n",
       "      <td>1.0</td>\n",
       "      <td>0.0</td>\n",
       "      <td>0.0</td>\n",
       "      <td>0.0</td>\n",
       "      <td>0.0</td>\n",
       "      <td>0.0</td>\n",
       "      <td>1.0</td>\n",
       "      <td>0.0</td>\n",
       "      <td>0.0</td>\n",
       "      <td>0.0</td>\n",
       "      <td>0.0</td>\n",
       "      <td>0.0</td>\n",
       "      <td>1.0</td>\n",
       "      <td>0.0</td>\n",
       "    </tr>\n",
       "    <tr>\n",
       "      <th>3426</th>\n",
       "      <td>2</td>\n",
       "      <td>0.0</td>\n",
       "      <td>0.0</td>\n",
       "      <td>0.0</td>\n",
       "      <td>1.0</td>\n",
       "      <td>0.0</td>\n",
       "      <td>0.0</td>\n",
       "      <td>0.0</td>\n",
       "      <td>0.0</td>\n",
       "      <td>0.0</td>\n",
       "      <td>0.0</td>\n",
       "      <td>1.0</td>\n",
       "      <td>0.0</td>\n",
       "      <td>0.0</td>\n",
       "      <td>0.0</td>\n",
       "      <td>0.0</td>\n",
       "      <td>1.0</td>\n",
       "      <td>0.0</td>\n",
       "    </tr>\n",
       "    <tr>\n",
       "      <th>1173</th>\n",
       "      <td>1</td>\n",
       "      <td>0.0</td>\n",
       "      <td>0.0</td>\n",
       "      <td>0.0</td>\n",
       "      <td>0.0</td>\n",
       "      <td>1.0</td>\n",
       "      <td>1.0</td>\n",
       "      <td>0.0</td>\n",
       "      <td>0.0</td>\n",
       "      <td>0.0</td>\n",
       "      <td>0.0</td>\n",
       "      <td>0.0</td>\n",
       "      <td>0.0</td>\n",
       "      <td>0.0</td>\n",
       "      <td>0.0</td>\n",
       "      <td>0.0</td>\n",
       "      <td>1.0</td>\n",
       "      <td>0.0</td>\n",
       "    </tr>\n",
       "    <tr>\n",
       "      <th>4669</th>\n",
       "      <td>1</td>\n",
       "      <td>0.0</td>\n",
       "      <td>1.0</td>\n",
       "      <td>0.0</td>\n",
       "      <td>0.0</td>\n",
       "      <td>0.0</td>\n",
       "      <td>0.0</td>\n",
       "      <td>0.0</td>\n",
       "      <td>1.0</td>\n",
       "      <td>0.0</td>\n",
       "      <td>0.0</td>\n",
       "      <td>0.0</td>\n",
       "      <td>0.0</td>\n",
       "      <td>0.0</td>\n",
       "      <td>0.0</td>\n",
       "      <td>0.0</td>\n",
       "      <td>1.0</td>\n",
       "      <td>0.0</td>\n",
       "    </tr>\n",
       "    <tr>\n",
       "      <th>1561</th>\n",
       "      <td>2</td>\n",
       "      <td>0.0</td>\n",
       "      <td>0.0</td>\n",
       "      <td>1.0</td>\n",
       "      <td>0.0</td>\n",
       "      <td>0.0</td>\n",
       "      <td>0.0</td>\n",
       "      <td>0.0</td>\n",
       "      <td>0.0</td>\n",
       "      <td>0.0</td>\n",
       "      <td>0.0</td>\n",
       "      <td>0.0</td>\n",
       "      <td>1.0</td>\n",
       "      <td>0.0</td>\n",
       "      <td>0.0</td>\n",
       "      <td>0.0</td>\n",
       "      <td>1.0</td>\n",
       "      <td>0.0</td>\n",
       "    </tr>\n",
       "    <tr>\n",
       "      <th>...</th>\n",
       "      <td>...</td>\n",
       "      <td>...</td>\n",
       "      <td>...</td>\n",
       "      <td>...</td>\n",
       "      <td>...</td>\n",
       "      <td>...</td>\n",
       "      <td>...</td>\n",
       "      <td>...</td>\n",
       "      <td>...</td>\n",
       "      <td>...</td>\n",
       "      <td>...</td>\n",
       "      <td>...</td>\n",
       "      <td>...</td>\n",
       "      <td>...</td>\n",
       "      <td>...</td>\n",
       "      <td>...</td>\n",
       "      <td>...</td>\n",
       "      <td>...</td>\n",
       "    </tr>\n",
       "    <tr>\n",
       "      <th>3772</th>\n",
       "      <td>3</td>\n",
       "      <td>0.0</td>\n",
       "      <td>0.0</td>\n",
       "      <td>0.0</td>\n",
       "      <td>1.0</td>\n",
       "      <td>0.0</td>\n",
       "      <td>0.0</td>\n",
       "      <td>0.0</td>\n",
       "      <td>0.0</td>\n",
       "      <td>1.0</td>\n",
       "      <td>0.0</td>\n",
       "      <td>0.0</td>\n",
       "      <td>0.0</td>\n",
       "      <td>0.0</td>\n",
       "      <td>0.0</td>\n",
       "      <td>0.0</td>\n",
       "      <td>1.0</td>\n",
       "      <td>0.0</td>\n",
       "    </tr>\n",
       "    <tr>\n",
       "      <th>5191</th>\n",
       "      <td>1</td>\n",
       "      <td>0.0</td>\n",
       "      <td>1.0</td>\n",
       "      <td>0.0</td>\n",
       "      <td>0.0</td>\n",
       "      <td>0.0</td>\n",
       "      <td>0.0</td>\n",
       "      <td>0.0</td>\n",
       "      <td>0.0</td>\n",
       "      <td>0.0</td>\n",
       "      <td>0.0</td>\n",
       "      <td>1.0</td>\n",
       "      <td>0.0</td>\n",
       "      <td>0.0</td>\n",
       "      <td>1.0</td>\n",
       "      <td>0.0</td>\n",
       "      <td>0.0</td>\n",
       "      <td>0.0</td>\n",
       "    </tr>\n",
       "    <tr>\n",
       "      <th>5226</th>\n",
       "      <td>1</td>\n",
       "      <td>0.0</td>\n",
       "      <td>0.0</td>\n",
       "      <td>0.0</td>\n",
       "      <td>1.0</td>\n",
       "      <td>0.0</td>\n",
       "      <td>1.0</td>\n",
       "      <td>0.0</td>\n",
       "      <td>0.0</td>\n",
       "      <td>0.0</td>\n",
       "      <td>0.0</td>\n",
       "      <td>0.0</td>\n",
       "      <td>0.0</td>\n",
       "      <td>0.0</td>\n",
       "      <td>0.0</td>\n",
       "      <td>0.0</td>\n",
       "      <td>1.0</td>\n",
       "      <td>0.0</td>\n",
       "    </tr>\n",
       "    <tr>\n",
       "      <th>5390</th>\n",
       "      <td>1</td>\n",
       "      <td>0.0</td>\n",
       "      <td>0.0</td>\n",
       "      <td>0.0</td>\n",
       "      <td>1.0</td>\n",
       "      <td>0.0</td>\n",
       "      <td>1.0</td>\n",
       "      <td>0.0</td>\n",
       "      <td>0.0</td>\n",
       "      <td>0.0</td>\n",
       "      <td>0.0</td>\n",
       "      <td>0.0</td>\n",
       "      <td>0.0</td>\n",
       "      <td>0.0</td>\n",
       "      <td>0.0</td>\n",
       "      <td>0.0</td>\n",
       "      <td>1.0</td>\n",
       "      <td>0.0</td>\n",
       "    </tr>\n",
       "    <tr>\n",
       "      <th>860</th>\n",
       "      <td>1</td>\n",
       "      <td>0.0</td>\n",
       "      <td>0.0</td>\n",
       "      <td>0.0</td>\n",
       "      <td>1.0</td>\n",
       "      <td>0.0</td>\n",
       "      <td>0.0</td>\n",
       "      <td>0.0</td>\n",
       "      <td>1.0</td>\n",
       "      <td>0.0</td>\n",
       "      <td>0.0</td>\n",
       "      <td>0.0</td>\n",
       "      <td>0.0</td>\n",
       "      <td>0.0</td>\n",
       "      <td>0.0</td>\n",
       "      <td>0.0</td>\n",
       "      <td>1.0</td>\n",
       "      <td>0.0</td>\n",
       "    </tr>\n",
       "  </tbody>\n",
       "</table>\n",
       "<p>4761 rows × 18 columns</p>\n",
       "</div>"
      ],
      "text/plain": [
       "      f1  f20  f21  f22  f23  f24  cs0  cs1  cs2  cs3  cs4  cs5  cs6  et0  \\\n",
       "4072   2  0.0  0.0  0.0  1.0  0.0  0.0  0.0  0.0  0.0  1.0  0.0  0.0  0.0   \n",
       "3426   2  0.0  0.0  0.0  1.0  0.0  0.0  0.0  0.0  0.0  0.0  1.0  0.0  0.0   \n",
       "1173   1  0.0  0.0  0.0  0.0  1.0  1.0  0.0  0.0  0.0  0.0  0.0  0.0  0.0   \n",
       "4669   1  0.0  1.0  0.0  0.0  0.0  0.0  0.0  1.0  0.0  0.0  0.0  0.0  0.0   \n",
       "1561   2  0.0  0.0  1.0  0.0  0.0  0.0  0.0  0.0  0.0  0.0  0.0  1.0  0.0   \n",
       "...   ..  ...  ...  ...  ...  ...  ...  ...  ...  ...  ...  ...  ...  ...   \n",
       "3772   3  0.0  0.0  0.0  1.0  0.0  0.0  0.0  0.0  1.0  0.0  0.0  0.0  0.0   \n",
       "5191   1  0.0  1.0  0.0  0.0  0.0  0.0  0.0  0.0  0.0  0.0  1.0  0.0  0.0   \n",
       "5226   1  0.0  0.0  0.0  1.0  0.0  1.0  0.0  0.0  0.0  0.0  0.0  0.0  0.0   \n",
       "5390   1  0.0  0.0  0.0  1.0  0.0  1.0  0.0  0.0  0.0  0.0  0.0  0.0  0.0   \n",
       "860    1  0.0  0.0  0.0  1.0  0.0  0.0  0.0  1.0  0.0  0.0  0.0  0.0  0.0   \n",
       "\n",
       "      et1  et2  et3  et4  \n",
       "4072  0.0  0.0  1.0  0.0  \n",
       "3426  0.0  0.0  1.0  0.0  \n",
       "1173  0.0  0.0  1.0  0.0  \n",
       "4669  0.0  0.0  1.0  0.0  \n",
       "1561  0.0  0.0  1.0  0.0  \n",
       "...   ...  ...  ...  ...  \n",
       "3772  0.0  0.0  1.0  0.0  \n",
       "5191  1.0  0.0  0.0  0.0  \n",
       "5226  0.0  0.0  1.0  0.0  \n",
       "5390  0.0  0.0  1.0  0.0  \n",
       "860   0.0  0.0  1.0  0.0  \n",
       "\n",
       "[4761 rows x 18 columns]"
      ]
     },
     "execution_count": 49,
     "metadata": {},
     "output_type": "execute_result"
    }
   ],
   "source": [
    "X_train"
   ]
  },
  {
   "cell_type": "code",
   "execution_count": 50,
   "metadata": {},
   "outputs": [
    {
     "data": {
      "text/plain": [
       "4072     2875000.0\n",
       "3426     7500000.0\n",
       "1173     7000000.0\n",
       "4669     2600000.0\n",
       "1561    11250000.0\n",
       "           ...    \n",
       "3772     6500000.0\n",
       "5191     1500000.0\n",
       "5226     7000000.0\n",
       "5390     5640000.0\n",
       "860      5750000.0\n",
       "Name: salary, Length: 4761, dtype: float64"
      ]
     },
     "execution_count": 50,
     "metadata": {},
     "output_type": "execute_result"
    }
   ],
   "source": [
    "y_train"
   ]
  },
  {
   "cell_type": "code",
   "execution_count": 51,
   "metadata": {},
   "outputs": [
    {
     "data": {
      "text/plain": [
       "LinearRegression()"
      ]
     },
     "execution_count": 51,
     "metadata": {},
     "output_type": "execute_result"
    }
   ],
   "source": [
    "model1.fit(X_train, y_train)"
   ]
  },
  {
   "cell_type": "code",
   "execution_count": 52,
   "metadata": {},
   "outputs": [
    {
     "name": "stdout",
     "output_type": "stream",
     "text": [
      "Intercept:  -7.324321964924532e+18\n",
      "coefficients: \n"
     ]
    },
    {
     "data": {
      "text/plain": [
       "[('f1', 1213599.59553213),\n",
       " ('f20', -2.0356385276727875e+17),\n",
       " ('f21', -2.0356385278136438e+17),\n",
       " ('f22', -2.0356385277673152e+17),\n",
       " ('f23', -2.0356385278123603e+17),\n",
       " ('f24', -2.035638527805292e+17),\n",
       " ('cs0', 7.887460461035694e+18),\n",
       " ('cs1', 7.887460461035794e+18),\n",
       " ('cs2', 7.887460461036169e+18),\n",
       " ('cs3', 7.887460461035817e+18),\n",
       " ('cs4', 7.887460461035604e+18),\n",
       " ('cs5', 7.887460461035796e+18),\n",
       " ('cs6', 7.8874604610365e+18),\n",
       " ('et0', -3.5957464332734214e+17),\n",
       " ('et1', -3.595746433288242e+17),\n",
       " ('et2', -3.595746433278889e+17),\n",
       " ('et3', -3.595746433264375e+17),\n",
       " ('et4', -3.595746433268475e+17)]"
      ]
     },
     "execution_count": 52,
     "metadata": {},
     "output_type": "execute_result"
    }
   ],
   "source": [
    "print(\"Intercept: \", model1.intercept_)\n",
    "print(\"coefficients: \")\n",
    "list(zip(X, model1.coef_))"
   ]
  },
  {
   "cell_type": "code",
   "execution_count": 53,
   "metadata": {},
   "outputs": [],
   "source": [
    "predictions = model1.predict(X_test)"
   ]
  },
  {
   "cell_type": "code",
   "execution_count": 54,
   "metadata": {},
   "outputs": [
    {
     "name": "stdout",
     "output_type": "stream",
     "text": [
      "Prediction for test set: [ 7130112.  6723584. 26043392. ... 14163968. 20348928.  4804608.]\n"
     ]
    }
   ],
   "source": [
    "print(\"Prediction for test set: {}\".format(predictions))"
   ]
  },
  {
   "cell_type": "code",
   "execution_count": 55,
   "metadata": {},
   "outputs": [
    {
     "data": {
      "text/html": [
       "<div>\n",
       "<style scoped>\n",
       "    .dataframe tbody tr th:only-of-type {\n",
       "        vertical-align: middle;\n",
       "    }\n",
       "\n",
       "    .dataframe tbody tr th {\n",
       "        vertical-align: top;\n",
       "    }\n",
       "\n",
       "    .dataframe thead th {\n",
       "        text-align: right;\n",
       "    }\n",
       "</style>\n",
       "<table border=\"1\" class=\"dataframe\">\n",
       "  <thead>\n",
       "    <tr style=\"text-align: right;\">\n",
       "      <th></th>\n",
       "      <th>Actual value</th>\n",
       "      <th>Predicted value</th>\n",
       "    </tr>\n",
       "  </thead>\n",
       "  <tbody>\n",
       "    <tr>\n",
       "      <th>730</th>\n",
       "      <td>7500000.0</td>\n",
       "      <td>7130112.0</td>\n",
       "    </tr>\n",
       "    <tr>\n",
       "      <th>2131</th>\n",
       "      <td>7500000.0</td>\n",
       "      <td>6723584.0</td>\n",
       "    </tr>\n",
       "    <tr>\n",
       "      <th>3070</th>\n",
       "      <td>18000000.0</td>\n",
       "      <td>26043392.0</td>\n",
       "    </tr>\n",
       "    <tr>\n",
       "      <th>6101</th>\n",
       "      <td>5500000.0</td>\n",
       "      <td>5409792.0</td>\n",
       "    </tr>\n",
       "    <tr>\n",
       "      <th>217</th>\n",
       "      <td>7200000.0</td>\n",
       "      <td>6623232.0</td>\n",
       "    </tr>\n",
       "    <tr>\n",
       "      <th>...</th>\n",
       "      <td>...</td>\n",
       "      <td>...</td>\n",
       "    </tr>\n",
       "    <tr>\n",
       "      <th>4329</th>\n",
       "      <td>10000000.0</td>\n",
       "      <td>10831872.0</td>\n",
       "    </tr>\n",
       "    <tr>\n",
       "      <th>925</th>\n",
       "      <td>3600000.0</td>\n",
       "      <td>5787648.0</td>\n",
       "    </tr>\n",
       "    <tr>\n",
       "      <th>5552</th>\n",
       "      <td>30000000.0</td>\n",
       "      <td>14163968.0</td>\n",
       "    </tr>\n",
       "    <tr>\n",
       "      <th>295</th>\n",
       "      <td>12000000.0</td>\n",
       "      <td>20348928.0</td>\n",
       "    </tr>\n",
       "    <tr>\n",
       "      <th>1052</th>\n",
       "      <td>6500000.0</td>\n",
       "      <td>4804608.0</td>\n",
       "    </tr>\n",
       "  </tbody>\n",
       "</table>\n",
       "<p>1587 rows × 2 columns</p>\n",
       "</div>"
      ],
      "text/plain": [
       "      Actual value  Predicted value\n",
       "730      7500000.0        7130112.0\n",
       "2131     7500000.0        6723584.0\n",
       "3070    18000000.0       26043392.0\n",
       "6101     5500000.0        5409792.0\n",
       "217      7200000.0        6623232.0\n",
       "...            ...              ...\n",
       "4329    10000000.0       10831872.0\n",
       "925      3600000.0        5787648.0\n",
       "5552    30000000.0       14163968.0\n",
       "295     12000000.0       20348928.0\n",
       "1052     6500000.0        4804608.0\n",
       "\n",
       "[1587 rows x 2 columns]"
      ]
     },
     "execution_count": 55,
     "metadata": {},
     "output_type": "execute_result"
    }
   ],
   "source": [
    "model1_diff = pd.DataFrame({'Actual value': y_test, 'Predicted value': predictions})\n",
    "model1_diff"
   ]
  },
  {
   "cell_type": "code",
   "execution_count": 56,
   "metadata": {},
   "outputs": [
    {
     "data": {
      "text/plain": [
       "(3000,)"
      ]
     },
     "execution_count": 56,
     "metadata": {},
     "output_type": "execute_result"
    }
   ],
   "source": [
    "# Predict Case\n",
    "submission = model1.predict(px)\n",
    "submission.shape"
   ]
  },
  {
   "cell_type": "code",
   "execution_count": 57,
   "metadata": {},
   "outputs": [],
   "source": [
    "py = dfp3.assign(salary = submission)"
   ]
  },
  {
   "cell_type": "code",
   "execution_count": 58,
   "metadata": {},
   "outputs": [
    {
     "data": {
      "text/html": [
       "<div>\n",
       "<style scoped>\n",
       "    .dataframe tbody tr th:only-of-type {\n",
       "        vertical-align: middle;\n",
       "    }\n",
       "\n",
       "    .dataframe tbody tr th {\n",
       "        vertical-align: top;\n",
       "    }\n",
       "\n",
       "    .dataframe thead th {\n",
       "        text-align: right;\n",
       "    }\n",
       "</style>\n",
       "<table border=\"1\" class=\"dataframe\">\n",
       "  <thead>\n",
       "    <tr style=\"text-align: right;\">\n",
       "      <th></th>\n",
       "      <th>id</th>\n",
       "      <th>job_title</th>\n",
       "      <th>location</th>\n",
       "      <th>salary_currency</th>\n",
       "      <th>career_level</th>\n",
       "      <th>experience_level</th>\n",
       "      <th>education_level</th>\n",
       "      <th>employment_type</th>\n",
       "      <th>job_function</th>\n",
       "      <th>job_benefits</th>\n",
       "      <th>...</th>\n",
       "      <th>company_size</th>\n",
       "      <th>company_industry</th>\n",
       "      <th>job_description,,,,,,,,,,,,,,,,,,,,,,,,,,,,,,,,,,,,,,,,,,,,,,,,,,,,,,,,,,,,,,,,,,,,,,,,,,,,,,</th>\n",
       "      <th>salary</th>\n",
       "      <th>experience_level2</th>\n",
       "      <th>f1</th>\n",
       "      <th>f2</th>\n",
       "      <th>company_size2</th>\n",
       "      <th>cs</th>\n",
       "      <th>et</th>\n",
       "    </tr>\n",
       "  </thead>\n",
       "  <tbody>\n",
       "    <tr>\n",
       "      <th>0</th>\n",
       "      <td>31747</td>\n",
       "      <td>Sous Chef</td>\n",
       "      <td>Lombok</td>\n",
       "      <td>IDR</td>\n",
       "      <td>Pegawai (non-manajemen &amp; non-supervisor)</td>\n",
       "      <td>8 tahun</td>\n",
       "      <td>Sertifikat Professional, D3 (Diploma), D4 (Dip...</td>\n",
       "      <td>Penuh Waktu</td>\n",
       "      <td>Hotel/Restoran,Makanan/Minuman/Pelayanan Restoran</td>\n",
       "      <td>NaN</td>\n",
       "      <td>...</td>\n",
       "      <td>NaN</td>\n",
       "      <td>Makanan &amp; Minuman/Katering/Restoran</td>\n",
       "      <td>Candidate must posses at least bachelor degree...</td>\n",
       "      <td>13197312.0</td>\n",
       "      <td>8 tahun</td>\n",
       "      <td>8</td>\n",
       "      <td>3</td>\n",
       "      <td>1-50</td>\n",
       "      <td>0</td>\n",
       "      <td>3</td>\n",
       "    </tr>\n",
       "    <tr>\n",
       "      <th>1</th>\n",
       "      <td>31748</td>\n",
       "      <td>Bancassurance Officer (Area: Bali, Sulawesi Ut...</td>\n",
       "      <td>Palu</td>\n",
       "      <td>IDR</td>\n",
       "      <td>Pegawai (non-manajemen &amp; non-supervisor)</td>\n",
       "      <td>1 tahun</td>\n",
       "      <td>Sertifikat Professional, D3 (Diploma), D4 (Dip...</td>\n",
       "      <td>Penuh Waktu</td>\n",
       "      <td>Penjualan / Pemasaran,Penjualan - Jasa Keuangan</td>\n",
       "      <td>Asuransi kesehatan;Waktu regular, Senin - Juma...</td>\n",
       "      <td>...</td>\n",
       "      <td>201 - 500 pekerja</td>\n",
       "      <td>Asuransi</td>\n",
       "      <td>Bancassurance Officer adalah Representative da...</td>\n",
       "      <td>4825088.0</td>\n",
       "      <td>1 tahun</td>\n",
       "      <td>1</td>\n",
       "      <td>3</td>\n",
       "      <td>201-500</td>\n",
       "      <td>3</td>\n",
       "      <td>3</td>\n",
       "    </tr>\n",
       "    <tr>\n",
       "      <th>2</th>\n",
       "      <td>31749</td>\n",
       "      <td>Marketing Staff</td>\n",
       "      <td>Jakarta Utara</td>\n",
       "      <td>IDR</td>\n",
       "      <td>Pegawai (non-manajemen &amp; non-supervisor)</td>\n",
       "      <td>1 tahun</td>\n",
       "      <td>SMA, SMU/SMK/STM, Sertifikat Professional, D3 ...</td>\n",
       "      <td>Penuh Waktu</td>\n",
       "      <td>Penjualan / Pemasaran,Pemasaran/Pengembangan B...</td>\n",
       "      <td>NaN</td>\n",
       "      <td>...</td>\n",
       "      <td>NaN</td>\n",
       "      <td>Manufaktur/Produksi</td>\n",
       "      <td>Bertanggung jawab atas penjualan sesuai dengan...</td>\n",
       "      <td>4702208.0</td>\n",
       "      <td>1 tahun</td>\n",
       "      <td>1</td>\n",
       "      <td>3</td>\n",
       "      <td>1-50</td>\n",
       "      <td>0</td>\n",
       "      <td>3</td>\n",
       "    </tr>\n",
       "    <tr>\n",
       "      <th>3</th>\n",
       "      <td>31750</td>\n",
       "      <td>Section Head Commercials</td>\n",
       "      <td>Jakarta Raya</td>\n",
       "      <td>IDR</td>\n",
       "      <td>Manajer/Asisten Manajer</td>\n",
       "      <td>3 tahun</td>\n",
       "      <td>SMA, SMU/SMK/STM, Sertifikat Professional, D3 ...</td>\n",
       "      <td>Penuh Waktu</td>\n",
       "      <td>Penjualan / Pemasaran,Penjualan Ritel</td>\n",
       "      <td>Uniform</td>\n",
       "      <td>...</td>\n",
       "      <td>501 - 1000 pekerja</td>\n",
       "      <td>Retail/Merchandise</td>\n",
       "      <td>Tanggung Jawab :Bertanggung jawab atas keselur...</td>\n",
       "      <td>11544576.0</td>\n",
       "      <td>3 tahun</td>\n",
       "      <td>3</td>\n",
       "      <td>2</td>\n",
       "      <td>501-1000</td>\n",
       "      <td>4</td>\n",
       "      <td>3</td>\n",
       "    </tr>\n",
       "    <tr>\n",
       "      <th>4</th>\n",
       "      <td>31751</td>\n",
       "      <td>Social Media HEAD</td>\n",
       "      <td>Aceh</td>\n",
       "      <td>IDR</td>\n",
       "      <td>Supervisor/Koordinator</td>\n",
       "      <td>3 tahun</td>\n",
       "      <td>SMA, SMU/SMK/STM, Sertifikat Professional, D3 ...</td>\n",
       "      <td>Penuh Waktu</td>\n",
       "      <td>Penjualan / Pemasaran,Digital Marketing</td>\n",
       "      <td>NaN</td>\n",
       "      <td>...</td>\n",
       "      <td>1- 50 pekerja</td>\n",
       "      <td>Makanan &amp; Minuman/Katering/Restoran</td>\n",
       "      <td># Memiliki pengalaman di atas# Harus memiliki ...</td>\n",
       "      <td>7836672.0</td>\n",
       "      <td>3 tahun</td>\n",
       "      <td>3</td>\n",
       "      <td>4</td>\n",
       "      <td>1-50</td>\n",
       "      <td>0</td>\n",
       "      <td>3</td>\n",
       "    </tr>\n",
       "  </tbody>\n",
       "</table>\n",
       "<p>5 rows × 21 columns</p>\n",
       "</div>"
      ],
      "text/plain": [
       "      id                                          job_title       location  \\\n",
       "0  31747                                          Sous Chef         Lombok   \n",
       "1  31748  Bancassurance Officer (Area: Bali, Sulawesi Ut...           Palu   \n",
       "2  31749                                    Marketing Staff  Jakarta Utara   \n",
       "3  31750                           Section Head Commercials   Jakarta Raya   \n",
       "4  31751                                  Social Media HEAD           Aceh   \n",
       "\n",
       "  salary_currency                              career_level experience_level  \\\n",
       "0             IDR  Pegawai (non-manajemen & non-supervisor)          8 tahun   \n",
       "1             IDR  Pegawai (non-manajemen & non-supervisor)          1 tahun   \n",
       "2             IDR  Pegawai (non-manajemen & non-supervisor)          1 tahun   \n",
       "3             IDR                   Manajer/Asisten Manajer          3 tahun   \n",
       "4             IDR                    Supervisor/Koordinator          3 tahun   \n",
       "\n",
       "                                     education_level employment_type  \\\n",
       "0  Sertifikat Professional, D3 (Diploma), D4 (Dip...     Penuh Waktu   \n",
       "1  Sertifikat Professional, D3 (Diploma), D4 (Dip...     Penuh Waktu   \n",
       "2  SMA, SMU/SMK/STM, Sertifikat Professional, D3 ...     Penuh Waktu   \n",
       "3  SMA, SMU/SMK/STM, Sertifikat Professional, D3 ...     Penuh Waktu   \n",
       "4  SMA, SMU/SMK/STM, Sertifikat Professional, D3 ...     Penuh Waktu   \n",
       "\n",
       "                                        job_function  \\\n",
       "0  Hotel/Restoran,Makanan/Minuman/Pelayanan Restoran   \n",
       "1    Penjualan / Pemasaran,Penjualan - Jasa Keuangan   \n",
       "2  Penjualan / Pemasaran,Pemasaran/Pengembangan B...   \n",
       "3              Penjualan / Pemasaran,Penjualan Ritel   \n",
       "4            Penjualan / Pemasaran,Digital Marketing   \n",
       "\n",
       "                                        job_benefits  ...        company_size  \\\n",
       "0                                                NaN  ...                 NaN   \n",
       "1  Asuransi kesehatan;Waktu regular, Senin - Juma...  ...   201 - 500 pekerja   \n",
       "2                                                NaN  ...                 NaN   \n",
       "3                                            Uniform  ...  501 - 1000 pekerja   \n",
       "4                                                NaN  ...       1- 50 pekerja   \n",
       "\n",
       "                      company_industry  \\\n",
       "0  Makanan & Minuman/Katering/Restoran   \n",
       "1                             Asuransi   \n",
       "2                  Manufaktur/Produksi   \n",
       "3                   Retail/Merchandise   \n",
       "4  Makanan & Minuman/Katering/Restoran   \n",
       "\n",
       "  job_description,,,,,,,,,,,,,,,,,,,,,,,,,,,,,,,,,,,,,,,,,,,,,,,,,,,,,,,,,,,,,,,,,,,,,,,,,,,,,,  \\\n",
       "0  Candidate must posses at least bachelor degree...                                              \n",
       "1  Bancassurance Officer adalah Representative da...                                              \n",
       "2  Bertanggung jawab atas penjualan sesuai dengan...                                              \n",
       "3  Tanggung Jawab :Bertanggung jawab atas keselur...                                              \n",
       "4  # Memiliki pengalaman di atas# Harus memiliki ...                                              \n",
       "\n",
       "       salary  experience_level2 f1 f2  company_size2 cs  et  \n",
       "0  13197312.0            8 tahun  8  3           1-50  0   3  \n",
       "1   4825088.0            1 tahun  1  3        201-500  3   3  \n",
       "2   4702208.0            1 tahun  1  3           1-50  0   3  \n",
       "3  11544576.0            3 tahun  3  2       501-1000  4   3  \n",
       "4   7836672.0            3 tahun  3  4           1-50  0   3  \n",
       "\n",
       "[5 rows x 21 columns]"
      ]
     },
     "execution_count": 58,
     "metadata": {},
     "output_type": "execute_result"
    }
   ],
   "source": [
    "dfp['salary'] = py['salary']\n",
    "dfp.head()"
   ]
  },
  {
   "cell_type": "code",
   "execution_count": 59,
   "metadata": {},
   "outputs": [
    {
     "data": {
      "text/html": [
       "<div>\n",
       "<style scoped>\n",
       "    .dataframe tbody tr th:only-of-type {\n",
       "        vertical-align: middle;\n",
       "    }\n",
       "\n",
       "    .dataframe tbody tr th {\n",
       "        vertical-align: top;\n",
       "    }\n",
       "\n",
       "    .dataframe thead th {\n",
       "        text-align: right;\n",
       "    }\n",
       "</style>\n",
       "<table border=\"1\" class=\"dataframe\">\n",
       "  <thead>\n",
       "    <tr style=\"text-align: right;\">\n",
       "      <th></th>\n",
       "      <th>id</th>\n",
       "      <th>salary</th>\n",
       "    </tr>\n",
       "  </thead>\n",
       "  <tbody>\n",
       "    <tr>\n",
       "      <th>0</th>\n",
       "      <td>31747</td>\n",
       "      <td>13197312.0</td>\n",
       "    </tr>\n",
       "    <tr>\n",
       "      <th>1</th>\n",
       "      <td>31748</td>\n",
       "      <td>4825088.0</td>\n",
       "    </tr>\n",
       "    <tr>\n",
       "      <th>2</th>\n",
       "      <td>31749</td>\n",
       "      <td>4702208.0</td>\n",
       "    </tr>\n",
       "    <tr>\n",
       "      <th>3</th>\n",
       "      <td>31750</td>\n",
       "      <td>11544576.0</td>\n",
       "    </tr>\n",
       "    <tr>\n",
       "      <th>4</th>\n",
       "      <td>31751</td>\n",
       "      <td>7836672.0</td>\n",
       "    </tr>\n",
       "    <tr>\n",
       "      <th>...</th>\n",
       "      <td>...</td>\n",
       "      <td>...</td>\n",
       "    </tr>\n",
       "    <tr>\n",
       "      <th>2995</th>\n",
       "      <td>34742</td>\n",
       "      <td>5010432.0</td>\n",
       "    </tr>\n",
       "    <tr>\n",
       "      <th>2996</th>\n",
       "      <td>34743</td>\n",
       "      <td>5825536.0</td>\n",
       "    </tr>\n",
       "    <tr>\n",
       "      <th>2997</th>\n",
       "      <td>34744</td>\n",
       "      <td>5915648.0</td>\n",
       "    </tr>\n",
       "    <tr>\n",
       "      <th>2998</th>\n",
       "      <td>34745</td>\n",
       "      <td>4676608.0</td>\n",
       "    </tr>\n",
       "    <tr>\n",
       "      <th>2999</th>\n",
       "      <td>34746</td>\n",
       "      <td>3919872.0</td>\n",
       "    </tr>\n",
       "  </tbody>\n",
       "</table>\n",
       "<p>3000 rows × 2 columns</p>\n",
       "</div>"
      ],
      "text/plain": [
       "         id      salary\n",
       "0     31747  13197312.0\n",
       "1     31748   4825088.0\n",
       "2     31749   4702208.0\n",
       "3     31750  11544576.0\n",
       "4     31751   7836672.0\n",
       "...     ...         ...\n",
       "2995  34742   5010432.0\n",
       "2996  34743   5825536.0\n",
       "2997  34744   5915648.0\n",
       "2998  34745   4676608.0\n",
       "2999  34746   3919872.0\n",
       "\n",
       "[3000 rows x 2 columns]"
      ]
     },
     "execution_count": 59,
     "metadata": {},
     "output_type": "execute_result"
    }
   ],
   "source": [
    "submissions = dfp[['id','salary']]\n",
    "submissions"
   ]
  },
  {
   "cell_type": "code",
   "execution_count": 60,
   "metadata": {},
   "outputs": [
    {
     "name": "stdout",
     "output_type": "stream",
     "text": [
      "R squared: 45.44\n",
      "Mean Absolute Error: 2462610.829237555\n",
      "Mean Square Error: 25392523288954.477\n",
      "Root Mean Square Error: 5039099.452179375\n"
     ]
    }
   ],
   "source": [
    "meanAbErr = metrics.mean_absolute_error(y_test, predictions)\n",
    "meanSqErr = metrics.mean_squared_error(y_test, predictions)\n",
    "rootMeanSqErr = np.sqrt(metrics.mean_squared_error(y_test, predictions))\n",
    "print('R squared: {:.2f}'.format(model1.score(X,y)*100))\n",
    "print('Mean Absolute Error:', meanAbErr)\n",
    "print('Mean Square Error:', meanSqErr)\n",
    "print('Root Mean Square Error:', rootMeanSqErr)"
   ]
  },
  {
   "cell_type": "code",
   "execution_count": 61,
   "metadata": {},
   "outputs": [
    {
     "ename": "NameError",
     "evalue": "name 'mean_squared_error' is not defined",
     "output_type": "error",
     "traceback": [
      "\u001b[1;31m---------------------------------------------------------------------------\u001b[0m",
      "\u001b[1;31mNameError\u001b[0m                                 Traceback (most recent call last)",
      "\u001b[1;32me:\\Data Analyst\\Find It\\explorasi5.ipynb Cell 57'\u001b[0m in \u001b[0;36m<cell line: 1>\u001b[1;34m()\u001b[0m\n\u001b[1;32m----> <a href='vscode-notebook-cell:/e%3A/Data%20Analyst/Find%20It/explorasi5.ipynb#ch0000053?line=0'>1</a>\u001b[0m np\u001b[39m.\u001b[39msqrt(mean_squared_error(y_train,model1\u001b[39m.\u001b[39mpredict(X_train)))\n",
      "\u001b[1;31mNameError\u001b[0m: name 'mean_squared_error' is not defined"
     ]
    }
   ],
   "source": [
    "np.sqrt(mean_squared_error(y_train,model1.predict(X_train)))"
   ]
  },
  {
   "cell_type": "code",
   "execution_count": 62,
   "metadata": {},
   "outputs": [],
   "source": [
    "submissions.to_csv(r'datar_submission4.csv', index=False)"
   ]
  },
  {
   "cell_type": "markdown",
   "metadata": {},
   "source": [
    "## XGBoost Regression"
   ]
  },
  {
   "cell_type": "code",
   "execution_count": 75,
   "metadata": {},
   "outputs": [],
   "source": [
    "from sklearn.model_selection import GridSearchCV\n",
    "\n",
    "# Define a function for each metrics\n",
    "# R2\n",
    "def rsqr_score(test, pred):\n",
    "    r2_ = r2_score(test, pred)\n",
    "    return r2_\n",
    "\n",
    "# RSME\n",
    "def rmse_score(test, pred):\n",
    "    rmse_ = np.sqrt(mean_squared_error(test, pred))\n",
    "    return rmse_\n",
    "\n",
    "# Print the scores\n",
    "def print_score(test, pred):\n",
    "    print(f\"- Regressor: {regr.__class__.__name__}\")\n",
    "    print(f\"R2: {rsqr_score(test, pred)}\")\n",
    "    print(f\"RMSE: {rmse_score(test, pred)}\\n\")"
   ]
  },
  {
   "cell_type": "code",
   "execution_count": 70,
   "metadata": {},
   "outputs": [
    {
     "name": "stdout",
     "output_type": "stream",
     "text": [
      "- Regressor: XGBRegressor\n",
      "RMSE: 4933050.243211907\n",
      "\n"
     ]
    }
   ],
   "source": [
    "# Define regression models\n",
    "xgboost = XGBRegressor()\n",
    "\n",
    "# Train models on X_train and y_train\n",
    "for regr in [xgboost]:\n",
    "    # fit the corresponding model\n",
    "    regr.fit(X_train, y_train)\n",
    "    y_pred = regr.predict(X_test)\n",
    "    # Print the defined metrics above for each classifier\n",
    "    print_score(y_test, y_pred)"
   ]
  },
  {
   "cell_type": "code",
   "execution_count": 76,
   "metadata": {},
   "outputs": [
    {
     "name": "stdout",
     "output_type": "stream",
     "text": [
      "Fitting 5 folds for each of 12 candidates, totalling 60 fits\n",
      "Best hyperparameters: {'colsample_bytree': 0.7, 'learning_rate': 0.05, 'max_depth': 3, 'n_estimators': 100}\n",
      "\n",
      "Best R2: 0.49590305279421554\n"
     ]
    }
   ],
   "source": [
    "# Define hyperparameters\n",
    "tuned_parameters = {\"max_depth\": [3],\n",
    "                    \"colsample_bytree\": [0.3, 0.7],\n",
    "                    \"learning_rate\": [0.01, 0.05, 0.1],\n",
    "                    \"n_estimators\": [100, 500]}\n",
    "\n",
    "# GridSearch\n",
    "xgbr_cv = GridSearchCV(estimator=XGBRegressor(),\n",
    "                       param_grid=tuned_parameters,\n",
    "                       cv=5,\n",
    "                       n_jobs=1,\n",
    "                       verbose=1)\n",
    "\n",
    "# fit the GridSearch on train set\n",
    "xgbr_cv.fit(X_train, y_train)\n",
    "\n",
    "# print best params and the corresponding \n",
    "print(f\"Best hyperparameters: {xgbr_cv.best_params_}\\n\")\n",
    "print(f\"Best R2: {xgbr_cv.best_score_}\")"
   ]
  },
  {
   "cell_type": "code",
   "execution_count": 82,
   "metadata": {},
   "outputs": [
    {
     "name": "stdout",
     "output_type": "stream",
     "text": [
      "- XGBRegressor\n",
      "R2: 0.5591034575251803\n",
      "RMSE: 4479082.725901641\n"
     ]
    }
   ],
   "source": [
    "# XGB Regressor  with the best hyperparameters\n",
    "xgbr_mod = XGBRegressor(seed=20,\n",
    "                        colsample_bytree = xgbr_cv.best_params_[\"colsample_bytree\"],\n",
    "                        learning_rate = xgbr_cv.best_params_[\"learning_rate\"],\n",
    "                        max_depth = xgbr_cv.best_params_[\"max_depth\"],\n",
    "                        n_estimators = xgbr_cv.best_params_[\"n_estimators\"])\n",
    "\n",
    "# fit the model on train set\n",
    "xgbr_mod.fit(X_train, y_train)\n",
    "\n",
    "# Predict on test set\n",
    "y_pred = xgbr_mod.predict(X_test)\n",
    "\n",
    "print(f\"- {xgbr_mod.__class__.__name__}\")\n",
    "print(f\"R2: {rsqr_score(y_test, y_pred)}\")\n",
    "print(f\"RMSE: {rmse_score(y_test, y_pred)}\")"
   ]
  },
  {
   "cell_type": "code",
   "execution_count": 86,
   "metadata": {},
   "outputs": [],
   "source": [
    "# Save the model results into lists\n",
    "model_list = []\n",
    "r2_list = []\n",
    "rmse_list = []\n",
    "\n",
    "model_list.append(xgbr_mod.__class__.__name__)\n",
    "r2_list.append(round(rsqr_score(y_test, y_pred), 4))\n",
    "rmse_list.append(round(rmse_score(y_test, y_pred), 4))"
   ]
  },
  {
   "cell_type": "code",
   "execution_count": 103,
   "metadata": {},
   "outputs": [
    {
     "data": {
      "text/plain": [
       "array([ 6995699.,  6546750., 26194484., ..., 13503789., 16522033.,\n",
       "        4927323.], dtype=float32)"
      ]
     },
     "execution_count": 103,
     "metadata": {},
     "output_type": "execute_result"
    }
   ],
   "source": [
    "y_pred"
   ]
  },
  {
   "cell_type": "code",
   "execution_count": 104,
   "metadata": {},
   "outputs": [
    {
     "data": {
      "text/html": [
       "<div>\n",
       "<style scoped>\n",
       "    .dataframe tbody tr th:only-of-type {\n",
       "        vertical-align: middle;\n",
       "    }\n",
       "\n",
       "    .dataframe tbody tr th {\n",
       "        vertical-align: top;\n",
       "    }\n",
       "\n",
       "    .dataframe thead th {\n",
       "        text-align: right;\n",
       "    }\n",
       "</style>\n",
       "<table border=\"1\" class=\"dataframe\">\n",
       "  <thead>\n",
       "    <tr style=\"text-align: right;\">\n",
       "      <th></th>\n",
       "      <th>Actual value</th>\n",
       "      <th>Predicted value</th>\n",
       "    </tr>\n",
       "  </thead>\n",
       "  <tbody>\n",
       "    <tr>\n",
       "      <th>730</th>\n",
       "      <td>7500000.0</td>\n",
       "      <td>6995699.0</td>\n",
       "    </tr>\n",
       "    <tr>\n",
       "      <th>2131</th>\n",
       "      <td>7500000.0</td>\n",
       "      <td>6546750.0</td>\n",
       "    </tr>\n",
       "    <tr>\n",
       "      <th>3070</th>\n",
       "      <td>18000000.0</td>\n",
       "      <td>26194484.0</td>\n",
       "    </tr>\n",
       "    <tr>\n",
       "      <th>6101</th>\n",
       "      <td>5500000.0</td>\n",
       "      <td>5924128.0</td>\n",
       "    </tr>\n",
       "    <tr>\n",
       "      <th>217</th>\n",
       "      <td>7200000.0</td>\n",
       "      <td>6546750.0</td>\n",
       "    </tr>\n",
       "    <tr>\n",
       "      <th>...</th>\n",
       "      <td>...</td>\n",
       "      <td>...</td>\n",
       "    </tr>\n",
       "    <tr>\n",
       "      <th>4329</th>\n",
       "      <td>10000000.0</td>\n",
       "      <td>11128147.0</td>\n",
       "    </tr>\n",
       "    <tr>\n",
       "      <th>925</th>\n",
       "      <td>3600000.0</td>\n",
       "      <td>5681698.0</td>\n",
       "    </tr>\n",
       "    <tr>\n",
       "      <th>5552</th>\n",
       "      <td>30000000.0</td>\n",
       "      <td>13503789.0</td>\n",
       "    </tr>\n",
       "    <tr>\n",
       "      <th>295</th>\n",
       "      <td>12000000.0</td>\n",
       "      <td>16522033.0</td>\n",
       "    </tr>\n",
       "    <tr>\n",
       "      <th>1052</th>\n",
       "      <td>6500000.0</td>\n",
       "      <td>4927323.0</td>\n",
       "    </tr>\n",
       "  </tbody>\n",
       "</table>\n",
       "<p>1587 rows × 2 columns</p>\n",
       "</div>"
      ],
      "text/plain": [
       "      Actual value  Predicted value\n",
       "730      7500000.0        6995699.0\n",
       "2131     7500000.0        6546750.0\n",
       "3070    18000000.0       26194484.0\n",
       "6101     5500000.0        5924128.0\n",
       "217      7200000.0        6546750.0\n",
       "...            ...              ...\n",
       "4329    10000000.0       11128147.0\n",
       "925      3600000.0        5681698.0\n",
       "5552    30000000.0       13503789.0\n",
       "295     12000000.0       16522033.0\n",
       "1052     6500000.0        4927323.0\n",
       "\n",
       "[1587 rows x 2 columns]"
      ]
     },
     "execution_count": 104,
     "metadata": {},
     "output_type": "execute_result"
    }
   ],
   "source": [
    "xgb_model = pd.DataFrame({'Actual value': y_test, 'Predicted value': y_pred})\n",
    "xgb_model"
   ]
  },
  {
   "cell_type": "code",
   "execution_count": 105,
   "metadata": {},
   "outputs": [
    {
     "data": {
      "text/html": [
       "<div>\n",
       "<style scoped>\n",
       "    .dataframe tbody tr th:only-of-type {\n",
       "        vertical-align: middle;\n",
       "    }\n",
       "\n",
       "    .dataframe tbody tr th {\n",
       "        vertical-align: top;\n",
       "    }\n",
       "\n",
       "    .dataframe thead th {\n",
       "        text-align: right;\n",
       "    }\n",
       "</style>\n",
       "<table border=\"1\" class=\"dataframe\">\n",
       "  <thead>\n",
       "    <tr style=\"text-align: right;\">\n",
       "      <th></th>\n",
       "      <th>Actual value</th>\n",
       "      <th>Predicted value</th>\n",
       "    </tr>\n",
       "  </thead>\n",
       "  <tbody>\n",
       "    <tr>\n",
       "      <th>730</th>\n",
       "      <td>7500000.0</td>\n",
       "      <td>7130112.0</td>\n",
       "    </tr>\n",
       "    <tr>\n",
       "      <th>2131</th>\n",
       "      <td>7500000.0</td>\n",
       "      <td>6723584.0</td>\n",
       "    </tr>\n",
       "    <tr>\n",
       "      <th>3070</th>\n",
       "      <td>18000000.0</td>\n",
       "      <td>26043392.0</td>\n",
       "    </tr>\n",
       "    <tr>\n",
       "      <th>6101</th>\n",
       "      <td>5500000.0</td>\n",
       "      <td>5409792.0</td>\n",
       "    </tr>\n",
       "    <tr>\n",
       "      <th>217</th>\n",
       "      <td>7200000.0</td>\n",
       "      <td>6623232.0</td>\n",
       "    </tr>\n",
       "    <tr>\n",
       "      <th>...</th>\n",
       "      <td>...</td>\n",
       "      <td>...</td>\n",
       "    </tr>\n",
       "    <tr>\n",
       "      <th>4329</th>\n",
       "      <td>10000000.0</td>\n",
       "      <td>10831872.0</td>\n",
       "    </tr>\n",
       "    <tr>\n",
       "      <th>925</th>\n",
       "      <td>3600000.0</td>\n",
       "      <td>5787648.0</td>\n",
       "    </tr>\n",
       "    <tr>\n",
       "      <th>5552</th>\n",
       "      <td>30000000.0</td>\n",
       "      <td>14163968.0</td>\n",
       "    </tr>\n",
       "    <tr>\n",
       "      <th>295</th>\n",
       "      <td>12000000.0</td>\n",
       "      <td>20348928.0</td>\n",
       "    </tr>\n",
       "    <tr>\n",
       "      <th>1052</th>\n",
       "      <td>6500000.0</td>\n",
       "      <td>4804608.0</td>\n",
       "    </tr>\n",
       "  </tbody>\n",
       "</table>\n",
       "<p>1587 rows × 2 columns</p>\n",
       "</div>"
      ],
      "text/plain": [
       "      Actual value  Predicted value\n",
       "730      7500000.0        7130112.0\n",
       "2131     7500000.0        6723584.0\n",
       "3070    18000000.0       26043392.0\n",
       "6101     5500000.0        5409792.0\n",
       "217      7200000.0        6623232.0\n",
       "...            ...              ...\n",
       "4329    10000000.0       10831872.0\n",
       "925      3600000.0        5787648.0\n",
       "5552    30000000.0       14163968.0\n",
       "295     12000000.0       20348928.0\n",
       "1052     6500000.0        4804608.0\n",
       "\n",
       "[1587 rows x 2 columns]"
      ]
     },
     "execution_count": 105,
     "metadata": {},
     "output_type": "execute_result"
    }
   ],
   "source": [
    "model1_diff"
   ]
  },
  {
   "cell_type": "code",
   "execution_count": 102,
   "metadata": {},
   "outputs": [
    {
     "ename": "KeyError",
     "evalue": "'salary'",
     "output_type": "error",
     "traceback": [
      "\u001b[1;31m---------------------------------------------------------------------------\u001b[0m",
      "\u001b[1;31mKeyError\u001b[0m                                  Traceback (most recent call last)",
      "File \u001b[1;32m~\\AppData\\Local\\Programs\\Python\\Python310\\lib\\site-packages\\pandas\\core\\indexes\\base.py:3621\u001b[0m, in \u001b[0;36mIndex.get_loc\u001b[1;34m(self, key, method, tolerance)\u001b[0m\n\u001b[0;32m   <a href='file:///c%3A/Users/HP/AppData/Local/Programs/Python/Python310/lib/site-packages/pandas/core/indexes/base.py?line=3619'>3620</a>\u001b[0m \u001b[39mtry\u001b[39;00m:\n\u001b[1;32m-> <a href='file:///c%3A/Users/HP/AppData/Local/Programs/Python/Python310/lib/site-packages/pandas/core/indexes/base.py?line=3620'>3621</a>\u001b[0m     \u001b[39mreturn\u001b[39;00m \u001b[39mself\u001b[39;49m\u001b[39m.\u001b[39;49m_engine\u001b[39m.\u001b[39;49mget_loc(casted_key)\n\u001b[0;32m   <a href='file:///c%3A/Users/HP/AppData/Local/Programs/Python/Python310/lib/site-packages/pandas/core/indexes/base.py?line=3621'>3622</a>\u001b[0m \u001b[39mexcept\u001b[39;00m \u001b[39mKeyError\u001b[39;00m \u001b[39mas\u001b[39;00m err:\n",
      "File \u001b[1;32m~\\AppData\\Local\\Programs\\Python\\Python310\\lib\\site-packages\\pandas\\_libs\\index.pyx:136\u001b[0m, in \u001b[0;36mpandas._libs.index.IndexEngine.get_loc\u001b[1;34m()\u001b[0m\n",
      "File \u001b[1;32m~\\AppData\\Local\\Programs\\Python\\Python310\\lib\\site-packages\\pandas\\_libs\\index.pyx:144\u001b[0m, in \u001b[0;36mpandas._libs.index.IndexEngine.get_loc\u001b[1;34m()\u001b[0m\n",
      "File \u001b[1;32mpandas\\_libs\\index_class_helper.pxi:41\u001b[0m, in \u001b[0;36mpandas._libs.index.Int64Engine._check_type\u001b[1;34m()\u001b[0m\n",
      "\u001b[1;31mKeyError\u001b[0m: 'salary'",
      "\nThe above exception was the direct cause of the following exception:\n",
      "\u001b[1;31mKeyError\u001b[0m                                  Traceback (most recent call last)",
      "\u001b[1;32me:\\Data Analyst\\Find It\\explorasi5.ipynb Cell 66'\u001b[0m in \u001b[0;36m<cell line: 2>\u001b[1;34m()\u001b[0m\n\u001b[0;32m      <a href='vscode-notebook-cell:/e%3A/Data%20Analyst/Find%20It/explorasi5.ipynb#ch0000067?line=0'>1</a>\u001b[0m \u001b[39m# Plot Actual vs Predicted salary\u001b[39;00m\n\u001b[1;32m----> <a href='vscode-notebook-cell:/e%3A/Data%20Analyst/Find%20It/explorasi5.ipynb#ch0000067?line=1'>2</a>\u001b[0m actual_salary \u001b[39m=\u001b[39m np\u001b[39m.\u001b[39mexp(y_test[\u001b[39m\"\u001b[39;49m\u001b[39msalary\u001b[39;49m\u001b[39m\"\u001b[39;49m])\n\u001b[0;32m      <a href='vscode-notebook-cell:/e%3A/Data%20Analyst/Find%20It/explorasi5.ipynb#ch0000067?line=2'>3</a>\u001b[0m predicted_salary \u001b[39m=\u001b[39m np\u001b[39m.\u001b[39mexp(y_pred)\n\u001b[0;32m      <a href='vscode-notebook-cell:/e%3A/Data%20Analyst/Find%20It/explorasi5.ipynb#ch0000067?line=4'>5</a>\u001b[0m plt\u001b[39m.\u001b[39mfigure()\n",
      "File \u001b[1;32m~\\AppData\\Local\\Programs\\Python\\Python310\\lib\\site-packages\\pandas\\core\\series.py:958\u001b[0m, in \u001b[0;36mSeries.__getitem__\u001b[1;34m(self, key)\u001b[0m\n\u001b[0;32m    <a href='file:///c%3A/Users/HP/AppData/Local/Programs/Python/Python310/lib/site-packages/pandas/core/series.py?line=954'>955</a>\u001b[0m     \u001b[39mreturn\u001b[39;00m \u001b[39mself\u001b[39m\u001b[39m.\u001b[39m_values[key]\n\u001b[0;32m    <a href='file:///c%3A/Users/HP/AppData/Local/Programs/Python/Python310/lib/site-packages/pandas/core/series.py?line=956'>957</a>\u001b[0m \u001b[39melif\u001b[39;00m key_is_scalar:\n\u001b[1;32m--> <a href='file:///c%3A/Users/HP/AppData/Local/Programs/Python/Python310/lib/site-packages/pandas/core/series.py?line=957'>958</a>\u001b[0m     \u001b[39mreturn\u001b[39;00m \u001b[39mself\u001b[39;49m\u001b[39m.\u001b[39;49m_get_value(key)\n\u001b[0;32m    <a href='file:///c%3A/Users/HP/AppData/Local/Programs/Python/Python310/lib/site-packages/pandas/core/series.py?line=959'>960</a>\u001b[0m \u001b[39mif\u001b[39;00m is_hashable(key):\n\u001b[0;32m    <a href='file:///c%3A/Users/HP/AppData/Local/Programs/Python/Python310/lib/site-packages/pandas/core/series.py?line=960'>961</a>\u001b[0m     \u001b[39m# Otherwise index.get_value will raise InvalidIndexError\u001b[39;00m\n\u001b[0;32m    <a href='file:///c%3A/Users/HP/AppData/Local/Programs/Python/Python310/lib/site-packages/pandas/core/series.py?line=961'>962</a>\u001b[0m     \u001b[39mtry\u001b[39;00m:\n\u001b[0;32m    <a href='file:///c%3A/Users/HP/AppData/Local/Programs/Python/Python310/lib/site-packages/pandas/core/series.py?line=962'>963</a>\u001b[0m         \u001b[39m# For labels that don't resolve as scalars like tuples and frozensets\u001b[39;00m\n",
      "File \u001b[1;32m~\\AppData\\Local\\Programs\\Python\\Python310\\lib\\site-packages\\pandas\\core\\series.py:1069\u001b[0m, in \u001b[0;36mSeries._get_value\u001b[1;34m(self, label, takeable)\u001b[0m\n\u001b[0;32m   <a href='file:///c%3A/Users/HP/AppData/Local/Programs/Python/Python310/lib/site-packages/pandas/core/series.py?line=1065'>1066</a>\u001b[0m     \u001b[39mreturn\u001b[39;00m \u001b[39mself\u001b[39m\u001b[39m.\u001b[39m_values[label]\n\u001b[0;32m   <a href='file:///c%3A/Users/HP/AppData/Local/Programs/Python/Python310/lib/site-packages/pandas/core/series.py?line=1067'>1068</a>\u001b[0m \u001b[39m# Similar to Index.get_value, but we do not fall back to positional\u001b[39;00m\n\u001b[1;32m-> <a href='file:///c%3A/Users/HP/AppData/Local/Programs/Python/Python310/lib/site-packages/pandas/core/series.py?line=1068'>1069</a>\u001b[0m loc \u001b[39m=\u001b[39m \u001b[39mself\u001b[39;49m\u001b[39m.\u001b[39;49mindex\u001b[39m.\u001b[39;49mget_loc(label)\n\u001b[0;32m   <a href='file:///c%3A/Users/HP/AppData/Local/Programs/Python/Python310/lib/site-packages/pandas/core/series.py?line=1069'>1070</a>\u001b[0m \u001b[39mreturn\u001b[39;00m \u001b[39mself\u001b[39m\u001b[39m.\u001b[39mindex\u001b[39m.\u001b[39m_get_values_for_loc(\u001b[39mself\u001b[39m, loc, label)\n",
      "File \u001b[1;32m~\\AppData\\Local\\Programs\\Python\\Python310\\lib\\site-packages\\pandas\\core\\indexes\\base.py:3623\u001b[0m, in \u001b[0;36mIndex.get_loc\u001b[1;34m(self, key, method, tolerance)\u001b[0m\n\u001b[0;32m   <a href='file:///c%3A/Users/HP/AppData/Local/Programs/Python/Python310/lib/site-packages/pandas/core/indexes/base.py?line=3620'>3621</a>\u001b[0m     \u001b[39mreturn\u001b[39;00m \u001b[39mself\u001b[39m\u001b[39m.\u001b[39m_engine\u001b[39m.\u001b[39mget_loc(casted_key)\n\u001b[0;32m   <a href='file:///c%3A/Users/HP/AppData/Local/Programs/Python/Python310/lib/site-packages/pandas/core/indexes/base.py?line=3621'>3622</a>\u001b[0m \u001b[39mexcept\u001b[39;00m \u001b[39mKeyError\u001b[39;00m \u001b[39mas\u001b[39;00m err:\n\u001b[1;32m-> <a href='file:///c%3A/Users/HP/AppData/Local/Programs/Python/Python310/lib/site-packages/pandas/core/indexes/base.py?line=3622'>3623</a>\u001b[0m     \u001b[39mraise\u001b[39;00m \u001b[39mKeyError\u001b[39;00m(key) \u001b[39mfrom\u001b[39;00m \u001b[39merr\u001b[39;00m\n\u001b[0;32m   <a href='file:///c%3A/Users/HP/AppData/Local/Programs/Python/Python310/lib/site-packages/pandas/core/indexes/base.py?line=3623'>3624</a>\u001b[0m \u001b[39mexcept\u001b[39;00m \u001b[39mTypeError\u001b[39;00m:\n\u001b[0;32m   <a href='file:///c%3A/Users/HP/AppData/Local/Programs/Python/Python310/lib/site-packages/pandas/core/indexes/base.py?line=3624'>3625</a>\u001b[0m     \u001b[39m# If we have a listlike key, _check_indexing_error will raise\u001b[39;00m\n\u001b[0;32m   <a href='file:///c%3A/Users/HP/AppData/Local/Programs/Python/Python310/lib/site-packages/pandas/core/indexes/base.py?line=3625'>3626</a>\u001b[0m     \u001b[39m#  InvalidIndexError. Otherwise we fall through and re-raise\u001b[39;00m\n\u001b[0;32m   <a href='file:///c%3A/Users/HP/AppData/Local/Programs/Python/Python310/lib/site-packages/pandas/core/indexes/base.py?line=3626'>3627</a>\u001b[0m     \u001b[39m#  the TypeError.\u001b[39;00m\n\u001b[0;32m   <a href='file:///c%3A/Users/HP/AppData/Local/Programs/Python/Python310/lib/site-packages/pandas/core/indexes/base.py?line=3627'>3628</a>\u001b[0m     \u001b[39mself\u001b[39m\u001b[39m.\u001b[39m_check_indexing_error(key)\n",
      "\u001b[1;31mKeyError\u001b[0m: 'salary'"
     ]
    }
   ],
   "source": [
    "# Plot Actual vs Predicted salary\n",
    "actual_salary = np.exp(y_test[\"salary\"])\n",
    "predicted_salary = np.exp(y_pred)\n",
    "\n",
    "plt.figure()\n",
    "plt.title(\"Actual vs Predicted salary\", fontsize=20)\n",
    "plt.scatter(actual_salary, predicted_salary,\n",
    "            color=\"deepskyblue\", marker=\"o\", facecolors=\"none\")\n",
    "plt.plot([0, 100000000], [0, 100000000], \"darkorange\", lw=2)\n",
    "plt.xlim(0, 100000000)\n",
    "plt.ylim(0, 100000000)\n",
    "plt.xlabel(\"\\nActual Salary\", fontsize=16)\n",
    "plt.ylabel(\"Predicted salary\\n\", fontsize=16)\n",
    "plt.show()\n"
   ]
  },
  {
   "cell_type": "code",
   "execution_count": null,
   "metadata": {},
   "outputs": [],
   "source": []
  }
 ],
 "metadata": {
  "interpreter": {
   "hash": "06cb67651ce969e244f20f184e33f4ddb1106793adfe07cf7ddc131c95c4012f"
  },
  "kernelspec": {
   "display_name": "Python 3.9.6 64-bit",
   "language": "python",
   "name": "python3"
  },
  "language_info": {
   "codemirror_mode": {
    "name": "ipython",
    "version": 3
   },
   "file_extension": ".py",
   "mimetype": "text/x-python",
   "name": "python",
   "nbconvert_exporter": "python",
   "pygments_lexer": "ipython3",
   "version": "3.10.4"
  },
  "orig_nbformat": 4
 },
 "nbformat": 4,
 "nbformat_minor": 2
}

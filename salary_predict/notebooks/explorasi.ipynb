{
 "cells": [
  {
   "cell_type": "markdown",
   "metadata": {},
   "source": [
    "## First Exploration\n",
    "\n"
   ]
  },
  {
   "cell_type": "markdown",
   "metadata": {},
   "source": []
  },
  {
   "cell_type": "code",
   "execution_count": 1,
   "metadata": {
    "vscode": {
     "languageId": "python"
    }
   },
   "outputs": [],
   "source": [
    "import pandas as pd \n",
    "import numpy as np\n",
    "from sklearn.preprocessing import LabelEncoder, OneHotEncoder\n",
    "\n",
    "from sklearn.linear_model import LinearRegression\n",
    "from sklearn.model_selection import train_test_split\n",
    "from sklearn.metrics import mean_squared_error"
   ]
  },
  {
   "cell_type": "code",
   "execution_count": 2,
   "metadata": {
    "vscode": {
     "languageId": "python"
    }
   },
   "outputs": [],
   "source": [
    "PATH_DATA = '../data/'"
   ]
  },
  {
   "cell_type": "code",
   "execution_count": 3,
   "metadata": {
    "vscode": {
     "languageId": "python"
    }
   },
   "outputs": [],
   "source": [
    "%matplotlib inline"
   ]
  },
  {
   "cell_type": "markdown",
   "metadata": {},
   "source": [
    "## Get Data"
   ]
  },
  {
   "cell_type": "markdown",
   "metadata": {},
   "source": []
  },
  {
   "cell_type": "code",
   "execution_count": 4,
   "metadata": {
    "vscode": {
     "languageId": "python"
    }
   },
   "outputs": [],
   "source": [
    "df = pd.read_csv(PATH_DATA+'train.csv',delimiter='|')"
   ]
  },
  {
   "cell_type": "code",
   "execution_count": 12,
   "metadata": {
    "vscode": {
     "languageId": "python"
    }
   },
   "outputs": [
    {
     "data": {
      "text/plain": [
       "list"
      ]
     },
     "execution_count": 12,
     "metadata": {},
     "output_type": "execute_result"
    }
   ],
   "source": [
    "type(df['job_title'].tolist())"
   ]
  },
  {
   "cell_type": "code",
   "execution_count": null,
   "metadata": {
    "vscode": {
     "languageId": "python"
    }
   },
   "outputs": [],
   "source": []
  },
  {
   "cell_type": "code",
   "execution_count": 9,
   "metadata": {
    "vscode": {
     "languageId": "python"
    }
   },
   "outputs": [],
   "source": [
    "er = df.job_benefits.str.lower()\n",
    "df['is_assur'] = er.str.contains('asuransi')"
   ]
  },
  {
   "cell_type": "code",
   "execution_count": 10,
   "metadata": {
    "vscode": {
     "languageId": "python"
    }
   },
   "outputs": [
    {
     "data": {
      "text/html": [
       "<div>\n",
       "<style scoped>\n",
       "    .dataframe tbody tr th:only-of-type {\n",
       "        vertical-align: middle;\n",
       "    }\n",
       "\n",
       "    .dataframe tbody tr th {\n",
       "        vertical-align: top;\n",
       "    }\n",
       "\n",
       "    .dataframe thead th {\n",
       "        text-align: right;\n",
       "    }\n",
       "</style>\n",
       "<table border=\"1\" class=\"dataframe\">\n",
       "  <thead>\n",
       "    <tr style=\"text-align: right;\">\n",
       "      <th></th>\n",
       "      <th>id</th>\n",
       "      <th>job_title</th>\n",
       "      <th>location</th>\n",
       "      <th>salary_currency</th>\n",
       "      <th>career_level</th>\n",
       "      <th>experience_level</th>\n",
       "      <th>education_level</th>\n",
       "      <th>employment_type</th>\n",
       "      <th>job_function</th>\n",
       "      <th>job_benefits</th>\n",
       "      <th>company_process_time</th>\n",
       "      <th>company_size</th>\n",
       "      <th>company_industry</th>\n",
       "      <th>job_description</th>\n",
       "      <th>salary</th>\n",
       "      <th>is_assur</th>\n",
       "    </tr>\n",
       "  </thead>\n",
       "  <tbody>\n",
       "    <tr>\n",
       "      <th>0</th>\n",
       "      <td>1</td>\n",
       "      <td>Facility Maintenance &amp; Smart Warehouse Manager</td>\n",
       "      <td>Bandung</td>\n",
       "      <td>IDR</td>\n",
       "      <td>Manajer/Asisten Manajer</td>\n",
       "      <td>5 tahun</td>\n",
       "      <td>Sertifikat Professional, D3 (Diploma), D4 (Dip...</td>\n",
       "      <td>Penuh Waktu</td>\n",
       "      <td>Manufaktur,Pemeliharaan</td>\n",
       "      <td>NaN</td>\n",
       "      <td>NaN</td>\n",
       "      <td>NaN</td>\n",
       "      <td>NaN</td>\n",
       "      <td>Deskripsi PekerjaanRequirements :D3/SI from re...</td>\n",
       "      <td>NaN</td>\n",
       "      <td>NaN</td>\n",
       "    </tr>\n",
       "    <tr>\n",
       "      <th>1</th>\n",
       "      <td>2</td>\n",
       "      <td>Procurement Department Head</td>\n",
       "      <td>Jakarta Raya</td>\n",
       "      <td>IDR</td>\n",
       "      <td>Manajer/Asisten Manajer</td>\n",
       "      <td>5 tahun</td>\n",
       "      <td>Sarjana (S1), Diploma Pascasarjana, Gelar Prof...</td>\n",
       "      <td>Penuh Waktu</td>\n",
       "      <td>Manufaktur,Pembelian/Manajemen Material</td>\n",
       "      <td>NaN</td>\n",
       "      <td>25 days</td>\n",
       "      <td>51 - 200 pekerja</td>\n",
       "      <td>Manajemen/Konsulting HR</td>\n",
       "      <td>Job Role: 1. Responsible for material availabi...</td>\n",
       "      <td>NaN</td>\n",
       "      <td>NaN</td>\n",
       "    </tr>\n",
       "    <tr>\n",
       "      <th>2</th>\n",
       "      <td>3</td>\n",
       "      <td>SALES ADMIN</td>\n",
       "      <td>Jakarta Barat</td>\n",
       "      <td>IDR</td>\n",
       "      <td>Supervisor/Koordinator</td>\n",
       "      <td>4 tahun</td>\n",
       "      <td>Sarjana (S1)</td>\n",
       "      <td>Penuh Waktu</td>\n",
       "      <td>Penjualan / Pemasaran,Penjualan Ritel</td>\n",
       "      <td>Waktu regular, Senin - Jumat;Bisnis (contoh: K...</td>\n",
       "      <td>30 days</td>\n",
       "      <td>51 - 200 pekerja</td>\n",
       "      <td>Umum &amp; Grosir</td>\n",
       "      <td>Internal Sales &amp; AdminJob Description :We are ...</td>\n",
       "      <td>NaN</td>\n",
       "      <td>False</td>\n",
       "    </tr>\n",
       "    <tr>\n",
       "      <th>3</th>\n",
       "      <td>4</td>\n",
       "      <td>City Operation Lead Shopee Express (Cirebon)</td>\n",
       "      <td>Cirebon</td>\n",
       "      <td>IDR</td>\n",
       "      <td>Supervisor/Koordinator</td>\n",
       "      <td>5 tahun</td>\n",
       "      <td>Sarjana (S1), Diploma Pascasarjana, Gelar Prof...</td>\n",
       "      <td>Penuh Waktu</td>\n",
       "      <td>Pelayanan,Logistik/Rantai Pasokan</td>\n",
       "      <td>Tip;Waktu regular, Senin - Jumat;Kasual (conto...</td>\n",
       "      <td>21 days</td>\n",
       "      <td>2001 - 5000 pekerja</td>\n",
       "      <td>Retail/Merchandise</td>\n",
       "      <td>Job Description:Responsible for HSE implementa...</td>\n",
       "      <td>NaN</td>\n",
       "      <td>False</td>\n",
       "    </tr>\n",
       "    <tr>\n",
       "      <th>4</th>\n",
       "      <td>5</td>\n",
       "      <td>Japanese Interpreter</td>\n",
       "      <td>Bekasi</td>\n",
       "      <td>IDR</td>\n",
       "      <td>Pegawai (non-manajemen &amp; non-supervisor)</td>\n",
       "      <td>2 tahun</td>\n",
       "      <td>Sertifikat Professional, D3 (Diploma), D4 (Dip...</td>\n",
       "      <td>Penuh Waktu</td>\n",
       "      <td>Lainnya,Jurnalis/Editor</td>\n",
       "      <td>NaN</td>\n",
       "      <td>23 days</td>\n",
       "      <td>201 - 500 pekerja</td>\n",
       "      <td>Manajemen/Konsulting HR</td>\n",
       "      <td>Overview: Our clients is manufacture for autom...</td>\n",
       "      <td>NaN</td>\n",
       "      <td>NaN</td>\n",
       "    </tr>\n",
       "  </tbody>\n",
       "</table>\n",
       "</div>"
      ],
      "text/plain": [
       "   id                                       job_title       location  \\\n",
       "0   1  Facility Maintenance & Smart Warehouse Manager        Bandung   \n",
       "1   2                     Procurement Department Head   Jakarta Raya   \n",
       "2   3                                     SALES ADMIN  Jakarta Barat   \n",
       "3   4    City Operation Lead Shopee Express (Cirebon)        Cirebon   \n",
       "4   5                            Japanese Interpreter         Bekasi   \n",
       "\n",
       "  salary_currency                              career_level experience_level  \\\n",
       "0             IDR                   Manajer/Asisten Manajer          5 tahun   \n",
       "1             IDR                   Manajer/Asisten Manajer          5 tahun   \n",
       "2             IDR                    Supervisor/Koordinator          4 tahun   \n",
       "3             IDR                    Supervisor/Koordinator          5 tahun   \n",
       "4             IDR  Pegawai (non-manajemen & non-supervisor)          2 tahun   \n",
       "\n",
       "                                     education_level employment_type  \\\n",
       "0  Sertifikat Professional, D3 (Diploma), D4 (Dip...     Penuh Waktu   \n",
       "1  Sarjana (S1), Diploma Pascasarjana, Gelar Prof...     Penuh Waktu   \n",
       "2                                       Sarjana (S1)     Penuh Waktu   \n",
       "3  Sarjana (S1), Diploma Pascasarjana, Gelar Prof...     Penuh Waktu   \n",
       "4  Sertifikat Professional, D3 (Diploma), D4 (Dip...     Penuh Waktu   \n",
       "\n",
       "                              job_function  \\\n",
       "0                  Manufaktur,Pemeliharaan   \n",
       "1  Manufaktur,Pembelian/Manajemen Material   \n",
       "2    Penjualan / Pemasaran,Penjualan Ritel   \n",
       "3        Pelayanan,Logistik/Rantai Pasokan   \n",
       "4                  Lainnya,Jurnalis/Editor   \n",
       "\n",
       "                                        job_benefits company_process_time  \\\n",
       "0                                                NaN                  NaN   \n",
       "1                                                NaN              25 days   \n",
       "2  Waktu regular, Senin - Jumat;Bisnis (contoh: K...              30 days   \n",
       "3  Tip;Waktu regular, Senin - Jumat;Kasual (conto...              21 days   \n",
       "4                                                NaN              23 days   \n",
       "\n",
       "          company_size         company_industry  \\\n",
       "0                  NaN                      NaN   \n",
       "1     51 - 200 pekerja  Manajemen/Konsulting HR   \n",
       "2     51 - 200 pekerja            Umum & Grosir   \n",
       "3  2001 - 5000 pekerja       Retail/Merchandise   \n",
       "4    201 - 500 pekerja  Manajemen/Konsulting HR   \n",
       "\n",
       "                                     job_description  salary is_assur  \n",
       "0  Deskripsi PekerjaanRequirements :D3/SI from re...     NaN      NaN  \n",
       "1  Job Role: 1. Responsible for material availabi...     NaN      NaN  \n",
       "2  Internal Sales & AdminJob Description :We are ...     NaN    False  \n",
       "3  Job Description:Responsible for HSE implementa...     NaN    False  \n",
       "4  Overview: Our clients is manufacture for autom...     NaN      NaN  "
      ]
     },
     "execution_count": 10,
     "metadata": {},
     "output_type": "execute_result"
    }
   ],
   "source": [
    "df.head()"
   ]
  },
  {
   "cell_type": "code",
   "execution_count": null,
   "metadata": {
    "vscode": {
     "languageId": "python"
    }
   },
   "outputs": [],
   "source": []
  },
  {
   "cell_type": "code",
   "execution_count": 9,
   "metadata": {
    "vscode": {
     "languageId": "python"
    }
   },
   "outputs": [
    {
     "data": {
      "text/plain": [
       "Index(['id', 'job_title', 'location', 'salary_currency', 'career_level',\n",
       "       'experience_level', 'education_level', 'employment_type',\n",
       "       'job_function', 'job_benefits', 'company_process_time', 'company_size',\n",
       "       'company_industry', 'job_description', 'salary'],\n",
       "      dtype='object')"
      ]
     },
     "execution_count": 9,
     "metadata": {},
     "output_type": "execute_result"
    }
   ],
   "source": [
    "df.columns"
   ]
  },
  {
   "cell_type": "code",
   "execution_count": 11,
   "metadata": {
    "vscode": {
     "languageId": "python"
    }
   },
   "outputs": [
    {
     "data": {
      "text/plain": [
       "id                          0\n",
       "job_title                   0\n",
       "location                    0\n",
       "salary_currency             3\n",
       "career_level                0\n",
       "experience_level         4771\n",
       "education_level             0\n",
       "employment_type          1494\n",
       "job_function                0\n",
       "job_benefits             7299\n",
       "company_process_time    10057\n",
       "company_size             5644\n",
       "company_industry         1659\n",
       "job_description             2\n",
       "salary                  27783\n",
       "dtype: int64"
      ]
     },
     "execution_count": 11,
     "metadata": {},
     "output_type": "execute_result"
    }
   ],
   "source": [
    "df.isnull().sum()"
   ]
  },
  {
   "cell_type": "code",
   "execution_count": 15,
   "metadata": {
    "vscode": {
     "languageId": "python"
    }
   },
   "outputs": [
    {
     "data": {
      "text/plain": [
       "6896"
      ]
     },
     "execution_count": 15,
     "metadata": {},
     "output_type": "execute_result"
    }
   ],
   "source": [
    "len(df) - 27783"
   ]
  },
  {
   "cell_type": "code",
   "execution_count": 18,
   "metadata": {
    "vscode": {
     "languageId": "python"
    }
   },
   "outputs": [
    {
     "data": {
      "text/html": [
       "<div>\n",
       "<style scoped>\n",
       "    .dataframe tbody tr th:only-of-type {\n",
       "        vertical-align: middle;\n",
       "    }\n",
       "\n",
       "    .dataframe tbody tr th {\n",
       "        vertical-align: top;\n",
       "    }\n",
       "\n",
       "    .dataframe thead th {\n",
       "        text-align: right;\n",
       "    }\n",
       "</style>\n",
       "<table border=\"1\" class=\"dataframe\">\n",
       "  <thead>\n",
       "    <tr style=\"text-align: right;\">\n",
       "      <th></th>\n",
       "      <th>job_title</th>\n",
       "      <th>location</th>\n",
       "      <th>salary_currency</th>\n",
       "      <th>career_level</th>\n",
       "      <th>experience_level</th>\n",
       "      <th>education_level</th>\n",
       "      <th>employment_type</th>\n",
       "      <th>job_function</th>\n",
       "      <th>job_benefits</th>\n",
       "      <th>company_process_time</th>\n",
       "      <th>company_size</th>\n",
       "      <th>company_industry</th>\n",
       "      <th>job_description</th>\n",
       "      <th>salary</th>\n",
       "    </tr>\n",
       "  </thead>\n",
       "  <tbody>\n",
       "    <tr>\n",
       "      <th>5284</th>\n",
       "      <td>Regional Project Support</td>\n",
       "      <td>Makassar</td>\n",
       "      <td>IDR</td>\n",
       "      <td>Pegawai (non-manajemen &amp; non-supervisor)</td>\n",
       "      <td>1 tahun</td>\n",
       "      <td>Sarjana (S1)</td>\n",
       "      <td>Penuh Waktu</td>\n",
       "      <td>Bangunan/Konstruksi,Teknik Sipil/Konstruksi Ba...</td>\n",
       "      <td>Asuransi kesehatan;Waktu regular, Senin - Juma...</td>\n",
       "      <td>29 days</td>\n",
       "      <td>501 - 1000 pekerja</td>\n",
       "      <td>Telekomunikasi</td>\n",
       "      <td>·Membuat perencanaan dan eksekusi rencana kerj...</td>\n",
       "      <td>11500000.0</td>\n",
       "    </tr>\n",
       "    <tr>\n",
       "      <th>6825</th>\n",
       "      <td>ADMIN RESELLER PRODUK BABY</td>\n",
       "      <td>Jakarta Barat</td>\n",
       "      <td>IDR</td>\n",
       "      <td>Pegawai (non-manajemen &amp; non-supervisor)</td>\n",
       "      <td>2 tahun</td>\n",
       "      <td>SMA, SMU/SMK/STM, Sertifikat Professional, D3 ...</td>\n",
       "      <td>Kontrak</td>\n",
       "      <td>Penjualan / Pemasaran,Digital Marketing</td>\n",
       "      <td>Kasual (contoh: Kaos);BPJS, etc.;Senin - Sabtu</td>\n",
       "      <td>12 days</td>\n",
       "      <td>1- 50 pekerja</td>\n",
       "      <td>Retail/Merchandise</td>\n",
       "      <td>Kami merupakan Perusahaan yang bergerang di bi...</td>\n",
       "      <td>5250000.0</td>\n",
       "    </tr>\n",
       "    <tr>\n",
       "      <th>4598</th>\n",
       "      <td>Field Collection</td>\n",
       "      <td>Bengkulu</td>\n",
       "      <td>IDR</td>\n",
       "      <td>Lulusan baru/Pengalaman kerja kurang dari 1 tahun</td>\n",
       "      <td>NaN</td>\n",
       "      <td>SMA, SMU/SMK/STM</td>\n",
       "      <td>Kontrak</td>\n",
       "      <td>Akuntansi / Keuangan,Perbankan / Jasa Finansial</td>\n",
       "      <td>Asuransi Gigi;Asuransi kesehatan;Pinjaman;Olah...</td>\n",
       "      <td>16 days</td>\n",
       "      <td>Lebih dari 5000 pekerja</td>\n",
       "      <td>Perbankan/Pelayanan Keuangan</td>\n",
       "      <td>Deskripsi Pekerjaan Melakukan kunjungan langsu...</td>\n",
       "      <td>3000000.0</td>\n",
       "    </tr>\n",
       "    <tr>\n",
       "      <th>5286</th>\n",
       "      <td>Sales Manager</td>\n",
       "      <td>Banten</td>\n",
       "      <td>IDR</td>\n",
       "      <td>Manajer/Asisten Manajer</td>\n",
       "      <td>3 tahun</td>\n",
       "      <td>Tidak terspesifikasi</td>\n",
       "      <td>Kontrak</td>\n",
       "      <td>Lainnya,Lainnya/Kategori tidak tersedia</td>\n",
       "      <td>NaN</td>\n",
       "      <td>21 days</td>\n",
       "      <td>51 - 200 pekerja</td>\n",
       "      <td>Hotel/Pariwisata</td>\n",
       "      <td>Kualifikasi :Pendidikan S1 Ilmu KomunikasiMemp...</td>\n",
       "      <td>12000000.0</td>\n",
       "    </tr>\n",
       "    <tr>\n",
       "      <th>2027</th>\n",
       "      <td>Head of ERP Project Managers</td>\n",
       "      <td>Jakarta Raya</td>\n",
       "      <td>IDR</td>\n",
       "      <td>Manajer/Asisten Manajer</td>\n",
       "      <td>3 tahun</td>\n",
       "      <td>Sarjana (S1)</td>\n",
       "      <td>Penuh Waktu</td>\n",
       "      <td>Komputer/Teknologi Informasi,IT-Perangkat Lunak</td>\n",
       "      <td>Waktu regular, Senin - Jumat;Bisnis (contoh: K...</td>\n",
       "      <td>21 days</td>\n",
       "      <td>51 - 200 pekerja</td>\n",
       "      <td>Konsultasi (IT, Ilmu Pengetahuan, Teknis &amp; Tek...</td>\n",
       "      <td>About UsPort Cities has been awarded the Best ...</td>\n",
       "      <td>30000000.0</td>\n",
       "    </tr>\n",
       "    <tr>\n",
       "      <th>948</th>\n",
       "      <td>Counsellor (Sales Marketing)</td>\n",
       "      <td>Jakarta Raya</td>\n",
       "      <td>IDR</td>\n",
       "      <td>Pegawai (non-manajemen &amp; non-supervisor)</td>\n",
       "      <td>2 tahun</td>\n",
       "      <td>Sarjana (S1)</td>\n",
       "      <td>Penuh Waktu</td>\n",
       "      <td>Penjualan / Pemasaran,Telesales/Telemarketing</td>\n",
       "      <td>Asuransi kesehatan;Bisnis (contoh: Kemeja)</td>\n",
       "      <td>NaN</td>\n",
       "      <td>1- 50 pekerja</td>\n",
       "      <td>Pendidikan</td>\n",
       "      <td>Job Responsibities :Advise and assist clients ...</td>\n",
       "      <td>8250000.0</td>\n",
       "    </tr>\n",
       "    <tr>\n",
       "      <th>5903</th>\n",
       "      <td>Finance Manager</td>\n",
       "      <td>Jakarta Raya</td>\n",
       "      <td>IDR</td>\n",
       "      <td>Manajer/Asisten Manajer</td>\n",
       "      <td>10 tahun</td>\n",
       "      <td>Tidak terspesifikasi</td>\n",
       "      <td>Penuh Waktu</td>\n",
       "      <td>Akuntansi / Keuangan,Akuntansi Umum / Pembiayaan</td>\n",
       "      <td>NaN</td>\n",
       "      <td>28 days</td>\n",
       "      <td>2001 - 5000 pekerja</td>\n",
       "      <td>Pertambangan</td>\n",
       "      <td>Location: Jakarta/Sulawesi Tengah, more time b...</td>\n",
       "      <td>36000000.0</td>\n",
       "    </tr>\n",
       "    <tr>\n",
       "      <th>632</th>\n",
       "      <td>Purchasing Staff (Hasil Laut)</td>\n",
       "      <td>Maros</td>\n",
       "      <td>IDR</td>\n",
       "      <td>Lulusan baru/Pengalaman kerja kurang dari 1 tahun</td>\n",
       "      <td>3 tahun</td>\n",
       "      <td>Sertifikat Professional, D3 (Diploma), D4 (Dip...</td>\n",
       "      <td>Penuh Waktu</td>\n",
       "      <td>Manufaktur,Pembelian/Manajemen Material</td>\n",
       "      <td>Waktu regular, Senin - Jumat</td>\n",
       "      <td>NaN</td>\n",
       "      <td>1- 50 pekerja</td>\n",
       "      <td>Umum &amp; Grosir</td>\n",
       "      <td>Apabila diperlukan sewaktu-waktu, tidak kebera...</td>\n",
       "      <td>4250000.0</td>\n",
       "    </tr>\n",
       "    <tr>\n",
       "      <th>1804</th>\n",
       "      <td>Maintenance Staff</td>\n",
       "      <td>Cikarang</td>\n",
       "      <td>IDR</td>\n",
       "      <td>Pegawai (non-manajemen &amp; non-supervisor)</td>\n",
       "      <td>5 tahun</td>\n",
       "      <td>SMA, SMU/SMK/STM, Sertifikat Professional, D3 ...</td>\n",
       "      <td>Penuh Waktu</td>\n",
       "      <td>Manufaktur,Pemeliharaan</td>\n",
       "      <td>NaN</td>\n",
       "      <td>NaN</td>\n",
       "      <td>NaN</td>\n",
       "      <td>Manufaktur/Produksi</td>\n",
       "      <td>POSITION OBJECTIVES :To collaboratively work a...</td>\n",
       "      <td>6500000.0</td>\n",
       "    </tr>\n",
       "    <tr>\n",
       "      <th>5487</th>\n",
       "      <td>Software Quality Assurance Engineer (Software QA)</td>\n",
       "      <td>Bandung</td>\n",
       "      <td>IDR</td>\n",
       "      <td>Pegawai (non-manajemen &amp; non-supervisor)</td>\n",
       "      <td>2 tahun</td>\n",
       "      <td>Tidak terspesifikasi</td>\n",
       "      <td>Penuh Waktu</td>\n",
       "      <td>Komputer/Teknologi Informasi,IT-Perangkat Lunak</td>\n",
       "      <td>Asuransi kesehatan;Waktu regular, Senin - Juma...</td>\n",
       "      <td>NaN</td>\n",
       "      <td>51 - 200 pekerja</td>\n",
       "      <td>Komputer/Teknik Informatika (Perangkat Lunak)</td>\n",
       "      <td>​Job Description:Location: BANDUNG &amp; not remot...</td>\n",
       "      <td>7750000.0</td>\n",
       "    </tr>\n",
       "  </tbody>\n",
       "</table>\n",
       "</div>"
      ],
      "text/plain": [
       "                                              job_title       location  \\\n",
       "5284                           Regional Project Support       Makassar   \n",
       "6825                         ADMIN RESELLER PRODUK BABY  Jakarta Barat   \n",
       "4598                                   Field Collection       Bengkulu   \n",
       "5286                                      Sales Manager         Banten   \n",
       "2027                       Head of ERP Project Managers   Jakarta Raya   \n",
       "948                        Counsellor (Sales Marketing)   Jakarta Raya   \n",
       "5903                                    Finance Manager   Jakarta Raya   \n",
       "632                       Purchasing Staff (Hasil Laut)          Maros   \n",
       "1804                                  Maintenance Staff       Cikarang   \n",
       "5487  Software Quality Assurance Engineer (Software QA)        Bandung   \n",
       "\n",
       "     salary_currency                                       career_level  \\\n",
       "5284             IDR           Pegawai (non-manajemen & non-supervisor)   \n",
       "6825             IDR           Pegawai (non-manajemen & non-supervisor)   \n",
       "4598             IDR  Lulusan baru/Pengalaman kerja kurang dari 1 tahun   \n",
       "5286             IDR                            Manajer/Asisten Manajer   \n",
       "2027             IDR                            Manajer/Asisten Manajer   \n",
       "948              IDR           Pegawai (non-manajemen & non-supervisor)   \n",
       "5903             IDR                            Manajer/Asisten Manajer   \n",
       "632              IDR  Lulusan baru/Pengalaman kerja kurang dari 1 tahun   \n",
       "1804             IDR           Pegawai (non-manajemen & non-supervisor)   \n",
       "5487             IDR           Pegawai (non-manajemen & non-supervisor)   \n",
       "\n",
       "     experience_level                                    education_level  \\\n",
       "5284          1 tahun                                       Sarjana (S1)   \n",
       "6825          2 tahun  SMA, SMU/SMK/STM, Sertifikat Professional, D3 ...   \n",
       "4598              NaN                                   SMA, SMU/SMK/STM   \n",
       "5286          3 tahun                               Tidak terspesifikasi   \n",
       "2027          3 tahun                                       Sarjana (S1)   \n",
       "948           2 tahun                                       Sarjana (S1)   \n",
       "5903         10 tahun                               Tidak terspesifikasi   \n",
       "632           3 tahun  Sertifikat Professional, D3 (Diploma), D4 (Dip...   \n",
       "1804          5 tahun  SMA, SMU/SMK/STM, Sertifikat Professional, D3 ...   \n",
       "5487          2 tahun                               Tidak terspesifikasi   \n",
       "\n",
       "     employment_type                                       job_function  \\\n",
       "5284     Penuh Waktu  Bangunan/Konstruksi,Teknik Sipil/Konstruksi Ba...   \n",
       "6825         Kontrak            Penjualan / Pemasaran,Digital Marketing   \n",
       "4598         Kontrak   Akuntansi / Keuangan,Perbankan / Jasa Finansial    \n",
       "5286         Kontrak            Lainnya,Lainnya/Kategori tidak tersedia   \n",
       "2027     Penuh Waktu    Komputer/Teknologi Informasi,IT-Perangkat Lunak   \n",
       "948      Penuh Waktu      Penjualan / Pemasaran,Telesales/Telemarketing   \n",
       "5903     Penuh Waktu   Akuntansi / Keuangan,Akuntansi Umum / Pembiayaan   \n",
       "632      Penuh Waktu            Manufaktur,Pembelian/Manajemen Material   \n",
       "1804     Penuh Waktu                            Manufaktur,Pemeliharaan   \n",
       "5487     Penuh Waktu    Komputer/Teknologi Informasi,IT-Perangkat Lunak   \n",
       "\n",
       "                                           job_benefits company_process_time  \\\n",
       "5284  Asuransi kesehatan;Waktu regular, Senin - Juma...              29 days   \n",
       "6825     Kasual (contoh: Kaos);BPJS, etc.;Senin - Sabtu              12 days   \n",
       "4598  Asuransi Gigi;Asuransi kesehatan;Pinjaman;Olah...              16 days   \n",
       "5286                                                NaN              21 days   \n",
       "2027  Waktu regular, Senin - Jumat;Bisnis (contoh: K...              21 days   \n",
       "948          Asuransi kesehatan;Bisnis (contoh: Kemeja)                  NaN   \n",
       "5903                                                NaN              28 days   \n",
       "632                        Waktu regular, Senin - Jumat                  NaN   \n",
       "1804                                                NaN                  NaN   \n",
       "5487  Asuransi kesehatan;Waktu regular, Senin - Juma...                  NaN   \n",
       "\n",
       "                 company_size  \\\n",
       "5284       501 - 1000 pekerja   \n",
       "6825            1- 50 pekerja   \n",
       "4598  Lebih dari 5000 pekerja   \n",
       "5286         51 - 200 pekerja   \n",
       "2027         51 - 200 pekerja   \n",
       "948             1- 50 pekerja   \n",
       "5903      2001 - 5000 pekerja   \n",
       "632             1- 50 pekerja   \n",
       "1804                      NaN   \n",
       "5487         51 - 200 pekerja   \n",
       "\n",
       "                                       company_industry  \\\n",
       "5284                                     Telekomunikasi   \n",
       "6825                                 Retail/Merchandise   \n",
       "4598                       Perbankan/Pelayanan Keuangan   \n",
       "5286                                   Hotel/Pariwisata   \n",
       "2027  Konsultasi (IT, Ilmu Pengetahuan, Teknis & Tek...   \n",
       "948                                          Pendidikan   \n",
       "5903                                       Pertambangan   \n",
       "632                                       Umum & Grosir   \n",
       "1804                                Manufaktur/Produksi   \n",
       "5487      Komputer/Teknik Informatika (Perangkat Lunak)   \n",
       "\n",
       "                                        job_description      salary  \n",
       "5284  ·Membuat perencanaan dan eksekusi rencana kerj...  11500000.0  \n",
       "6825  Kami merupakan Perusahaan yang bergerang di bi...   5250000.0  \n",
       "4598  Deskripsi Pekerjaan Melakukan kunjungan langsu...   3000000.0  \n",
       "5286  Kualifikasi :Pendidikan S1 Ilmu KomunikasiMemp...  12000000.0  \n",
       "2027  About UsPort Cities has been awarded the Best ...  30000000.0  \n",
       "948   Job Responsibities :Advise and assist clients ...   8250000.0  \n",
       "5903  Location: Jakarta/Sulawesi Tengah, more time b...  36000000.0  \n",
       "632   Apabila diperlukan sewaktu-waktu, tidak kebera...   4250000.0  \n",
       "1804  POSITION OBJECTIVES :To collaboratively work a...   6500000.0  \n",
       "5487  ​Job Description:Location: BANDUNG & not remot...   7750000.0  "
      ]
     },
     "execution_count": 18,
     "metadata": {},
     "output_type": "execute_result"
    }
   ],
   "source": [
    "df2 = df[~(df.salary.isnull())].reset_index(drop = True)\n",
    "del df2['id']\n",
    "\n",
    "df2.sample(10)"
   ]
  },
  {
   "cell_type": "code",
   "execution_count": 21,
   "metadata": {
    "vscode": {
     "languageId": "python"
    }
   },
   "outputs": [
    {
     "data": {
      "text/plain": [
       "<AxesSubplot:>"
      ]
     },
     "execution_count": 21,
     "metadata": {},
     "output_type": "execute_result"
    },
    {
     "data": {
      "image/png": "[encoded data removed]",
      "text/plain": [
       "<Figure size 432x288 with 1 Axes>"
      ]
     },
     "metadata": {
      "needs_background": "light"
     },
     "output_type": "display_data"
    }
   ],
   "source": [
    "df2.salary.plot(kind = 'box')"
   ]
  },
  {
   "cell_type": "code",
   "execution_count": 22,
   "metadata": {
    "vscode": {
     "languageId": "python"
    }
   },
   "outputs": [
    {
     "data": {
      "text/plain": [
       "<AxesSubplot:ylabel='Frequency'>"
      ]
     },
     "execution_count": 22,
     "metadata": {},
     "output_type": "execute_result"
    },
    {
     "data": {
      "image/png": "[encoded data removed]",
      "text/plain": [
       "<Figure size 432x288 with 1 Axes>"
      ]
     },
     "metadata": {
      "needs_background": "light"
     },
     "output_type": "display_data"
    }
   ],
   "source": [
    "df2.salary.plot(kind = 'hist')"
   ]
  },
  {
   "cell_type": "code",
   "execution_count": 23,
   "metadata": {
    "vscode": {
     "languageId": "python"
    }
   },
   "outputs": [
    {
     "data": {
      "text/plain": [
       "count    6.896000e+03\n",
       "mean     7.061586e+06\n",
       "std      5.747981e+06\n",
       "min      1.000000e+01\n",
       "25%      4.250000e+06\n",
       "50%      5.500000e+06\n",
       "75%      8.000000e+06\n",
       "max      1.150000e+08\n",
       "Name: salary, dtype: float64"
      ]
     },
     "execution_count": 23,
     "metadata": {},
     "output_type": "execute_result"
    }
   ],
   "source": [
    "df2.salary.describe()"
   ]
  },
  {
   "cell_type": "code",
   "execution_count": 32,
   "metadata": {
    "vscode": {
     "languageId": "python"
    }
   },
   "outputs": [
    {
     "data": {
      "text/html": [
       "<div>\n",
       "<style scoped>\n",
       "    .dataframe tbody tr th:only-of-type {\n",
       "        vertical-align: middle;\n",
       "    }\n",
       "\n",
       "    .dataframe tbody tr th {\n",
       "        vertical-align: top;\n",
       "    }\n",
       "\n",
       "    .dataframe thead th {\n",
       "        text-align: right;\n",
       "    }\n",
       "</style>\n",
       "<table border=\"1\" class=\"dataframe\">\n",
       "  <thead>\n",
       "    <tr style=\"text-align: right;\">\n",
       "      <th></th>\n",
       "      <th>job_title</th>\n",
       "      <th>location</th>\n",
       "      <th>salary_currency</th>\n",
       "      <th>career_level</th>\n",
       "      <th>experience_level</th>\n",
       "      <th>education_level</th>\n",
       "      <th>employment_type</th>\n",
       "      <th>job_function</th>\n",
       "      <th>job_benefits</th>\n",
       "      <th>company_process_time</th>\n",
       "      <th>company_size</th>\n",
       "      <th>company_industry</th>\n",
       "      <th>job_description</th>\n",
       "      <th>salary</th>\n",
       "      <th>desc_len</th>\n",
       "    </tr>\n",
       "  </thead>\n",
       "  <tbody>\n",
       "    <tr>\n",
       "      <th>31</th>\n",
       "      <td>Digital and Social Media Executive (Travel &amp; L...</td>\n",
       "      <td>Jakarta Pusat</td>\n",
       "      <td>USD</td>\n",
       "      <td>Pegawai (non-manajemen &amp; non-supervisor)</td>\n",
       "      <td>2 tahun</td>\n",
       "      <td>Sarjana (S1)</td>\n",
       "      <td>Penuh Waktu</td>\n",
       "      <td>Penjualan / Pemasaran,Digital Marketing</td>\n",
       "      <td>Waktu regular, Senin - Jumat</td>\n",
       "      <td>29 days</td>\n",
       "      <td>1- 50 pekerja</td>\n",
       "      <td>Periklanan/Marketing/Promosi/Hubungan Masyarakat</td>\n",
       "      <td>DIGITAL / SOCIAL MEDIA EXECUTIVEWe are recruit...</td>\n",
       "      <td>665.0</td>\n",
       "      <td>388</td>\n",
       "    </tr>\n",
       "    <tr>\n",
       "      <th>1038</th>\n",
       "      <td>Freelance Senior Programmer Aplikasi Pendidikan</td>\n",
       "      <td>Jakarta Raya</td>\n",
       "      <td>IDR</td>\n",
       "      <td>Manajer/Asisten Manajer</td>\n",
       "      <td>4 tahun</td>\n",
       "      <td>Sertifikat Professional, D3 (Diploma), D4 (Dip...</td>\n",
       "      <td>Paruh Waktu</td>\n",
       "      <td>Komputer/Teknologi Informasi,IT-Perangkat Lunak</td>\n",
       "      <td>Asuransi Gigi;Tunjangan Pendidikan;Asuransi ke...</td>\n",
       "      <td>NaN</td>\n",
       "      <td>201 - 500 pekerja</td>\n",
       "      <td>Konsultasi (IT, Ilmu Pengetahuan, Teknis &amp; Tek...</td>\n",
       "      <td>Deskripsi Pekerjaan:Sebuah perusahaan yang sed...</td>\n",
       "      <td>10.0</td>\n",
       "      <td>186</td>\n",
       "    </tr>\n",
       "    <tr>\n",
       "      <th>4762</th>\n",
       "      <td>Project Specialist</td>\n",
       "      <td>Sleman</td>\n",
       "      <td>IDR</td>\n",
       "      <td>Supervisor/Koordinator</td>\n",
       "      <td>1 tahun</td>\n",
       "      <td>Tidak terspesifikasi</td>\n",
       "      <td>Paruh Waktu</td>\n",
       "      <td>Seni/Media/Komunikasi,Periklanan</td>\n",
       "      <td>Kasual (contoh: Kaos);Team bonding event, flex...</td>\n",
       "      <td>NaN</td>\n",
       "      <td>1- 50 pekerja</td>\n",
       "      <td>Periklanan/Marketing/Promosi/Hubungan Masyarakat</td>\n",
       "      <td>Job DescriptionMembuat draft visual awal untuk...</td>\n",
       "      <td>10.0</td>\n",
       "      <td>86</td>\n",
       "    </tr>\n",
       "    <tr>\n",
       "      <th>5949</th>\n",
       "      <td>Freelance Senior Programmer Aplikasi Pendidikan</td>\n",
       "      <td>Jakarta Raya</td>\n",
       "      <td>IDR</td>\n",
       "      <td>Manajer/Asisten Manajer</td>\n",
       "      <td>4 tahun</td>\n",
       "      <td>Sertifikat Professional, D3 (Diploma), D4 (Dip...</td>\n",
       "      <td>Paruh Waktu</td>\n",
       "      <td>Komputer/Teknologi Informasi,IT-Perangkat Lunak</td>\n",
       "      <td>Asuransi Gigi;Tunjangan Pendidikan;Asuransi ke...</td>\n",
       "      <td>NaN</td>\n",
       "      <td>201 - 500 pekerja</td>\n",
       "      <td>Konsultasi (IT, Ilmu Pengetahuan, Teknis &amp; Tek...</td>\n",
       "      <td>Deskripsi Pekerjaan:Sebuah perusahaan yang sed...</td>\n",
       "      <td>10.0</td>\n",
       "      <td>186</td>\n",
       "    </tr>\n",
       "  </tbody>\n",
       "</table>\n",
       "</div>"
      ],
      "text/plain": [
       "                                              job_title       location  \\\n",
       "31    Digital and Social Media Executive (Travel & L...  Jakarta Pusat   \n",
       "1038    Freelance Senior Programmer Aplikasi Pendidikan   Jakarta Raya   \n",
       "4762                                 Project Specialist         Sleman   \n",
       "5949    Freelance Senior Programmer Aplikasi Pendidikan   Jakarta Raya   \n",
       "\n",
       "     salary_currency                              career_level  \\\n",
       "31               USD  Pegawai (non-manajemen & non-supervisor)   \n",
       "1038             IDR                   Manajer/Asisten Manajer   \n",
       "4762             IDR                    Supervisor/Koordinator   \n",
       "5949             IDR                   Manajer/Asisten Manajer   \n",
       "\n",
       "     experience_level                                    education_level  \\\n",
       "31            2 tahun                                       Sarjana (S1)   \n",
       "1038          4 tahun  Sertifikat Professional, D3 (Diploma), D4 (Dip...   \n",
       "4762          1 tahun                               Tidak terspesifikasi   \n",
       "5949          4 tahun  Sertifikat Professional, D3 (Diploma), D4 (Dip...   \n",
       "\n",
       "     employment_type                                     job_function  \\\n",
       "31       Penuh Waktu          Penjualan / Pemasaran,Digital Marketing   \n",
       "1038     Paruh Waktu  Komputer/Teknologi Informasi,IT-Perangkat Lunak   \n",
       "4762     Paruh Waktu                 Seni/Media/Komunikasi,Periklanan   \n",
       "5949     Paruh Waktu  Komputer/Teknologi Informasi,IT-Perangkat Lunak   \n",
       "\n",
       "                                           job_benefits company_process_time  \\\n",
       "31                         Waktu regular, Senin - Jumat              29 days   \n",
       "1038  Asuransi Gigi;Tunjangan Pendidikan;Asuransi ke...                  NaN   \n",
       "4762  Kasual (contoh: Kaos);Team bonding event, flex...                  NaN   \n",
       "5949  Asuransi Gigi;Tunjangan Pendidikan;Asuransi ke...                  NaN   \n",
       "\n",
       "           company_size                                   company_industry  \\\n",
       "31        1- 50 pekerja   Periklanan/Marketing/Promosi/Hubungan Masyarakat   \n",
       "1038  201 - 500 pekerja  Konsultasi (IT, Ilmu Pengetahuan, Teknis & Tek...   \n",
       "4762      1- 50 pekerja   Periklanan/Marketing/Promosi/Hubungan Masyarakat   \n",
       "5949  201 - 500 pekerja  Konsultasi (IT, Ilmu Pengetahuan, Teknis & Tek...   \n",
       "\n",
       "                                        job_description  salary  desc_len  \n",
       "31    DIGITAL / SOCIAL MEDIA EXECUTIVEWe are recruit...   665.0       388  \n",
       "1038  Deskripsi Pekerjaan:Sebuah perusahaan yang sed...    10.0       186  \n",
       "4762  Job DescriptionMembuat draft visual awal untuk...    10.0        86  \n",
       "5949  Deskripsi Pekerjaan:Sebuah perusahaan yang sed...    10.0       186  "
      ]
     },
     "execution_count": 32,
     "metadata": {},
     "output_type": "execute_result"
    }
   ],
   "source": [
    "df2[df2.salary<2000]"
   ]
  },
  {
   "cell_type": "code",
   "execution_count": 33,
   "metadata": {
    "vscode": {
     "languageId": "python"
    }
   },
   "outputs": [
    {
     "data": {
      "text/html": [
       "<div>\n",
       "<style scoped>\n",
       "    .dataframe tbody tr th:only-of-type {\n",
       "        vertical-align: middle;\n",
       "    }\n",
       "\n",
       "    .dataframe tbody tr th {\n",
       "        vertical-align: top;\n",
       "    }\n",
       "\n",
       "    .dataframe thead th {\n",
       "        text-align: right;\n",
       "    }\n",
       "</style>\n",
       "<table border=\"1\" class=\"dataframe\">\n",
       "  <thead>\n",
       "    <tr style=\"text-align: right;\">\n",
       "      <th></th>\n",
       "      <th>job_title</th>\n",
       "      <th>location</th>\n",
       "      <th>salary_currency</th>\n",
       "      <th>career_level</th>\n",
       "      <th>experience_level</th>\n",
       "      <th>education_level</th>\n",
       "      <th>employment_type</th>\n",
       "      <th>job_function</th>\n",
       "      <th>job_benefits</th>\n",
       "      <th>company_process_time</th>\n",
       "      <th>company_size</th>\n",
       "      <th>company_industry</th>\n",
       "      <th>job_description</th>\n",
       "      <th>salary</th>\n",
       "      <th>desc_len</th>\n",
       "    </tr>\n",
       "  </thead>\n",
       "  <tbody>\n",
       "    <tr>\n",
       "      <th>31</th>\n",
       "      <td>Digital and Social Media Executive (Travel &amp; L...</td>\n",
       "      <td>Jakarta Pusat</td>\n",
       "      <td>USD</td>\n",
       "      <td>Pegawai (non-manajemen &amp; non-supervisor)</td>\n",
       "      <td>2 tahun</td>\n",
       "      <td>Sarjana (S1)</td>\n",
       "      <td>Penuh Waktu</td>\n",
       "      <td>Penjualan / Pemasaran,Digital Marketing</td>\n",
       "      <td>Waktu regular, Senin - Jumat</td>\n",
       "      <td>29 days</td>\n",
       "      <td>1- 50 pekerja</td>\n",
       "      <td>Periklanan/Marketing/Promosi/Hubungan Masyarakat</td>\n",
       "      <td>DIGITAL / SOCIAL MEDIA EXECUTIVEWe are recruit...</td>\n",
       "      <td>665.0</td>\n",
       "      <td>388</td>\n",
       "    </tr>\n",
       "  </tbody>\n",
       "</table>\n",
       "</div>"
      ],
      "text/plain": [
       "                                            job_title       location  \\\n",
       "31  Digital and Social Media Executive (Travel & L...  Jakarta Pusat   \n",
       "\n",
       "   salary_currency                              career_level experience_level  \\\n",
       "31             USD  Pegawai (non-manajemen & non-supervisor)          2 tahun   \n",
       "\n",
       "   education_level employment_type                             job_function  \\\n",
       "31    Sarjana (S1)     Penuh Waktu  Penjualan / Pemasaran,Digital Marketing   \n",
       "\n",
       "                    job_benefits company_process_time   company_size  \\\n",
       "31  Waktu regular, Senin - Jumat              29 days  1- 50 pekerja   \n",
       "\n",
       "                                    company_industry  \\\n",
       "31  Periklanan/Marketing/Promosi/Hubungan Masyarakat   \n",
       "\n",
       "                                      job_description  salary  desc_len  \n",
       "31  DIGITAL / SOCIAL MEDIA EXECUTIVEWe are recruit...   665.0       388  "
      ]
     },
     "execution_count": 33,
     "metadata": {},
     "output_type": "execute_result"
    }
   ],
   "source": [
    "df2[df2.salary_currency!='IDR']"
   ]
  },
  {
   "cell_type": "code",
   "execution_count": 67,
   "metadata": {
    "vscode": {
     "languageId": "python"
    }
   },
   "outputs": [],
   "source": [
    "df2['salary_base'] = np.where(df2.salary_currency!='IDR', df2.salary*15000, df2.salary)\n",
    "df3 = df2[(df2.salary_base>=2000000)].reset_index(drop=True)"
   ]
  },
  {
   "cell_type": "code",
   "execution_count": 68,
   "metadata": {
    "vscode": {
     "languageId": "python"
    }
   },
   "outputs": [
    {
     "data": {
      "text/plain": [
       "(6840, 16)"
      ]
     },
     "execution_count": 68,
     "metadata": {},
     "output_type": "execute_result"
    }
   ],
   "source": [
    "df3.shape"
   ]
  },
  {
   "cell_type": "markdown",
   "metadata": {},
   "source": [
    "## Feature engineering\n",
    "\n",
    "* experience level\n",
    "* career level"
   ]
  },
  {
   "cell_type": "code",
   "execution_count": 69,
   "metadata": {
    "vscode": {
     "languageId": "python"
    }
   },
   "outputs": [],
   "source": [
    "# df2['desc_len'] = df3.job_description.apply(lambda x : len(x.split(' ')))"
   ]
  },
  {
   "cell_type": "code",
   "execution_count": 70,
   "metadata": {
    "vscode": {
     "languageId": "python"
    }
   },
   "outputs": [
    {
     "data": {
      "text/plain": [
       "experience_level\n",
       "1 tahun     2218\n",
       "10 tahun      58\n",
       "11 tahun       2\n",
       "12 tahun       6\n",
       "15 tahun       9\n",
       "17 tahun       1\n",
       "2 tahun     1907\n",
       "20 tahun       2\n",
       "3 tahun     1208\n",
       "4 tahun      128\n",
       "5 tahun      651\n",
       "6 tahun       18\n",
       "7 tahun       36\n",
       "8 tahun       35\n",
       "dtype: int64"
      ]
     },
     "execution_count": 70,
     "metadata": {},
     "output_type": "execute_result"
    }
   ],
   "source": [
    "df3.groupby(['experience_level']).size()"
   ]
  },
  {
   "cell_type": "code",
   "execution_count": 71,
   "metadata": {
    "vscode": {
     "languageId": "python"
    }
   },
   "outputs": [],
   "source": [
    "df3['experience_level2'] = df3['experience_level'].fillna('1 tahun')\n",
    "df3['f1'] = df3['experience_level2'].apply(lambda x : x.split(' ')[0]).astype(int)"
   ]
  },
  {
   "cell_type": "code",
   "execution_count": 72,
   "metadata": {
    "vscode": {
     "languageId": "python"
    }
   },
   "outputs": [
    {
     "data": {
      "text/plain": [
       "array(['Supervisor/Koordinator',\n",
       "       'Pegawai (non-manajemen & non-supervisor)',\n",
       "       'Manajer/Asisten Manajer',\n",
       "       'Lulusan baru/Pengalaman kerja kurang dari 1 tahun',\n",
       "       'CEO/GM/Direktur/Manajer Senior'], dtype=object)"
      ]
     },
     "execution_count": 72,
     "metadata": {},
     "output_type": "execute_result"
    }
   ],
   "source": [
    "df3.career_level.unique()"
   ]
  },
  {
   "cell_type": "code",
   "execution_count": 73,
   "metadata": {
    "vscode": {
     "languageId": "python"
    }
   },
   "outputs": [
    {
     "data": {
      "text/plain": [
       "LabelEncoder()"
      ]
     },
     "execution_count": 73,
     "metadata": {},
     "output_type": "execute_result"
    }
   ],
   "source": [
    "le = LabelEncoder()\n",
    "le.fit(df3.career_level)"
   ]
  },
  {
   "cell_type": "code",
   "execution_count": 74,
   "metadata": {
    "vscode": {
     "languageId": "python"
    }
   },
   "outputs": [],
   "source": [
    "df3['f2'] = le.transform(df3.career_level)"
   ]
  },
  {
   "cell_type": "code",
   "execution_count": 75,
   "metadata": {
    "vscode": {
     "languageId": "python"
    }
   },
   "outputs": [
    {
     "data": {
      "text/html": [
       "<div>\n",
       "<style scoped>\n",
       "    .dataframe tbody tr th:only-of-type {\n",
       "        vertical-align: middle;\n",
       "    }\n",
       "\n",
       "    .dataframe tbody tr th {\n",
       "        vertical-align: top;\n",
       "    }\n",
       "\n",
       "    .dataframe thead th {\n",
       "        text-align: right;\n",
       "    }\n",
       "</style>\n",
       "<table border=\"1\" class=\"dataframe\">\n",
       "  <thead>\n",
       "    <tr style=\"text-align: right;\">\n",
       "      <th></th>\n",
       "      <th>f1</th>\n",
       "      <th>f2</th>\n",
       "      <th>salary_base</th>\n",
       "    </tr>\n",
       "  </thead>\n",
       "  <tbody>\n",
       "    <tr>\n",
       "      <th>0</th>\n",
       "      <td>1</td>\n",
       "      <td>4</td>\n",
       "      <td>10500000.0</td>\n",
       "    </tr>\n",
       "    <tr>\n",
       "      <th>1</th>\n",
       "      <td>3</td>\n",
       "      <td>4</td>\n",
       "      <td>8000000.0</td>\n",
       "    </tr>\n",
       "    <tr>\n",
       "      <th>2</th>\n",
       "      <td>1</td>\n",
       "      <td>3</td>\n",
       "      <td>4750000.0</td>\n",
       "    </tr>\n",
       "    <tr>\n",
       "      <th>3</th>\n",
       "      <td>2</td>\n",
       "      <td>3</td>\n",
       "      <td>5250000.0</td>\n",
       "    </tr>\n",
       "    <tr>\n",
       "      <th>4</th>\n",
       "      <td>2</td>\n",
       "      <td>2</td>\n",
       "      <td>15000000.0</td>\n",
       "    </tr>\n",
       "    <tr>\n",
       "      <th>...</th>\n",
       "      <td>...</td>\n",
       "      <td>...</td>\n",
       "      <td>...</td>\n",
       "    </tr>\n",
       "    <tr>\n",
       "      <th>6835</th>\n",
       "      <td>2</td>\n",
       "      <td>3</td>\n",
       "      <td>6000000.0</td>\n",
       "    </tr>\n",
       "    <tr>\n",
       "      <th>6836</th>\n",
       "      <td>5</td>\n",
       "      <td>0</td>\n",
       "      <td>12500000.0</td>\n",
       "    </tr>\n",
       "    <tr>\n",
       "      <th>6837</th>\n",
       "      <td>1</td>\n",
       "      <td>3</td>\n",
       "      <td>4200000.0</td>\n",
       "    </tr>\n",
       "    <tr>\n",
       "      <th>6838</th>\n",
       "      <td>2</td>\n",
       "      <td>3</td>\n",
       "      <td>4500000.0</td>\n",
       "    </tr>\n",
       "    <tr>\n",
       "      <th>6839</th>\n",
       "      <td>5</td>\n",
       "      <td>2</td>\n",
       "      <td>15000000.0</td>\n",
       "    </tr>\n",
       "  </tbody>\n",
       "</table>\n",
       "<p>6840 rows × 3 columns</p>\n",
       "</div>"
      ],
      "text/plain": [
       "      f1  f2  salary_base\n",
       "0      1   4   10500000.0\n",
       "1      3   4    8000000.0\n",
       "2      1   3    4750000.0\n",
       "3      2   3    5250000.0\n",
       "4      2   2   15000000.0\n",
       "...   ..  ..          ...\n",
       "6835   2   3    6000000.0\n",
       "6836   5   0   12500000.0\n",
       "6837   1   3    4200000.0\n",
       "6838   2   3    4500000.0\n",
       "6839   5   2   15000000.0\n",
       "\n",
       "[6840 rows x 3 columns]"
      ]
     },
     "execution_count": 75,
     "metadata": {},
     "output_type": "execute_result"
    }
   ],
   "source": [
    "df3[['f1','f2','salary_base']]"
   ]
  },
  {
   "cell_type": "code",
   "execution_count": 76,
   "metadata": {
    "vscode": {
     "languageId": "python"
    }
   },
   "outputs": [
    {
     "data": {
      "text/plain": [
       "OneHotEncoder()"
      ]
     },
     "execution_count": 76,
     "metadata": {},
     "output_type": "execute_result"
    }
   ],
   "source": [
    "enc = OneHotEncoder()\n",
    "enc.fit(df3[['f2']])"
   ]
  },
  {
   "cell_type": "code",
   "execution_count": 79,
   "metadata": {
    "vscode": {
     "languageId": "python"
    }
   },
   "outputs": [],
   "source": [
    "new_cols = ['f2_'+ str(i) for i in range(5)]\n",
    "df_onehot = pd.DataFrame(enc.transform(df3[['f2']]).toarray(), columns=new_cols)\n",
    "df1 = pd.concat([df3[['f1','salary_base']], df_onehot], axis = 1)"
   ]
  },
  {
   "cell_type": "code",
   "execution_count": 82,
   "metadata": {
    "vscode": {
     "languageId": "python"
    }
   },
   "outputs": [],
   "source": [
    "X = df1[['f1']+new_cols]\n",
    "y = df1['salary_base']"
   ]
  },
  {
   "cell_type": "code",
   "execution_count": 88,
   "metadata": {
    "vscode": {
     "languageId": "python"
    }
   },
   "outputs": [],
   "source": [
    "X_train, X_test, y_train, y_test = train_test_split(X, y, test_size=0.25, random_state=42)"
   ]
  },
  {
   "cell_type": "code",
   "execution_count": 89,
   "metadata": {
    "vscode": {
     "languageId": "python"
    }
   },
   "outputs": [],
   "source": [
    "model1 = LinearRegression()"
   ]
  },
  {
   "cell_type": "code",
   "execution_count": 90,
   "metadata": {
    "vscode": {
     "languageId": "python"
    }
   },
   "outputs": [
    {
     "data": {
      "text/plain": [
       "LinearRegression()"
      ]
     },
     "execution_count": 90,
     "metadata": {},
     "output_type": "execute_result"
    }
   ],
   "source": [
    "model1.fit(X_train,y_train)"
   ]
  },
  {
   "cell_type": "code",
   "execution_count": 92,
   "metadata": {
    "vscode": {
     "languageId": "python"
    }
   },
   "outputs": [
    {
     "data": {
      "text/plain": [
       "array([ 5883904., 14064768.,  4601984., ...,  4601984., 14064768.,\n",
       "        9729408.])"
      ]
     },
     "execution_count": 92,
     "metadata": {},
     "output_type": "execute_result"
    }
   ],
   "source": [
    "model1.predict(X_test)"
   ]
  },
  {
   "cell_type": "code",
   "execution_count": 96,
   "metadata": {
    "vscode": {
     "languageId": "python"
    }
   },
   "outputs": [
    {
     "data": {
      "text/plain": [
       "4528745.598792697"
      ]
     },
     "execution_count": 96,
     "metadata": {},
     "output_type": "execute_result"
    }
   ],
   "source": [
    "np.sqrt(mean_squared_error(y_test,model1.predict(X_test)))"
   ]
  },
  {
   "cell_type": "code",
   "execution_count": 98,
   "metadata": {
    "vscode": {
     "languageId": "python"
    }
   },
   "outputs": [
    {
     "data": {
      "text/html": [
       "<div>\n",
       "<style scoped>\n",
       "    .dataframe tbody tr th:only-of-type {\n",
       "        vertical-align: middle;\n",
       "    }\n",
       "\n",
       "    .dataframe tbody tr th {\n",
       "        vertical-align: top;\n",
       "    }\n",
       "\n",
       "    .dataframe thead th {\n",
       "        text-align: right;\n",
       "    }\n",
       "</style>\n",
       "<table border=\"1\" class=\"dataframe\">\n",
       "  <thead>\n",
       "    <tr style=\"text-align: right;\">\n",
       "      <th></th>\n",
       "      <th>f1</th>\n",
       "      <th>salary_base</th>\n",
       "    </tr>\n",
       "  </thead>\n",
       "  <tbody>\n",
       "    <tr>\n",
       "      <th>f1</th>\n",
       "      <td>1.000000</td>\n",
       "      <td>0.569784</td>\n",
       "    </tr>\n",
       "    <tr>\n",
       "      <th>salary_base</th>\n",
       "      <td>0.569784</td>\n",
       "      <td>1.000000</td>\n",
       "    </tr>\n",
       "  </tbody>\n",
       "</table>\n",
       "</div>"
      ],
      "text/plain": [
       "                   f1  salary_base\n",
       "f1           1.000000     0.569784\n",
       "salary_base  0.569784     1.000000"
      ]
     },
     "execution_count": 98,
     "metadata": {},
     "output_type": "execute_result"
    }
   ],
   "source": [
    "df1[['f1','salary_base']].corr()"
   ]
  },
  {
   "cell_type": "code",
   "execution_count": null,
   "metadata": {
    "vscode": {
     "languageId": "python"
    }
   },
   "outputs": [],
   "source": []
  }
 ],
 "metadata": {
  "kernelspec": {
   "display_name": "droid1",
   "language": "python",
   "name": "droid1"
  },
  "orig_nbformat": 4
 },
 "nbformat": 4,
 "nbformat_minor": 2
}
